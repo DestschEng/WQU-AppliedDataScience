{
 "cells": [
  {
   "cell_type": "markdown",
   "id": "85053cae",
   "metadata": {
    "deletable": false,
    "editable": false
   },
   "source": [
    "\n",
    "<div class=\"alert alert-info\" role=\"alert\">\n",
    "  <p>\n",
    "    <center><b>Usage Guidelines</b></center>\n",
    "  </p>\n",
    "\n",
    "  <p>\n",
    "    This lesson is part of the <b>DS Lab core curriculum</b>. For that reason, this notebook can only be used on your WQU virtual machine.\n",
    "  </p>\n",
    "\n",
    "  <p>\n",
    "    This means:\n",
    "    <ul>\n",
    "      <li><span style=\"color: red\">ⓧ</span> No downloading this notebook.</li>\n",
    "      <li><span style=\"color: red\">ⓧ</span> No re-sharing of this notebook with friends or colleagues.</li>\n",
    "      <li><span style=\"color: red\">ⓧ</span> No downloading the embedded videos in this notebook.</li>\n",
    "      <li><span style=\"color: red\">ⓧ</span> No re-sharing embedded videos with friends or colleagues.</li>\n",
    "      <li><span style=\"color: red\">ⓧ</span> No adding this notebook to public or private repositories.</li>\n",
    "      <li><span style=\"color: red\">ⓧ</span> No uploading this notebook (or screenshots of it) to other websites, including websites for study resources.</li>\n",
    "    </ul>\n",
    "\n",
    "  </p>\n",
    "</div>\n"
   ]
  },
  {
   "cell_type": "markdown",
   "id": "ab19b46d-cafc-493e-8df2-031d35c9c87e",
   "metadata": {
    "deletable": false,
    "editable": false
   },
   "source": [
    "<font size=\"+3\"><strong>2.4. Predicting Price with Size, Location, and Neighborhood</strong></font>"
   ]
  },
  {
   "cell_type": "code",
   "execution_count": 6,
   "id": "b94149a4-ef1d-4d8e-9944-6b77e16d14d5",
   "metadata": {
    "deletable": false,
    "editable": false,
    "init_cell": true,
    "tags": []
   },
   "outputs": [
    {
     "data": {
      "text/html": [
       "\n",
       "<style>\n",
       "  \n",
       "  .checkmark {\n",
       "    width: 56px;\n",
       "    height: 56px;\n",
       "    border-radius: 50%;\n",
       "    display: block;\n",
       "    stroke-width: 2;\n",
       "    stroke: #fff;\n",
       "    stroke-miterlimit: 10;\n",
       "    box-shadow: inset 0px 0px 0px #7ac142;\n",
       "    animation: fill .4s ease-in-out .4s forwards, scale .3s ease-in-out .9s both;\n",
       "  }\n",
       "  \n",
       "  .checkmark__circle {\n",
       "    stroke-dasharray: 166;\n",
       "    stroke-dashoffset: 166;\n",
       "    stroke-width: 2;\n",
       "    stroke-miterlimit: 10;\n",
       "    stroke: #7ac142;\n",
       "    fill: none;\n",
       "    animation: stroke .6s cubic-bezier(0.650, 0.000, 0.450, 1.000) forwards;\n",
       "  }\n",
       "  \n",
       "  .checkmark__check {\n",
       "    transform-origin: 50% 50%;\n",
       "    stroke-dasharray: 48;\n",
       "    stroke-dashoffset: 48;\n",
       "    animation: stroke .3s cubic-bezier(0.650, 0.000, 0.450, 1.000) .8s forwards;\n",
       "  }\n",
       "  \n",
       "  .failmark {\n",
       "    width: 56px;\n",
       "    height: 56px;\n",
       "    border-radius: 50%;\n",
       "    display: block;\n",
       "    stroke-width: 2;\n",
       "    stroke: #fff;\n",
       "    stroke-miterlimit: 10;\n",
       "    box-shadow: inset 0px 0px 0px #F34811;\n",
       "    animation: failfill .4s ease-in-out .4s forwards, scale .3s ease-in-out .9s both;\n",
       "  }\n",
       "  \n",
       "  .failmark__circle {\n",
       "    stroke-dasharray: 166;\n",
       "    stroke-dashoffset: 166;\n",
       "    stroke-width: 2;\n",
       "    stroke-miterlimit: 10;\n",
       "    stroke: #F34811;\n",
       "    fill: none;\n",
       "    animation: stroke .6s cubic-bezier(0.650, 0.000, 0.450, 1.000) forwards;\n",
       "  }\n",
       "  \n",
       "  @keyframes stroke {\n",
       "    100% {\n",
       "      stroke-dashoffset: 0;\n",
       "    }\n",
       "  }\n",
       "  \n",
       "  @keyframes scale {\n",
       "    0%, 100% {\n",
       "      transform: none;\n",
       "    }\n",
       "    50% {\n",
       "      transform: scale3d(1.1, 1.1, 1);\n",
       "    }\n",
       "  }\n",
       "  \n",
       "  @keyframes fill {\n",
       "    100% {\n",
       "      box-shadow: inset 0px 0px 0px 30px #7ac142;\n",
       "    }\n",
       "  }\n",
       "  \n",
       "  @keyframes failfill {\n",
       "    100% {\n",
       "      box-shadow: inset 0px 0px 0px 30px #F34811;\n",
       "    }\n",
       "  }\n",
       "  \n",
       "  \n",
       "  .wqet-result {\n",
       "    width: 450px;\n",
       "    clear: both;\n",
       "  }\n",
       "  \n",
       "  .wqet-result .animation {\n",
       "    float: left;\n",
       "    width: 100px;\n",
       "  }\n",
       "  \n",
       "  .wqet-result .animation .checkmark,\n",
       "  .wqet-result .animation .failmark {\n",
       "    margin: 20px auto 20px auto;\n",
       "  }\n",
       "  \n",
       "  .wqet-result .details {\n",
       "    float: right;\n",
       "    width: 349px;\n",
       "    padding: 28px 0;\n",
       "  }\n",
       "  \n",
       "  .wqet-result .details .title {\n",
       "    font-weight: bold;\n",
       "    font-size: 110%;\n",
       "  }\n",
       "  .wqet-result .details p {\n",
       "    margin: 0;\n",
       "  }\n",
       "</style>\n"
      ],
      "text/plain": [
       "<IPython.core.display.HTML object>"
      ]
     },
     "metadata": {},
     "output_type": "display_data"
    }
   ],
   "source": [
    "import warnings\n",
    "from glob import glob\n",
    "\n",
    "import pandas as pd\n",
    "import seaborn as sns\n",
    "import wqet_grader\n",
    "from category_encoders import OneHotEncoder\n",
    "from IPython.display import VimeoVideo\n",
    "from ipywidgets import Dropdown, FloatSlider, IntSlider, interact\n",
    "from sklearn.impute import SimpleImputer\n",
    "from sklearn.linear_model import LinearRegression, Ridge  # noqa F401\n",
    "from sklearn.metrics import mean_absolute_error\n",
    "from sklearn.pipeline import make_pipeline\n",
    "from sklearn.utils.validation import check_is_fitted\n",
    "\n",
    "warnings.simplefilter(action=\"ignore\", category=FutureWarning)\n",
    "wqet_grader.init(\"Project 2 Assessment\")"
   ]
  },
  {
   "cell_type": "markdown",
   "id": "12a1b3a7-176b-44f4-bc4f-152cc5c0269f",
   "metadata": {
    "deletable": false,
    "editable": false
   },
   "source": [
    "In the final lesson for this project, we're going to try to use all the features in our dataset to improve our model. This means that we'll have to do a more careful cleaning of the dataset and consider some of the finer points of linear models."
   ]
  },
  {
   "cell_type": "code",
   "execution_count": 2,
   "id": "9ff841a2-81e0-4957-aa20-2543ca95bd40",
   "metadata": {
    "deletable": false,
    "editable": false,
    "init_cell": true,
    "tags": []
   },
   "outputs": [
    {
     "data": {
      "text/html": [
       "\n",
       "        <iframe\n",
       "            width=\"600\"\n",
       "            height=\"300\"\n",
       "            src=\"https://player.vimeo.com/video/656842813?h=07f074324e\"\n",
       "            frameborder=\"0\"\n",
       "            allowfullscreen\n",
       "            \n",
       "        ></iframe>\n",
       "        "
      ],
      "text/plain": [
       "<IPython.lib.display.VimeoVideo at 0x7da71ce51190>"
      ]
     },
     "execution_count": 2,
     "metadata": {},
     "output_type": "execute_result"
    }
   ],
   "source": [
    "VimeoVideo(\"656842813\", h=\"07f074324e\", width=600)"
   ]
  },
  {
   "cell_type": "markdown",
   "id": "12b61388-a56c-4df6-9c49-b686191eca32",
   "metadata": {
    "deletable": false,
    "editable": false
   },
   "source": [
    "# Prepare Data"
   ]
  },
  {
   "cell_type": "markdown",
   "id": "cfe3e8ee-a48a-476a-875c-f949093fff36",
   "metadata": {
    "deletable": false,
    "editable": false
   },
   "source": [
    "## Import"
   ]
  },
  {
   "cell_type": "code",
   "execution_count": 3,
   "id": "495cc0ba-da04-47cd-962a-1250d1ce267f",
   "metadata": {
    "deletable": false,
    "tags": []
   },
   "outputs": [],
   "source": [
    "def wrangle(filepath) -> pd.DataFrame:\n",
    "    # Read CSV file\n",
    "    df = pd.read_csv(filepath)\n",
    "\n",
    "    # Subset data: Apartments in \"Capital Federal\", less than 400,000\n",
    "    mask_ba = df[\"place_with_parent_names\"].str.contains(\"Capital Federal\")\n",
    "    mask_apt = df[\"property_type\"] == \"apartment\"\n",
    "    mask_price = df[\"price_aprox_usd\"] < 400_000\n",
    "    df = df[mask_ba & mask_apt & mask_price]\n",
    "\n",
    "    # Subset data: Remove outliers for \"surface_covered_in_m2\"\n",
    "    low, high = df[\"surface_covered_in_m2\"].quantile([0.1, 0.9])\n",
    "    mask_area = df[\"surface_covered_in_m2\"].between(low, high)\n",
    "    df = df[mask_area]\n",
    "\n",
    "    # Split \"lat-lon\" column\n",
    "    df[[\"lat\", \"lon\"]] = df[\"lat-lon\"].str.split(\",\", expand=True).astype(float)\n",
    "    df.drop(columns=\"lat-lon\", inplace=True)\n",
    "\n",
    "    # Get place name\n",
    "    df[\"neighborhood\"] = df[\"place_with_parent_names\"].str.split(\"|\", expand=True)[3]\n",
    "    df.drop(columns=\"place_with_parent_names\", inplace=True)\n",
    "    \n",
    "    # Drop features with high null counts\n",
    "    df.drop(columns=[\"floor\", \"expenses\"], inplace=True)\n",
    "    \n",
    "    # Drop low- and high-cardinality cols\n",
    "    df.drop(columns=[\"operation\", \"property_type\",\t\"currency\",\t\"properati_url\"], inplace=True)\n",
    "    \n",
    "    # Drop leaky columns\n",
    "    df.drop(columns=[ 'price', 'price_aprox_local_currency', 'price_per_m2', 'price_usd_per_m2'], inplace=True)\n",
    "    \n",
    "    # Drop columns with mulcollinearity \n",
    "    df.drop(columns=[\"surface_total_in_m2\", \"rooms\"], inplace=True)\n",
    "    return df"
   ]
  },
  {
   "cell_type": "markdown",
   "id": "e571ea26-15d0-4c89-b927-616c344fc6bb",
   "metadata": {
    "deletable": false,
    "editable": false
   },
   "source": [
    "Let's begin by using what we've learned to load all our CSV files into a DataFrame. "
   ]
  },
  {
   "cell_type": "code",
   "execution_count": 3,
   "id": "59193ce1-3082-4ce5-a3de-f59b3eb7d7ea",
   "metadata": {
    "deletable": false,
    "editable": false,
    "init_cell": true,
    "tags": []
   },
   "outputs": [
    {
     "data": {
      "text/html": [
       "\n",
       "        <iframe\n",
       "            width=\"600\"\n",
       "            height=\"300\"\n",
       "            src=\"https://player.vimeo.com/video/656842538?h=bd85634eb1\"\n",
       "            frameborder=\"0\"\n",
       "            allowfullscreen\n",
       "            \n",
       "        ></iframe>\n",
       "        "
      ],
      "text/plain": [
       "<IPython.lib.display.VimeoVideo at 0x7bfae3f7b710>"
      ]
     },
     "execution_count": 3,
     "metadata": {},
     "output_type": "execute_result"
    }
   ],
   "source": [
    "VimeoVideo(\"656842538\", h=\"bd85634eb1\", width=600)"
   ]
  },
  {
   "cell_type": "markdown",
   "id": "899f12bf-071c-441c-b875-6afd1d395adb",
   "metadata": {
    "deletable": false,
    "editable": false
   },
   "source": [
    "**Task 2.4.1:** Use [`glob`](https://docs.python.org/3/library/glob.html#glob.glob) to create a list that contains the filenames for all the Buenos Aires real estate CSV files in the `data` directory. Assign this list to the variable name `files`.\n",
    "\n",
    "- [<span id='technique'>Assemble a list of path names that match a pattern in <span id='tool'>glob.](../%40textbook/02-python-advanced.ipynb#Working-with-strings-)"
   ]
  },
  {
   "cell_type": "code",
   "execution_count": 4,
   "id": "2bd68035-3850-4588-866a-27559a742843",
   "metadata": {
    "deletable": false,
    "tags": []
   },
   "outputs": [
    {
     "data": {
      "text/plain": [
       "['data/buenos-aires-real-estate-5.csv',\n",
       " 'data/buenos-aires-real-estate-4.csv',\n",
       " 'data/buenos-aires-real-estate-3.csv',\n",
       " 'data/buenos-aires-real-estate-1.csv',\n",
       " 'data/buenos-aires-real-estate-2.csv']"
      ]
     },
     "execution_count": 4,
     "metadata": {},
     "output_type": "execute_result"
    }
   ],
   "source": [
    "files = glob(\"data/buenos-aires-real-estate-*.csv\")\n",
    "files"
   ]
  },
  {
   "cell_type": "code",
   "execution_count": 4,
   "id": "1a9619fa-cca6-4099-aab4-34a16b8b2a2e",
   "metadata": {
    "deletable": false,
    "tags": []
   },
   "outputs": [],
   "source": [
    "# Check your work\n",
    "assert len(files) == 5, f\"`files` should contain 5 items, not {len(files)}\""
   ]
  },
  {
   "cell_type": "markdown",
   "id": "4344e6a8-829a-4772-b427-08c3e3790b68",
   "metadata": {
    "deletable": false,
    "editable": false
   },
   "source": [
    "The last time we put all our DataFrames into a list, we used a `for` loop. This time, we're going to use a more compact coding technique called a **list comprehension**.  "
   ]
  },
  {
   "cell_type": "code",
   "execution_count": 6,
   "id": "78dd3e94-4c10-4d83-b3a7-83d261a4d10d",
   "metadata": {
    "deletable": false,
    "editable": false,
    "init_cell": true,
    "tags": []
   },
   "outputs": [
    {
     "data": {
      "text/html": [
       "\n",
       "        <iframe\n",
       "            width=\"600\"\n",
       "            height=\"300\"\n",
       "            src=\"https://player.vimeo.com/video/656842076?h=0f654d427f\"\n",
       "            frameborder=\"0\"\n",
       "            allowfullscreen\n",
       "            \n",
       "        ></iframe>\n",
       "        "
      ],
      "text/plain": [
       "<IPython.lib.display.VimeoVideo at 0x7bfae3682c90>"
      ]
     },
     "execution_count": 6,
     "metadata": {},
     "output_type": "execute_result"
    }
   ],
   "source": [
    "VimeoVideo(\"656842076\", h=\"0f654d427f\", width=600)"
   ]
  },
  {
   "cell_type": "markdown",
   "id": "28af17cc-b978-4ef5-a0c6-c4befdbd45d1",
   "metadata": {
    "deletable": false,
    "editable": false
   },
   "source": [
    "**Task 2.4.2:** Use your `wrangle` function in a list comprehension to create a list named `frames`. The list should contain the cleaned DataFrames for the filenames your collected in `files`.\n",
    "\n",
    "- [What's a list comprehension?](../%40textbook/02-python-advanced.ipynb#List-Comprehension-)\n",
    "- [Write a list comprehension in Python](../%40textbook/02-python-advanced.ipynb#List-Comprehension-)"
   ]
  },
  {
   "cell_type": "code",
   "execution_count": 7,
   "id": "c6c53d59-4c6e-4e39-95c9-4199aab4727c",
   "metadata": {
    "deletable": false,
    "tags": []
   },
   "outputs": [
    {
     "data": {
      "text/html": [
       "<div>\n",
       "<style scoped>\n",
       "    .dataframe tbody tr th:only-of-type {\n",
       "        vertical-align: middle;\n",
       "    }\n",
       "\n",
       "    .dataframe tbody tr th {\n",
       "        vertical-align: top;\n",
       "    }\n",
       "\n",
       "    .dataframe thead th {\n",
       "        text-align: right;\n",
       "    }\n",
       "</style>\n",
       "<table border=\"1\" class=\"dataframe\">\n",
       "  <thead>\n",
       "    <tr style=\"text-align: right;\">\n",
       "      <th></th>\n",
       "      <th>price_aprox_usd</th>\n",
       "      <th>surface_covered_in_m2</th>\n",
       "      <th>lat</th>\n",
       "      <th>lon</th>\n",
       "      <th>neighborhood</th>\n",
       "    </tr>\n",
       "  </thead>\n",
       "  <tbody>\n",
       "    <tr>\n",
       "      <th>3</th>\n",
       "      <td>112000.0</td>\n",
       "      <td>60.0</td>\n",
       "      <td>-34.564676</td>\n",
       "      <td>-58.455720</td>\n",
       "      <td>Belgrano</td>\n",
       "    </tr>\n",
       "    <tr>\n",
       "      <th>9</th>\n",
       "      <td>76500.0</td>\n",
       "      <td>36.0</td>\n",
       "      <td>-34.618830</td>\n",
       "      <td>-58.437779</td>\n",
       "      <td>Caballito</td>\n",
       "    </tr>\n",
       "    <tr>\n",
       "      <th>18</th>\n",
       "      <td>90000.0</td>\n",
       "      <td>100.0</td>\n",
       "      <td>-34.577168</td>\n",
       "      <td>-58.538654</td>\n",
       "      <td>Belgrano</td>\n",
       "    </tr>\n",
       "    <tr>\n",
       "      <th>20</th>\n",
       "      <td>159900.0</td>\n",
       "      <td>77.0</td>\n",
       "      <td>-34.571526</td>\n",
       "      <td>-58.455637</td>\n",
       "      <td>Colegiales</td>\n",
       "    </tr>\n",
       "    <tr>\n",
       "      <th>21</th>\n",
       "      <td>123875.0</td>\n",
       "      <td>50.0</td>\n",
       "      <td>-34.578688</td>\n",
       "      <td>-58.457358</td>\n",
       "      <td>Colegiales</td>\n",
       "    </tr>\n",
       "    <tr>\n",
       "      <th>...</th>\n",
       "      <td>...</td>\n",
       "      <td>...</td>\n",
       "      <td>...</td>\n",
       "      <td>...</td>\n",
       "      <td>...</td>\n",
       "    </tr>\n",
       "    <tr>\n",
       "      <th>8566</th>\n",
       "      <td>290000.0</td>\n",
       "      <td>83.0</td>\n",
       "      <td>-34.639528</td>\n",
       "      <td>-58.519666</td>\n",
       "      <td>Liniers</td>\n",
       "    </tr>\n",
       "    <tr>\n",
       "      <th>8573</th>\n",
       "      <td>150000.0</td>\n",
       "      <td>45.0</td>\n",
       "      <td>-34.597825</td>\n",
       "      <td>-58.416439</td>\n",
       "      <td>Palermo</td>\n",
       "    </tr>\n",
       "    <tr>\n",
       "      <th>8577</th>\n",
       "      <td>65000.0</td>\n",
       "      <td>42.0</td>\n",
       "      <td>-34.652233</td>\n",
       "      <td>-58.490739</td>\n",
       "      <td>Mataderos</td>\n",
       "    </tr>\n",
       "    <tr>\n",
       "      <th>8578</th>\n",
       "      <td>91440.0</td>\n",
       "      <td>48.0</td>\n",
       "      <td>-34.648761</td>\n",
       "      <td>-58.500180</td>\n",
       "      <td>Mataderos</td>\n",
       "    </tr>\n",
       "    <tr>\n",
       "      <th>8597</th>\n",
       "      <td>89000.0</td>\n",
       "      <td>46.0</td>\n",
       "      <td>-34.620384</td>\n",
       "      <td>-58.387360</td>\n",
       "      <td>Monserrat</td>\n",
       "    </tr>\n",
       "  </tbody>\n",
       "</table>\n",
       "<p>1331 rows × 5 columns</p>\n",
       "</div>"
      ],
      "text/plain": [
       "      price_aprox_usd  surface_covered_in_m2        lat        lon  \\\n",
       "3            112000.0                   60.0 -34.564676 -58.455720   \n",
       "9             76500.0                   36.0 -34.618830 -58.437779   \n",
       "18            90000.0                  100.0 -34.577168 -58.538654   \n",
       "20           159900.0                   77.0 -34.571526 -58.455637   \n",
       "21           123875.0                   50.0 -34.578688 -58.457358   \n",
       "...               ...                    ...        ...        ...   \n",
       "8566         290000.0                   83.0 -34.639528 -58.519666   \n",
       "8573         150000.0                   45.0 -34.597825 -58.416439   \n",
       "8577          65000.0                   42.0 -34.652233 -58.490739   \n",
       "8578          91440.0                   48.0 -34.648761 -58.500180   \n",
       "8597          89000.0                   46.0 -34.620384 -58.387360   \n",
       "\n",
       "     neighborhood  \n",
       "3        Belgrano  \n",
       "9       Caballito  \n",
       "18       Belgrano  \n",
       "20     Colegiales  \n",
       "21     Colegiales  \n",
       "...           ...  \n",
       "8566      Liniers  \n",
       "8573      Palermo  \n",
       "8577    Mataderos  \n",
       "8578    Mataderos  \n",
       "8597    Monserrat  \n",
       "\n",
       "[1331 rows x 5 columns]"
      ]
     },
     "execution_count": 7,
     "metadata": {},
     "output_type": "execute_result"
    }
   ],
   "source": [
    "from typing import List\n",
    "frames: List[pd.DataFrame] = [wrangle(file) for file in files]\n",
    "frames[0]"
   ]
  },
  {
   "cell_type": "code",
   "execution_count": 8,
   "id": "a378c42a-22e9-4220-9636-8a605d63e75b",
   "metadata": {
    "deletable": false,
    "tags": []
   },
   "outputs": [],
   "source": [
    "# Check your work\n",
    "assert len(frames) == 5, f\"`frames` should contain 5 items, not {len(frames)}\"\n",
    "assert all(\n",
    "    [isinstance(frame, pd.DataFrame) for frame in frames]\n",
    "), \"The items in `frames` should all be DataFrames.\""
   ]
  },
  {
   "cell_type": "markdown",
   "id": "1c609224-3ddb-4466-bcf0-973ebe2220f1",
   "metadata": {
    "deletable": false,
    "editable": false
   },
   "source": [
    "Last step: Combine the DataFrames in `frames` into a single `df`."
   ]
  },
  {
   "cell_type": "code",
   "execution_count": 7,
   "id": "b2eef02e-3eb6-4eba-ac18-47415c0beaa7",
   "metadata": {
    "deletable": false,
    "editable": false,
    "init_cell": true,
    "tags": []
   },
   "outputs": [
    {
     "data": {
      "text/html": [
       "\n",
       "        <iframe\n",
       "            width=\"600\"\n",
       "            height=\"300\"\n",
       "            src=\"https://player.vimeo.com/video/656841910?h=79c7dbc5ab\"\n",
       "            frameborder=\"0\"\n",
       "            allowfullscreen\n",
       "            \n",
       "        ></iframe>\n",
       "        "
      ],
      "text/plain": [
       "<IPython.lib.display.VimeoVideo at 0x7ed2276fcbd0>"
      ]
     },
     "execution_count": 7,
     "metadata": {},
     "output_type": "execute_result"
    }
   ],
   "source": [
    "VimeoVideo(\"656841910\", h=\"79c7dbc5ab\", width=600)"
   ]
  },
  {
   "cell_type": "markdown",
   "id": "a40daf52-7d3c-4d6f-bf23-cd135c4ab7eb",
   "metadata": {
    "deletable": false,
    "editable": false
   },
   "source": [
    "**Task 2.4.3:** Use [`pd.concat`](https://pandas.pydata.org/docs/reference/api/pandas.concat.html) to concatenate it items in `frames` into a single DataFrame `df`. Make sure you set the `ignore_index` argument to `True`.\n",
    "\n",
    "- [<span id='technique'>Concatenate two or more DataFrames using <span id='tool'>pandas.](../%40textbook/03-pandas-getting-started.ipynb#Concatenating)"
   ]
  },
  {
   "cell_type": "code",
   "execution_count": 9,
   "id": "c51a7060-c8bb-4577-b2d0-26e5764afdad",
   "metadata": {
    "deletable": false,
    "tags": []
   },
   "outputs": [
    {
     "name": "stdout",
     "output_type": "stream",
     "text": [
      "<class 'pandas.core.frame.DataFrame'>\n",
      "RangeIndex: 6582 entries, 0 to 6581\n",
      "Data columns (total 5 columns):\n",
      " #   Column                 Non-Null Count  Dtype  \n",
      "---  ------                 --------------  -----  \n",
      " 0   price_aprox_usd        6582 non-null   float64\n",
      " 1   surface_covered_in_m2  6582 non-null   float64\n",
      " 2   lat                    6316 non-null   float64\n",
      " 3   lon                    6316 non-null   float64\n",
      " 4   neighborhood           6582 non-null   object \n",
      "dtypes: float64(4), object(1)\n",
      "memory usage: 257.2+ KB\n",
      "None\n"
     ]
    },
    {
     "data": {
      "text/html": [
       "<div>\n",
       "<style scoped>\n",
       "    .dataframe tbody tr th:only-of-type {\n",
       "        vertical-align: middle;\n",
       "    }\n",
       "\n",
       "    .dataframe tbody tr th {\n",
       "        vertical-align: top;\n",
       "    }\n",
       "\n",
       "    .dataframe thead th {\n",
       "        text-align: right;\n",
       "    }\n",
       "</style>\n",
       "<table border=\"1\" class=\"dataframe\">\n",
       "  <thead>\n",
       "    <tr style=\"text-align: right;\">\n",
       "      <th></th>\n",
       "      <th>price_aprox_usd</th>\n",
       "      <th>surface_covered_in_m2</th>\n",
       "      <th>lat</th>\n",
       "      <th>lon</th>\n",
       "      <th>neighborhood</th>\n",
       "    </tr>\n",
       "  </thead>\n",
       "  <tbody>\n",
       "    <tr>\n",
       "      <th>0</th>\n",
       "      <td>112000.0</td>\n",
       "      <td>60.0</td>\n",
       "      <td>-34.564676</td>\n",
       "      <td>-58.455720</td>\n",
       "      <td>Belgrano</td>\n",
       "    </tr>\n",
       "    <tr>\n",
       "      <th>1</th>\n",
       "      <td>76500.0</td>\n",
       "      <td>36.0</td>\n",
       "      <td>-34.618830</td>\n",
       "      <td>-58.437779</td>\n",
       "      <td>Caballito</td>\n",
       "    </tr>\n",
       "    <tr>\n",
       "      <th>2</th>\n",
       "      <td>90000.0</td>\n",
       "      <td>100.0</td>\n",
       "      <td>-34.577168</td>\n",
       "      <td>-58.538654</td>\n",
       "      <td>Belgrano</td>\n",
       "    </tr>\n",
       "    <tr>\n",
       "      <th>3</th>\n",
       "      <td>159900.0</td>\n",
       "      <td>77.0</td>\n",
       "      <td>-34.571526</td>\n",
       "      <td>-58.455637</td>\n",
       "      <td>Colegiales</td>\n",
       "    </tr>\n",
       "    <tr>\n",
       "      <th>4</th>\n",
       "      <td>123875.0</td>\n",
       "      <td>50.0</td>\n",
       "      <td>-34.578688</td>\n",
       "      <td>-58.457358</td>\n",
       "      <td>Colegiales</td>\n",
       "    </tr>\n",
       "  </tbody>\n",
       "</table>\n",
       "</div>"
      ],
      "text/plain": [
       "   price_aprox_usd  surface_covered_in_m2        lat        lon neighborhood\n",
       "0         112000.0                   60.0 -34.564676 -58.455720     Belgrano\n",
       "1          76500.0                   36.0 -34.618830 -58.437779    Caballito\n",
       "2          90000.0                  100.0 -34.577168 -58.538654     Belgrano\n",
       "3         159900.0                   77.0 -34.571526 -58.455637   Colegiales\n",
       "4         123875.0                   50.0 -34.578688 -58.457358   Colegiales"
      ]
     },
     "execution_count": 9,
     "metadata": {},
     "output_type": "execute_result"
    }
   ],
   "source": [
    "df = pd.concat(\n",
    "    frames := [wrangle(file) for file in files], \n",
    "    ignore_index=True\n",
    ")\n",
    "\n",
    "print(df.info())\n",
    "df.head()"
   ]
  },
  {
   "cell_type": "code",
   "execution_count": 8,
   "id": "b1554bd1-df77-44a5-a828-79a5fe603a98",
   "metadata": {
    "deletable": false,
    "tags": []
   },
   "outputs": [],
   "source": [
    "# Check your work\n",
    "assert len(df) == 6582, f\"`df` has the wrong number of rows: {len(df)}\"\n",
    "assert df.shape[1] <= 17, f\"`df` has too many columns: {df.shape[1]}\""
   ]
  },
  {
   "cell_type": "code",
   "execution_count": 5,
   "id": "9f2580ae-9359-42a4-aebc-7378d32a64f8",
   "metadata": {
    "tags": []
   },
   "outputs": [
    {
     "name": "stdout",
     "output_type": "stream",
     "text": [
      "Dropdown\t FloatSlider\t IntSlider\t LinearRegression\t OneHotEncoder\t Ridge\t SimpleImputer\t VimeoVideo\t check_is_fitted\t \n",
      "df\t files\t frames\t glob\t interact\t make_pipeline\t mean_absolute_error\t pd\t sns\t \n",
      "warnings\t wqet_grader\t wrangle\t \n"
     ]
    }
   ],
   "source": [
    "%who"
   ]
  },
  {
   "cell_type": "markdown",
   "id": "64aef750-2f49-48eb-b630-8a5493d27657",
   "metadata": {
    "deletable": false,
    "editable": false
   },
   "source": [
    "## Explore"
   ]
  },
  {
   "cell_type": "markdown",
   "id": "7aa1d5dd-e920-436f-af81-8e98a16e0c16",
   "metadata": {
    "deletable": false,
    "editable": false
   },
   "source": [
    "The first thing we need to consider when trying to use all the features `df` is **missing values**. While it's true you can impute missing values, there still needs to be enough data in a column to do a good imputation. A general rule is that, if more than half of the data in a column is missing, it's better to drop it then try imputing.\n",
    "\n",
    "Take a look at the output from `df.info()` above. Are there columns where more than half of the values are `NaN`? If so, those columns need to go! "
   ]
  },
  {
   "cell_type": "code",
   "execution_count": 12,
   "id": "3b890d69-0081-4058-b314-eefb9568f813",
   "metadata": {
    "deletable": false,
    "editable": false,
    "init_cell": true,
    "tags": []
   },
   "outputs": [
    {
     "data": {
      "text/html": [
       "\n",
       "        <iframe\n",
       "            width=\"600\"\n",
       "            height=\"300\"\n",
       "            src=\"https://player.vimeo.com/video/656848648?h=6964fa0c8c\"\n",
       "            frameborder=\"0\"\n",
       "            allowfullscreen\n",
       "            \n",
       "        ></iframe>\n",
       "        "
      ],
      "text/plain": [
       "<IPython.lib.display.VimeoVideo at 0x7ed225e6ebd0>"
      ]
     },
     "execution_count": 12,
     "metadata": {},
     "output_type": "execute_result"
    }
   ],
   "source": [
    "VimeoVideo(\"656848648\", h=\"6964fa0c8c\", width=600)"
   ]
  },
  {
   "cell_type": "markdown",
   "id": "75a65e92-e6ce-4244-9a84-48c882cc03b7",
   "metadata": {
    "deletable": false,
    "editable": false
   },
   "source": [
    "**Task 2.4.4:** Modify your `wrangle` function to drop any columns that are more than half `NaN` values. Be sure to rerun all the cells above before you continue.\n",
    "\n",
    "- [<span id='technique'>Inspect a DataFrame using the `shape`, `info`, and `head` in <span id='tool'>pandas.](../%40textbook/03-pandas-getting-started.ipynb#Inspecting-DataFrames)\n",
    "- [<span id='technique'>Drop a column from a DataFrame using <span id='tool'>pandas.](../%40textbook/03-pandas-getting-started.ipynb#Dropping-Columns)"
   ]
  },
  {
   "cell_type": "code",
   "execution_count": 10,
   "id": "ef61efa5-37bb-4939-ba3e-178eb455dfe2",
   "metadata": {
    "tags": []
   },
   "outputs": [
    {
     "data": {
      "text/plain": [
       "price_aprox_usd          0.000000\n",
       "surface_covered_in_m2    0.000000\n",
       "lat                      0.040413\n",
       "lon                      0.040413\n",
       "neighborhood             0.000000\n",
       "dtype: float64"
      ]
     },
     "execution_count": 10,
     "metadata": {},
     "output_type": "execute_result"
    }
   ],
   "source": [
    "df.isnull().sum() / len(df)"
   ]
  },
  {
   "cell_type": "code",
   "execution_count": 21,
   "id": "f71bd6c5-dfcf-4873-9ed6-5cb6de2ddb36",
   "metadata": {
    "deletable": false,
    "tags": []
   },
   "outputs": [],
   "source": [
    "# Check your work\n",
    "assert len(df) == 6582, f\"`df` has the wrong number of rows: {len(df)}\"\n",
    "assert df.shape[1] <= 15, f\"`df` has too many columns: {df.shape[1]}\""
   ]
  },
  {
   "cell_type": "markdown",
   "id": "a851cba3-dc83-4bef-920c-8798e1b7bd67",
   "metadata": {
    "deletable": false,
    "editable": false
   },
   "source": [
    "The next thing we need to look out for are categorical columns with **low or high cardinality**. If there's only one category in a column, it won't provide any unique information to our model. At the other extreme, columns where nearly every row has its own category won't help our model in identifying useful trends in the data.\n",
    "\n",
    "Let's take a look at the cardinality of our features."
   ]
  },
  {
   "cell_type": "code",
   "execution_count": 22,
   "id": "9df45e0e-1439-43c3-a4f5-31199c7be841",
   "metadata": {
    "deletable": false,
    "editable": false,
    "init_cell": true,
    "tags": []
   },
   "outputs": [
    {
     "data": {
      "text/html": [
       "\n",
       "        <iframe\n",
       "            width=\"600\"\n",
       "            height=\"300\"\n",
       "            src=\"https://player.vimeo.com/video/656848196?h=37dbc44b09\"\n",
       "            frameborder=\"0\"\n",
       "            allowfullscreen\n",
       "            \n",
       "        ></iframe>\n",
       "        "
      ],
      "text/plain": [
       "<IPython.lib.display.VimeoVideo at 0x7ed222a6e050>"
      ]
     },
     "execution_count": 22,
     "metadata": {},
     "output_type": "execute_result"
    }
   ],
   "source": [
    "VimeoVideo(\"656848196\", h=\"37dbc44b09\", width=600)"
   ]
  },
  {
   "cell_type": "markdown",
   "id": "f158dab2-f770-4a8c-b5cf-6eef6d28078b",
   "metadata": {
    "deletable": false,
    "editable": false
   },
   "source": [
    "**Task 2.4.5:** Calculate the number of unique values for each non-numeric feature in `df`.\n",
    "\n",
    "- [<span id='technique'>Subset a DataFrame's columns based on the column data types in <span id='tool'>pandas.](../%40textbook/04-pandas-advanced.ipynb#Subset-the-Columns-of-a-DataFrame-Based-on-Data-Types)\n",
    "- [<span id='technique'>Calculate summary statistics for a DataFrame or Series in <span id='tool'>pandas.](../%40textbook/05-pandas-summary-statistics.ipynb#Working-with-Summary-Statistics)"
   ]
  },
  {
   "cell_type": "code",
   "execution_count": 23,
   "id": "126a9693-68ca-4b66-ad9f-0be0350278a0",
   "metadata": {
    "deletable": false,
    "tags": []
   },
   "outputs": [
    {
     "data": {
      "text/html": [
       "<div>\n",
       "<style scoped>\n",
       "    .dataframe tbody tr th:only-of-type {\n",
       "        vertical-align: middle;\n",
       "    }\n",
       "\n",
       "    .dataframe tbody tr th {\n",
       "        vertical-align: top;\n",
       "    }\n",
       "\n",
       "    .dataframe thead th {\n",
       "        text-align: right;\n",
       "    }\n",
       "</style>\n",
       "<table border=\"1\" class=\"dataframe\">\n",
       "  <thead>\n",
       "    <tr style=\"text-align: right;\">\n",
       "      <th></th>\n",
       "      <th>operation</th>\n",
       "      <th>property_type</th>\n",
       "      <th>currency</th>\n",
       "      <th>properati_url</th>\n",
       "      <th>neighborhood</th>\n",
       "    </tr>\n",
       "  </thead>\n",
       "  <tbody>\n",
       "    <tr>\n",
       "      <th>0</th>\n",
       "      <td>sell</td>\n",
       "      <td>apartment</td>\n",
       "      <td>USD</td>\n",
       "      <td>http://belgrano.properati.com.ar/116pr_venta_d...</td>\n",
       "      <td>Belgrano</td>\n",
       "    </tr>\n",
       "    <tr>\n",
       "      <th>1</th>\n",
       "      <td>sell</td>\n",
       "      <td>apartment</td>\n",
       "      <td>USD</td>\n",
       "      <td>http://caballito.properati.com.ar/12ksf_venta_...</td>\n",
       "      <td>Caballito</td>\n",
       "    </tr>\n",
       "    <tr>\n",
       "      <th>2</th>\n",
       "      <td>sell</td>\n",
       "      <td>apartment</td>\n",
       "      <td>USD</td>\n",
       "      <td>http://belgrano.properati.com.ar/zouu_venta_de...</td>\n",
       "      <td>Belgrano</td>\n",
       "    </tr>\n",
       "    <tr>\n",
       "      <th>3</th>\n",
       "      <td>sell</td>\n",
       "      <td>apartment</td>\n",
       "      <td>USD</td>\n",
       "      <td>http://colegiales.properati.com.ar/zpcd_venta_...</td>\n",
       "      <td>Colegiales</td>\n",
       "    </tr>\n",
       "    <tr>\n",
       "      <th>4</th>\n",
       "      <td>sell</td>\n",
       "      <td>apartment</td>\n",
       "      <td>USD</td>\n",
       "      <td>http://colegiales.properati.com.ar/12sbf_venta...</td>\n",
       "      <td>Colegiales</td>\n",
       "    </tr>\n",
       "  </tbody>\n",
       "</table>\n",
       "</div>"
      ],
      "text/plain": [
       "  operation property_type currency  \\\n",
       "0      sell     apartment      USD   \n",
       "1      sell     apartment      USD   \n",
       "2      sell     apartment      USD   \n",
       "3      sell     apartment      USD   \n",
       "4      sell     apartment      USD   \n",
       "\n",
       "                                       properati_url neighborhood  \n",
       "0  http://belgrano.properati.com.ar/116pr_venta_d...     Belgrano  \n",
       "1  http://caballito.properati.com.ar/12ksf_venta_...    Caballito  \n",
       "2  http://belgrano.properati.com.ar/zouu_venta_de...     Belgrano  \n",
       "3  http://colegiales.properati.com.ar/zpcd_venta_...   Colegiales  \n",
       "4  http://colegiales.properati.com.ar/12sbf_venta...   Colegiales  "
      ]
     },
     "execution_count": 23,
     "metadata": {},
     "output_type": "execute_result"
    }
   ],
   "source": [
    "df.select_dtypes(\"object\").head()"
   ]
  },
  {
   "cell_type": "code",
   "execution_count": 26,
   "id": "69611c8c-4988-4ceb-b1b8-e4cb7a28de9f",
   "metadata": {
    "tags": []
   },
   "outputs": [
    {
     "data": {
      "text/plain": [
       "operation           1\n",
       "property_type       1\n",
       "currency            2\n",
       "properati_url    6582\n",
       "neighborhood       57\n",
       "dtype: int64"
      ]
     },
     "execution_count": 26,
     "metadata": {},
     "output_type": "execute_result"
    }
   ],
   "source": [
    "df.select_dtypes(\"object\").nunique()"
   ]
  },
  {
   "cell_type": "markdown",
   "id": "9ed59ede-f1a8-4f65-b2ed-dbdcfdc2f6ec",
   "metadata": {
    "deletable": false,
    "editable": false
   },
   "source": [
    "Here, we can see that columns like `\"operation\"` have only one value in them, while every row in `\"properati_url\"` has a unique value. These are clear examples of high- and low-cardinality features that we shouldn't include in our model."
   ]
  },
  {
   "cell_type": "markdown",
   "id": "c9d05d63-e8bc-4c52-9f45-b1b171e4684c",
   "metadata": {
    "deletable": false,
    "editable": false
   },
   "source": [
    "**Task 2.4.6:** Modify your `wrangle` function to drop high- and low-cardinality categorical features.\n",
    "\n",
    "Be sure to rerun all the cells above before you continue.\n",
    "\n",
    "- [What are <span id='term'>high- and low-cardinality features?](../%40textbook/14-ml-classification.ipynb#High-cardinality-Features)\n",
    "- [<span id='technique'>Drop a column from a DataFrame using <span id='tool'>pandas.](../%40textbook/03-pandas-getting-started.ipynb#Dropping-Columns)"
   ]
  },
  {
   "cell_type": "code",
   "execution_count": 13,
   "id": "cdefdec8-1b7a-478b-9f31-bc7fbefda39f",
   "metadata": {
    "deletable": false,
    "tags": []
   },
   "outputs": [],
   "source": [
    "# Check your work\n",
    "assert len(df) == 6582, f\"`df` has the wrong number of rows: {len(df)}\"\n",
    "assert df.shape[1] <= 11, f\"`df` has too many columns: {df.shape[1]}\""
   ]
  },
  {
   "cell_type": "markdown",
   "id": "dfea2ecf-cd5d-4411-85c0-74653c29c768",
   "metadata": {
    "deletable": false,
    "editable": false
   },
   "source": [
    "It's also important for us to drop any columns that would constitute **leakage**, that is, features that were created using our target or that would give our model information that it won't have access to when it's deployed. "
   ]
  },
  {
   "cell_type": "code",
   "execution_count": 14,
   "id": "17b25ed0-94ab-4303-88dd-175657110a1a",
   "metadata": {
    "deletable": false,
    "editable": false,
    "init_cell": true,
    "tags": []
   },
   "outputs": [
    {
     "data": {
      "text/html": [
       "\n",
       "        <iframe\n",
       "            width=\"600\"\n",
       "            height=\"300\"\n",
       "            src=\"https://player.vimeo.com/video/656847896?h=11de775937\"\n",
       "            frameborder=\"0\"\n",
       "            allowfullscreen\n",
       "            \n",
       "        ></iframe>\n",
       "        "
      ],
      "text/plain": [
       "<IPython.lib.display.VimeoVideo at 0x7a9ab2b62b50>"
      ]
     },
     "execution_count": 14,
     "metadata": {},
     "output_type": "execute_result"
    }
   ],
   "source": [
    "VimeoVideo(\"656847896\", h=\"11de775937\", width=600)"
   ]
  },
  {
   "cell_type": "markdown",
   "id": "0b507b4b-e5d2-4623-a90b-944d2dc2b5a2",
   "metadata": {
    "deletable": false,
    "editable": false
   },
   "source": [
    "**Task 2.4.7:** Modify your `wrangle` function to drop any features that would constitute leakage. \n",
    "\n",
    "Be sure to rerun all the cells above before you continue.\n",
    "\n",
    "- [What's <span id='term'>leakage?](../%40textbook/12-ml-core.ipynb#Leakage)\n",
    "- [<span id='technique'>Drop a column from a DataFrame using <span id='tool'>pandas.](../%40textbook/03-pandas-getting-started.ipynb#Dropping-Columns)"
   ]
  },
  {
   "cell_type": "code",
   "execution_count": 15,
   "id": "4e8848fa-e3fb-4728-b937-a6759eb34223",
   "metadata": {
    "tags": []
   },
   "outputs": [
    {
     "data": {
      "text/plain": [
       "['lat',\n",
       " 'lon',\n",
       " 'neighborhood',\n",
       " 'price',\n",
       " 'price_aprox_local_currency',\n",
       " 'price_aprox_usd',\n",
       " 'price_per_m2',\n",
       " 'price_usd_per_m2',\n",
       " 'rooms',\n",
       " 'surface_covered_in_m2',\n",
       " 'surface_total_in_m2']"
      ]
     },
     "execution_count": 15,
     "metadata": {},
     "output_type": "execute_result"
    }
   ],
   "source": [
    "sorted(df.columns)"
   ]
  },
  {
   "cell_type": "code",
   "execution_count": 18,
   "id": "97df9915-c69b-4539-b8dd-8f4abf8b7d57",
   "metadata": {
    "deletable": false,
    "tags": []
   },
   "outputs": [],
   "source": [
    "# Check your work\n",
    "assert len(df) == 6582, f\"`df` has the wrong number of rows: {len(df)}\"\n",
    "assert df.shape[1] <= 7, f\"`df` has too many columns: {df.shape[1]}\""
   ]
  },
  {
   "cell_type": "markdown",
   "id": "b12772ba-f7d4-4ad4-9d2a-9f40bede484b",
   "metadata": {
    "deletable": false,
    "editable": false
   },
   "source": [
    "Finally, the last issue we need to keep an eye out for is **multicollinearity**, that is, features in our feature matrix that are highly correlated with each other. A good way to detect this is to use a heatmap. Let's make one!"
   ]
  },
  {
   "cell_type": "code",
   "execution_count": 19,
   "id": "0235152e-2023-42fc-8a8d-2f6accc87c28",
   "metadata": {
    "deletable": false,
    "editable": false,
    "init_cell": true,
    "tags": []
   },
   "outputs": [
    {
     "data": {
      "text/html": [
       "\n",
       "        <iframe\n",
       "            width=\"600\"\n",
       "            height=\"300\"\n",
       "            src=\"https://player.vimeo.com/video/656847237?h=4b5cfed5d6\"\n",
       "            frameborder=\"0\"\n",
       "            allowfullscreen\n",
       "            \n",
       "        ></iframe>\n",
       "        "
      ],
      "text/plain": [
       "<IPython.lib.display.VimeoVideo at 0x7a9ab2d1a990>"
      ]
     },
     "execution_count": 19,
     "metadata": {},
     "output_type": "execute_result"
    }
   ],
   "source": [
    "VimeoVideo(\"656847237\", h=\"4b5cfed5d6\", width=600)"
   ]
  },
  {
   "cell_type": "markdown",
   "id": "61ecf52e-c6d5-46c3-b8b3-8eac1ef5e77e",
   "metadata": {
    "deletable": false,
    "editable": false
   },
   "source": [
    "**Task 2.4.8:** Plot a correlation heatmap of the remaining numerical features in `df`. Since `\"price_aprox_usd\"` will be your target, you don't need to include it in your heatmap.\n",
    "\n",
    "- [What's a <span id='term'>heatmap?](../%40textbook/09-visualization-seaborn.ipynb#Correlation-Heatmaps)\n",
    "- [<span id='technique'>Create a correlation matrix in <span id='tool'>pandas.](../%40textbook/07-visualization-pandas.ipynb#Correlation-Matrices)\n",
    "- [<span id='technique'>Create a heatmap in <span id='tool'>seaborn.](../%40textbook/09-visualization-seaborn.ipynb#Correlation-Heatmaps)"
   ]
  },
  {
   "cell_type": "code",
   "execution_count": 6,
   "id": "e9744cd1-4bed-4e77-9619-45a03ba38036",
   "metadata": {
    "deletable": false,
    "tags": []
   },
   "outputs": [
    {
     "data": {
      "image/png": "[encoded data removed]",
      "text/plain": [
       "<Figure size 640x480 with 2 Axes>"
      ]
     },
     "metadata": {},
     "output_type": "display_data"
    }
   ],
   "source": [
    "corr = df.select_dtypes(\"number\").drop(columns=\"price_aprox_usd\").corr()\n",
    "sns.heatmap(corr);"
   ]
  },
  {
   "cell_type": "code",
   "execution_count": 37,
   "id": "102ac2ca-1050-4bec-b6c4-548a8297a395",
   "metadata": {
    "tags": []
   },
   "outputs": [
    {
     "name": "stdout",
     "output_type": "stream",
     "text": [
      "<class 'pandas.core.frame.DataFrame'>\n",
      "RangeIndex: 6582 entries, 0 to 6581\n",
      "Data columns (total 5 columns):\n",
      " #   Column                 Non-Null Count  Dtype  \n",
      "---  ------                 --------------  -----  \n",
      " 0   price_aprox_usd        6582 non-null   float64\n",
      " 1   surface_covered_in_m2  6582 non-null   float64\n",
      " 2   lat                    6316 non-null   float64\n",
      " 3   lon                    6316 non-null   float64\n",
      " 4   neighborhood           6582 non-null   object \n",
      "dtypes: float64(4), object(1)\n",
      "memory usage: 257.2+ KB\n"
     ]
    }
   ],
   "source": [
    "df.info()"
   ]
  },
  {
   "cell_type": "markdown",
   "id": "c36d9ba4-55cd-40b4-8119-8b1df638f225",
   "metadata": {
    "deletable": false,
    "editable": false
   },
   "source": [
    "**Task 2.4.9:** Modify your `wrangle` function to remove columns so that there are no strongly correlated features in your feature matrix.\n",
    "\n",
    "Be sure to rerun all the cells above before you continue.\n",
    "\n",
    "- [What's <span id='term'>multicollinearity?](../%40textbook/15-ml-regression.ipynb#Multicollinearity)\n",
    "- [<span id='technique'>Drop a column from a DataFrame using <span id='tool'>pandas.](../%40textbook/03-pandas-getting-started.ipynb#Dropping-Columns)"
   ]
  },
  {
   "cell_type": "code",
   "execution_count": 28,
   "id": "5fc962e9-f8b2-4c47-963e-dda379d8bd91",
   "metadata": {
    "deletable": false,
    "tags": []
   },
   "outputs": [
    {
     "data": {
      "text/html": [
       "<div>\n",
       "<style scoped>\n",
       "    .dataframe tbody tr th:only-of-type {\n",
       "        vertical-align: middle;\n",
       "    }\n",
       "\n",
       "    .dataframe tbody tr th {\n",
       "        vertical-align: top;\n",
       "    }\n",
       "\n",
       "    .dataframe thead th {\n",
       "        text-align: right;\n",
       "    }\n",
       "</style>\n",
       "<table border=\"1\" class=\"dataframe\">\n",
       "  <thead>\n",
       "    <tr style=\"text-align: right;\">\n",
       "      <th></th>\n",
       "      <th>price_aprox_usd</th>\n",
       "      <th>surface_covered_in_m2</th>\n",
       "      <th>lat</th>\n",
       "      <th>lon</th>\n",
       "      <th>neighborhood</th>\n",
       "    </tr>\n",
       "  </thead>\n",
       "  <tbody>\n",
       "    <tr>\n",
       "      <th>0</th>\n",
       "      <td>112000.0</td>\n",
       "      <td>60.0</td>\n",
       "      <td>-34.564676</td>\n",
       "      <td>-58.455720</td>\n",
       "      <td>Belgrano</td>\n",
       "    </tr>\n",
       "    <tr>\n",
       "      <th>1</th>\n",
       "      <td>76500.0</td>\n",
       "      <td>36.0</td>\n",
       "      <td>-34.618830</td>\n",
       "      <td>-58.437779</td>\n",
       "      <td>Caballito</td>\n",
       "    </tr>\n",
       "    <tr>\n",
       "      <th>2</th>\n",
       "      <td>90000.0</td>\n",
       "      <td>100.0</td>\n",
       "      <td>-34.577168</td>\n",
       "      <td>-58.538654</td>\n",
       "      <td>Belgrano</td>\n",
       "    </tr>\n",
       "    <tr>\n",
       "      <th>3</th>\n",
       "      <td>159900.0</td>\n",
       "      <td>77.0</td>\n",
       "      <td>-34.571526</td>\n",
       "      <td>-58.455637</td>\n",
       "      <td>Colegiales</td>\n",
       "    </tr>\n",
       "    <tr>\n",
       "      <th>4</th>\n",
       "      <td>123875.0</td>\n",
       "      <td>50.0</td>\n",
       "      <td>-34.578688</td>\n",
       "      <td>-58.457358</td>\n",
       "      <td>Colegiales</td>\n",
       "    </tr>\n",
       "  </tbody>\n",
       "</table>\n",
       "</div>"
      ],
      "text/plain": [
       "   price_aprox_usd  surface_covered_in_m2        lat        lon neighborhood\n",
       "0         112000.0                   60.0 -34.564676 -58.455720     Belgrano\n",
       "1          76500.0                   36.0 -34.618830 -58.437779    Caballito\n",
       "2          90000.0                  100.0 -34.577168 -58.538654     Belgrano\n",
       "3         159900.0                   77.0 -34.571526 -58.455637   Colegiales\n",
       "4         123875.0                   50.0 -34.578688 -58.457358   Colegiales"
      ]
     },
     "execution_count": 28,
     "metadata": {},
     "output_type": "execute_result"
    }
   ],
   "source": [
    "# Check your work\n",
    "assert len(df) == 6582, f\"`df` has the wrong number of rows: {len(df)}\"\n",
    "assert df.shape[1] == 5, f\"`df` has the wrong number of columns: {df.shape[1]}\"\n",
    "df.head()"
   ]
  },
  {
   "cell_type": "markdown",
   "id": "4be0a821-d396-4285-9aa5-467c13189f27",
   "metadata": {
    "deletable": false,
    "editable": false
   },
   "source": [
    "Done! It looks like we're going to use the four features we've used in our previous models but, this time, we're going to combine them. "
   ]
  },
  {
   "cell_type": "markdown",
   "id": "46ccc3e0-a683-447d-a203-23ee3fbf5a30",
   "metadata": {
    "deletable": false,
    "editable": false
   },
   "source": [
    "## Split Data"
   ]
  },
  {
   "cell_type": "markdown",
   "id": "5fa837b0-c8f4-42ca-89de-2838782897c6",
   "metadata": {
    "deletable": false,
    "editable": false
   },
   "source": [
    "**Task 2.4.10:** Create your feature matrix `X_train` and target vector `y_train`. Your target is `\"price_aprox_usd\"`. Your features should be all the columns that remain in the DataFrame you cleaned above.\n",
    "\n",
    "- [What's a <span id='term'>feature matrix?](../%40textbook/15-ml-regression.ipynb#Linear-Regression)\n",
    "- [What's a <span id='term'>target vector?](../%40textbook/15-ml-regression.ipynb#Linear-Regression)\n",
    "- [<span id='technique'>Subset a DataFrame by selecting one or more columns in <span id='tool'>pandas.](../%40textbook/04-pandas-advanced.ipynb#Subset-a-DataFrame-by-Selecting-One-or-More-Columns) \n",
    "- [<span id='technique'>Select a Series from a DataFrame in <span id='tool'>pandas.](../%40textbook/04-pandas-advanced.ipynb#Select-a-Series-from-a-DataFrame) "
   ]
  },
  {
   "cell_type": "code",
   "execution_count": 7,
   "id": "e02aea54-1bed-4a65-93c5-cee2cb4b4e11",
   "metadata": {
    "deletable": false,
    "tags": []
   },
   "outputs": [],
   "source": [
    "target = \"price_aprox_usd\"\n",
    "features = [\"surface_covered_in_m2\", \"lat\", \"lon\", \"neighborhood\"]\n",
    "X_train = df[features]\n",
    "y_train = df[target]"
   ]
  },
  {
   "cell_type": "code",
   "execution_count": 8,
   "id": "b2e6879e-f3e3-42dc-8848-495f293876e0",
   "metadata": {
    "deletable": false,
    "tags": []
   },
   "outputs": [],
   "source": [
    "# Check your work\n",
    "assert X_train.shape == (6582, 4), f\"`X_train` is the wrong size: {X_train.shape}.\"\n",
    "assert y_train.shape == (6582,), f\"`y_train` is the wrong size: {y_train.shape}.\""
   ]
  },
  {
   "cell_type": "markdown",
   "id": "e2a17917-9b80-4d4a-918a-740c6ce756d4",
   "metadata": {
    "deletable": false,
    "editable": false
   },
   "source": [
    "# Build Model"
   ]
  },
  {
   "cell_type": "markdown",
   "id": "456676b7-2052-42fc-97e8-71cf4ca28a33",
   "metadata": {
    "deletable": false,
    "editable": false
   },
   "source": [
    "## Baseline"
   ]
  },
  {
   "cell_type": "code",
   "execution_count": 9,
   "id": "9794d308-d947-4118-b3e9-3fb15ac3c4e3",
   "metadata": {
    "deletable": false,
    "editable": false,
    "init_cell": true,
    "tags": []
   },
   "outputs": [
    {
     "data": {
      "text/html": [
       "\n",
       "        <iframe\n",
       "            width=\"600\"\n",
       "            height=\"300\"\n",
       "            src=\"https://player.vimeo.com/video/656849559?h=bca444c8af\"\n",
       "            frameborder=\"0\"\n",
       "            allowfullscreen\n",
       "            \n",
       "        ></iframe>\n",
       "        "
      ],
      "text/plain": [
       "<IPython.lib.display.VimeoVideo at 0x7df189da9150>"
      ]
     },
     "execution_count": 9,
     "metadata": {},
     "output_type": "execute_result"
    }
   ],
   "source": [
    "VimeoVideo(\"656849559\", h=\"bca444c8af\", width=600)"
   ]
  },
  {
   "cell_type": "markdown",
   "id": "5eb7cf54-4286-4c31-9541-31ca2b361ddf",
   "metadata": {
    "deletable": false,
    "editable": false
   },
   "source": [
    "**Task 2.4.11:** Calculate the baseline mean absolute error for your model.\n",
    "\n",
    "- [<span id='technique'>Calculate summary statistics for a DataFrame or Series in <span id='tool'>pandas.](../%40textbook/05-pandas-summary-statistics.ipynb#Working-with-Summary-Statistics)"
   ]
  },
  {
   "cell_type": "code",
   "execution_count": 11,
   "id": "e9fe8303-1fc9-40e9-b425-459c24078f58",
   "metadata": {
    "deletable": false,
    "tags": []
   },
   "outputs": [
    {
     "name": "stdout",
     "output_type": "stream",
     "text": [
      "Mean apt price: 132383.84\n",
      "Baseline MAE: 44860.10834274133\n"
     ]
    }
   ],
   "source": [
    "y_mean = y_train.mean()\n",
    "y_pred_baseline = [y_mean] * len(y_train)\n",
    "print(\"Mean apt price:\", round(y_mean, 2))\n",
    "\n",
    "print(\"Baseline MAE:\", mean_absolute_error(y_train, y_pred_baseline))"
   ]
  },
  {
   "cell_type": "markdown",
   "id": "bd824723-342c-4efd-a5bd-50795c01b64f",
   "metadata": {
    "deletable": false,
    "editable": false
   },
   "source": [
    "## Iterate"
   ]
  },
  {
   "cell_type": "markdown",
   "id": "337e1a13-a4d7-4f27-8337-8b481ed99262",
   "metadata": {
    "deletable": false,
    "editable": false
   },
   "source": [
    "**Task 2.4.12:** Create a pipeline named `model` that contains a `OneHotEncoder`, `SimpleImputer`, and `Ridge` predictor.\n",
    "\n",
    "- [What's <span id='term'>imputation?](../%40textbook/12-ml-core.ipynb#Imputation) \n",
    "- [What's <span id='term'>one-hot encoding?](../%40textbook/13-ml-data-pre-processing-and-production.ipynb#One-Hot-Encoding)\n",
    "- [What's a <span id='term'>pipeline?](../%40textbook/13-ml-data-pre-processing-and-production.ipynb#scikit-learn-in-Production)\n",
    "- [<span id='technique'>Create a pipeline in <span id='tool'>scikit-learn.](../%40textbook/13-ml-data-pre-processing-and-production.ipynb#Creating-a-Pipeline-in-scikit-learn)"
   ]
  },
  {
   "cell_type": "code",
   "execution_count": 12,
   "id": "75912927-56e1-41d5-af75-b698b4bcdf7e",
   "metadata": {
    "deletable": false,
    "tags": []
   },
   "outputs": [
    {
     "data": {
      "text/html": [
       "<style>#sk-container-id-1 {color: black;}#sk-container-id-1 pre{padding: 0;}#sk-container-id-1 div.sk-toggleable {background-color: white;}#sk-container-id-1 label.sk-toggleable__label {cursor: pointer;display: block;width: 100%;margin-bottom: 0;padding: 0.3em;box-sizing: border-box;text-align: center;}#sk-container-id-1 label.sk-toggleable__label-arrow:before {content: \"▸\";float: left;margin-right: 0.25em;color: #696969;}#sk-container-id-1 label.sk-toggleable__label-arrow:hover:before {color: black;}#sk-container-id-1 div.sk-estimator:hover label.sk-toggleable__label-arrow:before {color: black;}#sk-container-id-1 div.sk-toggleable__content {max-height: 0;max-width: 0;overflow: hidden;text-align: left;background-color: #f0f8ff;}#sk-container-id-1 div.sk-toggleable__content pre {margin: 0.2em;color: black;border-radius: 0.25em;background-color: #f0f8ff;}#sk-container-id-1 input.sk-toggleable__control:checked~div.sk-toggleable__content {max-height: 200px;max-width: 100%;overflow: auto;}#sk-container-id-1 input.sk-toggleable__control:checked~label.sk-toggleable__label-arrow:before {content: \"▾\";}#sk-container-id-1 div.sk-estimator input.sk-toggleable__control:checked~label.sk-toggleable__label {background-color: #d4ebff;}#sk-container-id-1 div.sk-label input.sk-toggleable__control:checked~label.sk-toggleable__label {background-color: #d4ebff;}#sk-container-id-1 input.sk-hidden--visually {border: 0;clip: rect(1px 1px 1px 1px);clip: rect(1px, 1px, 1px, 1px);height: 1px;margin: -1px;overflow: hidden;padding: 0;position: absolute;width: 1px;}#sk-container-id-1 div.sk-estimator {font-family: monospace;background-color: #f0f8ff;border: 1px dotted black;border-radius: 0.25em;box-sizing: border-box;margin-bottom: 0.5em;}#sk-container-id-1 div.sk-estimator:hover {background-color: #d4ebff;}#sk-container-id-1 div.sk-parallel-item::after {content: \"\";width: 100%;border-bottom: 1px solid gray;flex-grow: 1;}#sk-container-id-1 div.sk-label:hover label.sk-toggleable__label {background-color: #d4ebff;}#sk-container-id-1 div.sk-serial::before {content: \"\";position: absolute;border-left: 1px solid gray;box-sizing: border-box;top: 0;bottom: 0;left: 50%;z-index: 0;}#sk-container-id-1 div.sk-serial {display: flex;flex-direction: column;align-items: center;background-color: white;padding-right: 0.2em;padding-left: 0.2em;position: relative;}#sk-container-id-1 div.sk-item {position: relative;z-index: 1;}#sk-container-id-1 div.sk-parallel {display: flex;align-items: stretch;justify-content: center;background-color: white;position: relative;}#sk-container-id-1 div.sk-item::before, #sk-container-id-1 div.sk-parallel-item::before {content: \"\";position: absolute;border-left: 1px solid gray;box-sizing: border-box;top: 0;bottom: 0;left: 50%;z-index: -1;}#sk-container-id-1 div.sk-parallel-item {display: flex;flex-direction: column;z-index: 1;position: relative;background-color: white;}#sk-container-id-1 div.sk-parallel-item:first-child::after {align-self: flex-end;width: 50%;}#sk-container-id-1 div.sk-parallel-item:last-child::after {align-self: flex-start;width: 50%;}#sk-container-id-1 div.sk-parallel-item:only-child::after {width: 0;}#sk-container-id-1 div.sk-dashed-wrapped {border: 1px dashed gray;margin: 0 0.4em 0.5em 0.4em;box-sizing: border-box;padding-bottom: 0.4em;background-color: white;}#sk-container-id-1 div.sk-label label {font-family: monospace;font-weight: bold;display: inline-block;line-height: 1.2em;}#sk-container-id-1 div.sk-label-container {text-align: center;}#sk-container-id-1 div.sk-container {/* jupyter's `normalize.less` sets `[hidden] { display: none; }` but bootstrap.min.css set `[hidden] { display: none !important; }` so we also need the `!important` here to be able to override the default hidden behavior on the sphinx rendered scikit-learn.org. See: https://github.com/scikit-learn/scikit-learn/issues/21755 */display: inline-block !important;position: relative;}#sk-container-id-1 div.sk-text-repr-fallback {display: none;}</style><div id=\"sk-container-id-1\" class=\"sk-top-container\"><div class=\"sk-text-repr-fallback\"><pre>Pipeline(steps=[(&#x27;onehotencoder&#x27;,\n",
       "                 OneHotEncoder(cols=[&#x27;neighborhood&#x27;], use_cat_names=True)),\n",
       "                (&#x27;simpleimputer&#x27;, SimpleImputer()), (&#x27;ridge&#x27;, Ridge())])</pre><b>In a Jupyter environment, please rerun this cell to show the HTML representation or trust the notebook. <br />On GitHub, the HTML representation is unable to render, please try loading this page with nbviewer.org.</b></div><div class=\"sk-container\" hidden><div class=\"sk-item sk-dashed-wrapped\"><div class=\"sk-label-container\"><div class=\"sk-label sk-toggleable\"><input class=\"sk-toggleable__control sk-hidden--visually\" id=\"sk-estimator-id-1\" type=\"checkbox\" ><label for=\"sk-estimator-id-1\" class=\"sk-toggleable__label sk-toggleable__label-arrow\">Pipeline</label><div class=\"sk-toggleable__content\"><pre>Pipeline(steps=[(&#x27;onehotencoder&#x27;,\n",
       "                 OneHotEncoder(cols=[&#x27;neighborhood&#x27;], use_cat_names=True)),\n",
       "                (&#x27;simpleimputer&#x27;, SimpleImputer()), (&#x27;ridge&#x27;, Ridge())])</pre></div></div></div><div class=\"sk-serial\"><div class=\"sk-item\"><div class=\"sk-estimator sk-toggleable\"><input class=\"sk-toggleable__control sk-hidden--visually\" id=\"sk-estimator-id-2\" type=\"checkbox\" ><label for=\"sk-estimator-id-2\" class=\"sk-toggleable__label sk-toggleable__label-arrow\">OneHotEncoder</label><div class=\"sk-toggleable__content\"><pre>OneHotEncoder(cols=[&#x27;neighborhood&#x27;], use_cat_names=True)</pre></div></div></div><div class=\"sk-item\"><div class=\"sk-estimator sk-toggleable\"><input class=\"sk-toggleable__control sk-hidden--visually\" id=\"sk-estimator-id-3\" type=\"checkbox\" ><label for=\"sk-estimator-id-3\" class=\"sk-toggleable__label sk-toggleable__label-arrow\">SimpleImputer</label><div class=\"sk-toggleable__content\"><pre>SimpleImputer()</pre></div></div></div><div class=\"sk-item\"><div class=\"sk-estimator sk-toggleable\"><input class=\"sk-toggleable__control sk-hidden--visually\" id=\"sk-estimator-id-4\" type=\"checkbox\" ><label for=\"sk-estimator-id-4\" class=\"sk-toggleable__label sk-toggleable__label-arrow\">Ridge</label><div class=\"sk-toggleable__content\"><pre>Ridge()</pre></div></div></div></div></div></div></div>"
      ],
      "text/plain": [
       "Pipeline(steps=[('onehotencoder',\n",
       "                 OneHotEncoder(cols=['neighborhood'], use_cat_names=True)),\n",
       "                ('simpleimputer', SimpleImputer()), ('ridge', Ridge())])"
      ]
     },
     "execution_count": 12,
     "metadata": {},
     "output_type": "execute_result"
    }
   ],
   "source": [
    "model = make_pipeline(\n",
    "    # Intantiate\n",
    "    OneHotEncoder(use_cat_names=True),\n",
    "    SimpleImputer(),\n",
    "    Ridge()\n",
    ")\n",
    "model.fit(X_train, y_train)"
   ]
  },
  {
   "cell_type": "code",
   "execution_count": 13,
   "id": "c9f95b60-073e-4ad0-9c06-684cdb78e5ae",
   "metadata": {
    "deletable": false,
    "tags": []
   },
   "outputs": [],
   "source": [
    "# Check your work\n",
    "check_is_fitted(model[-1])"
   ]
  },
  {
   "cell_type": "markdown",
   "id": "5c533be3-e8e6-4af6-aafa-29fad3a35e5a",
   "metadata": {
    "deletable": false,
    "editable": false
   },
   "source": [
    "## Evaluate"
   ]
  },
  {
   "cell_type": "code",
   "execution_count": 14,
   "id": "33db8361-45a8-4e19-88f4-61c6f61039e3",
   "metadata": {
    "deletable": false,
    "editable": false,
    "init_cell": true,
    "tags": []
   },
   "outputs": [
    {
     "data": {
      "text/html": [
       "\n",
       "        <iframe\n",
       "            width=\"600\"\n",
       "            height=\"300\"\n",
       "            src=\"https://player.vimeo.com/video/656849505?h=f153a4f005\"\n",
       "            frameborder=\"0\"\n",
       "            allowfullscreen\n",
       "            \n",
       "        ></iframe>\n",
       "        "
      ],
      "text/plain": [
       "<IPython.lib.display.VimeoVideo at 0x7df189b85850>"
      ]
     },
     "execution_count": 14,
     "metadata": {},
     "output_type": "execute_result"
    }
   ],
   "source": [
    "VimeoVideo(\"656849505\", h=\"f153a4f005\", width=600)"
   ]
  },
  {
   "cell_type": "markdown",
   "id": "6217628b-a87e-4f06-9957-cfcef7930765",
   "metadata": {
    "deletable": false,
    "editable": false
   },
   "source": [
    "**Task 2.4.13:** Calculate the training mean absolute error for your predictions as compared to the true targets in `y_train`.\n",
    "\n",
    "- [<span id='technique'>Generate predictions using a trained model in <span id='tool'>scikit-learn.](../%40textbook/15-ml-regression.ipynb#Generating-Predictions-Using-a-Trained-Model)\n",
    "- [<span id='technique'>Calculate the mean absolute error for a list of predictions in <span id='tool'>scikit-learn.](../%40textbook/15-ml-regression.ipynb#Calculating-the-Mean-Absolute-Error-for-a-List-of-Predictions)"
   ]
  },
  {
   "cell_type": "code",
   "execution_count": 15,
   "id": "17c3911b-153a-467a-abb5-74e774922405",
   "metadata": {
    "deletable": false,
    "tags": []
   },
   "outputs": [
    {
     "name": "stdout",
     "output_type": "stream",
     "text": [
      "Training MAE: 24207.10719033027\n"
     ]
    }
   ],
   "source": [
    "y_pred_training = model.predict(X_train)\n",
    "print(\"Training MAE:\", mean_absolute_error(y_train, y_pred_training))"
   ]
  },
  {
   "cell_type": "markdown",
   "id": "14d9174f-425d-42d0-808b-9ebe9737f8a3",
   "metadata": {
    "deletable": false,
    "editable": false,
    "tags": []
   },
   "source": [
    "**Task 2.4.14:** Run the code below to import your test data `buenos-aires-test-features.csv` into a DataFrame and generate a list of predictions using your model. Then run the following cell to submit your predictions to the grader.\n",
    "\n",
    "- [What's generalizability?](../%40textbook/12-ml-core.ipynb#Generalization)\n",
    "- [<span id='technique'>Generate predictions using a trained model in <span id='tool'>scikit-learn.](../%40textbook/15-ml-regression.ipynb#Generating-Predictions-Using-a-Trained-Model)\n",
    "- [<span id='technique'>Calculate the mean absolute error for a list of predictions in <span id='tool'>scikit-learn.](../%40textbook/15-ml-regression.ipynb#Calculating-the-Mean-Absolute-Error-for-a-List-of-Predictions)"
   ]
  },
  {
   "cell_type": "code",
   "execution_count": 16,
   "id": "4275949d-7dfa-4ffe-bf73-5eb5031637e3",
   "metadata": {
    "deletable": false,
    "editable": false,
    "tags": []
   },
   "outputs": [
    {
     "data": {
      "text/plain": [
       "0    231122.403569\n",
       "1    162572.942392\n",
       "2     68477.949626\n",
       "3     63521.438989\n",
       "4    105694.463885\n",
       "dtype: float64"
      ]
     },
     "execution_count": 16,
     "metadata": {},
     "output_type": "execute_result"
    }
   ],
   "source": [
    "X_test = pd.read_csv(\"data/buenos-aires-test-features.csv\")\n",
    "y_pred_test = pd.Series(model.predict(X_test))\n",
    "y_pred_test.head()"
   ]
  },
  {
   "cell_type": "code",
   "execution_count": 17,
   "id": "6073235c-67c4-4270-baf5-2cf4f5044140",
   "metadata": {
    "deletable": false,
    "editable": false,
    "tags": []
   },
   "outputs": [
    {
     "data": {
      "text/html": [
       "\n",
       "    <div class=\"wqet-result\">\n",
       "      <div class=\"animation\">\n",
       "        <svg class=\"checkmark\" xmlns=\"http://www.w3.org/2000/svg\" viewBox=\"0 0 52 52\">\n",
       "          <circle class=\"checkmark__circle\" cx=\"26\" cy=\"26\" r=\"25\" fill=\"none\"/>\n",
       "          <path class=\"checkmark__check\" fill=\"none\" d=\"M14.1 27.2l7.1 7.2 16.7-16.8\"/>\n",
       "        </svg>\n",
       "      </div>\n",
       "      <div class=\"details\">\n",
       "        <p class=\"title\"><p>Your model's mean absolute error is <code>26156.535</code>. Awesome work.</p></p>\n",
       "        <p>Score: 1</p>\n",
       "      </div>\n",
       "    </div>\n"
      ],
      "text/plain": [
       "<IPython.core.display.HTML object>"
      ]
     },
     "metadata": {},
     "output_type": "display_data"
    }
   ],
   "source": [
    "wqet_grader.grade(\"Project 2 Assessment\", \"Task 2.4.14\", y_pred_test)"
   ]
  },
  {
   "cell_type": "markdown",
   "id": "59f6150c-b760-464a-99b8-c653ab50bdbf",
   "metadata": {
    "deletable": false,
    "editable": false
   },
   "source": [
    "# Communicate Results"
   ]
  },
  {
   "cell_type": "markdown",
   "id": "a6ff9e0a-1241-4b8c-8478-76f46a37086f",
   "metadata": {
    "deletable": false,
    "editable": false
   },
   "source": [
    "For this lesson, we've relied on equations and visualizations for communication about our model. In many data science projects, however, communication means giving stakeholders tools they can use to **deploy** a model — in other words, use it in action. So let's look at two ways you might deploy this model. \n",
    "\n",
    "One thing you might be asked to do it wrap your model in a function so that a programmer can provide inputs and then receive a prediction as output. "
   ]
  },
  {
   "cell_type": "code",
   "execution_count": 18,
   "id": "1f4e9493-6957-42f5-abfd-641c703cd72f",
   "metadata": {
    "deletable": false,
    "editable": false,
    "init_cell": true,
    "tags": []
   },
   "outputs": [
    {
     "data": {
      "text/html": [
       "\n",
       "        <iframe\n",
       "            width=\"600\"\n",
       "            height=\"300\"\n",
       "            src=\"https://player.vimeo.com/video/656849254?h=e6faad47ca\"\n",
       "            frameborder=\"0\"\n",
       "            allowfullscreen\n",
       "            \n",
       "        ></iframe>\n",
       "        "
      ],
      "text/plain": [
       "<IPython.lib.display.VimeoVideo at 0x7df1819a8350>"
      ]
     },
     "execution_count": 18,
     "metadata": {},
     "output_type": "execute_result"
    }
   ],
   "source": [
    "VimeoVideo(\"656849254\", h=\"e6faad47ca\", width=600)"
   ]
  },
  {
   "cell_type": "markdown",
   "id": "d0d4a34c-cd9b-48a8-baa7-1d72de40cf6b",
   "metadata": {
    "deletable": false,
    "editable": false
   },
   "source": [
    "**Task 2.4.15:** Create a function `make_prediction` that takes four arguments (`area`, `lat`, `lon`, and `neighborhood`) and returns your model's prediction for an apartment price. "
   ]
  },
  {
   "cell_type": "code",
   "execution_count": 23,
   "id": "2159b2dd-cb39-4b91-9694-0d67a5febddf",
   "metadata": {
    "deletable": false,
    "tags": []
   },
   "outputs": [],
   "source": [
    "def make_prediction(area, lat, lon, neighborhood):\n",
    "    data = {\n",
    "        \"surface_covered_in_m2\": area,\n",
    "        \"lat\": lat,\n",
    "        \"lon\": lon,\n",
    "        \"neighborhood\": neighborhood\n",
    "    }\n",
    "    df = pd.DataFrame(data, index=[0])\n",
    "    prediction = model.predict(df)\n",
    "    return f\"Predicted apartment price: ${prediction}\""
   ]
  },
  {
   "cell_type": "markdown",
   "id": "c1320d31-9118-427a-9b97-9bf3a66bb3ce",
   "metadata": {
    "deletable": false,
    "editable": false
   },
   "source": [
    "Let's see if your function works. Run the cell below to find out!"
   ]
  },
  {
   "cell_type": "code",
   "execution_count": 24,
   "id": "ad2ad590-acea-4faa-a460-6b9fcf18a859",
   "metadata": {
    "deletable": false,
    "tags": []
   },
   "outputs": [
    {
     "data": {
      "text/plain": [
       "'Predicted apartment price: $[250775.11270377]'"
      ]
     },
     "execution_count": 24,
     "metadata": {},
     "output_type": "execute_result"
    }
   ],
   "source": [
    "make_prediction(110, -34.60, -58.46, \"Villa Crespo\")"
   ]
  },
  {
   "cell_type": "markdown",
   "id": "218229fc-2b98-4b64-8ed9-9f71870e25c1",
   "metadata": {
    "deletable": false,
    "editable": false
   },
   "source": [
    "Another type of deployment is creating and interactive dashboard, where a user can supply values and receive a prediction. Let's create one using [Jupyter Widgets](https://ipywidgets.readthedocs.io/en/latest/index.html).<span style='color: transparent; font-size:1%'>WQU WorldQuant University Applied Data Science Lab QQQQ</span>"
   ]
  },
  {
   "cell_type": "code",
   "execution_count": 25,
   "id": "b53ae98d-fc65-41a1-bfb2-5999e8d68311",
   "metadata": {
    "deletable": false,
    "editable": false,
    "init_cell": true,
    "tags": []
   },
   "outputs": [
    {
     "data": {
      "text/html": [
       "\n",
       "        <iframe\n",
       "            width=\"600\"\n",
       "            height=\"300\"\n",
       "            src=\"https://player.vimeo.com/video/656848911?h=7939dcd479\"\n",
       "            frameborder=\"0\"\n",
       "            allowfullscreen\n",
       "            \n",
       "        ></iframe>\n",
       "        "
      ],
      "text/plain": [
       "<IPython.lib.display.VimeoVideo at 0x7df180d90890>"
      ]
     },
     "execution_count": 25,
     "metadata": {},
     "output_type": "execute_result"
    }
   ],
   "source": [
    "VimeoVideo(\"656848911\", h=\"7939dcd479\", width=600)"
   ]
  },
  {
   "cell_type": "markdown",
   "id": "532a9d70-8765-44ff-b272-d6d8aa08f5e6",
   "metadata": {
    "deletable": false,
    "editable": false
   },
   "source": [
    "**Task 2.4.16:** Add your `make_prediction` to the interact widget below, run the cell, and then adjust the widget to see how predicted apartment price changes. \n",
    "\n",
    "- Create an interact function in Jupyter Widgets."
   ]
  },
  {
   "cell_type": "code",
   "execution_count": 27,
   "id": "c9a6ac26-8148-4f14-b990-510dac963505",
   "metadata": {
    "deletable": false,
    "tags": []
   },
   "outputs": [
    {
     "data": {
      "application/vnd.jupyter.widget-view+json": {
       "model_id": "a107a5689fdb475780e74fc35c9b302b",
       "version_major": 2,
       "version_minor": 0
      },
      "text/plain": [
       "interactive(children=(IntSlider(value=53, description='area', max=101, min=30), FloatSlider(value=-34.59890626…"
      ]
     },
     "metadata": {},
     "output_type": "display_data"
    }
   ],
   "source": [
    "interact(\n",
    "    make_prediction,\n",
    "    area=IntSlider(\n",
    "        min=X_train[\"surface_covered_in_m2\"].min(),\n",
    "        max=X_train[\"surface_covered_in_m2\"].max(),\n",
    "        value=X_train[\"surface_covered_in_m2\"].mean(),\n",
    "    ),\n",
    "    lat=FloatSlider(\n",
    "        min=X_train[\"lat\"].min(),\n",
    "        max=X_train[\"lat\"].max(),\n",
    "        step=0.01,\n",
    "        value=X_train[\"lat\"].mean(),\n",
    "    ),\n",
    "    lon=FloatSlider(\n",
    "        min=X_train[\"lon\"].min(),\n",
    "        max=X_train[\"lon\"].max(),\n",
    "        step=0.01,\n",
    "        value=X_train[\"lon\"].mean(),\n",
    "    ),\n",
    "    neighborhood=Dropdown(options=sorted(X_train[\"neighborhood\"].unique())),\n",
    ");"
   ]
  },
  {
   "cell_type": "markdown",
   "id": "7668b9fe-5d70-4409-9d08-8724ebd257db",
   "metadata": {
    "deletable": false,
    "editable": false
   },
   "source": [
    "Great work! You may have noticed that there a lots of ways to improve this dashboard. For instance, a user can select a neighborhood and then supply latitude-longitude coordinates that aren't in that neighborhood. It would also be helpful to include a visualization like a map. Regardless, this is a great first step towards creating dynamic dashboards that turn your model from a complicated abstraction to a concrete tool that anyone can access. One of the most important parts of data science projects is creating products that people can use to make their work or lives easier. "
   ]
  },
  {
   "cell_type": "markdown",
   "id": "b4006056",
   "metadata": {
    "deletable": false,
    "editable": false
   },
   "source": [
    "---\n",
    "Copyright 2023 WorldQuant University. This\n",
    "content is licensed solely for personal use. Redistribution or\n",
    "publication of this material is strictly prohibited.\n"
   ]
  }
 ],
 "metadata": {
  "kernelspec": {
   "display_name": "Python 3 (ipykernel)",
   "language": "python",
   "name": "python3"
  },
  "language_info": {
   "codemirror_mode": {
    "name": "ipython",
    "version": 3
   },
   "file_extension": ".py",
   "mimetype": "text/x-python",
   "name": "python",
   "nbconvert_exporter": "python",
   "pygments_lexer": "ipython3",
   "version": "3.11.4"
  },
  "vscode": {
   "interpreter": {
    "hash": "1aa838312b528b31b4c7961d29e363799be244ea5d189daeb964016c6fd343fc"
   }
  }
 },
 "nbformat": 4,
 "nbformat_minor": 5
}

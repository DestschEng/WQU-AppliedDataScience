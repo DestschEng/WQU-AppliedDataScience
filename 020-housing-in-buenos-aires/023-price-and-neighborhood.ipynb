{
 "cells": [
  {
   "cell_type": "markdown",
   "id": "63c056cd",
   "metadata": {
    "deletable": false,
    "editable": false
   },
   "source": [
    "\n",
    "<div class=\"alert alert-info\" role=\"alert\">\n",
    "  <p>\n",
    "    <center><b>Usage Guidelines</b></center>\n",
    "  </p>\n",
    "\n",
    "  <p>\n",
    "    This lesson is part of the <b>DS Lab core curriculum</b>. For that reason, this notebook can only be used on your WQU virtual machine.\n",
    "  </p>\n",
    "\n",
    "  <p>\n",
    "    This means:\n",
    "    <ul>\n",
    "      <li><span style=\"color: red\">ⓧ</span> No downloading this notebook.</li>\n",
    "      <li><span style=\"color: red\">ⓧ</span> No re-sharing of this notebook with friends or colleagues.</li>\n",
    "      <li><span style=\"color: red\">ⓧ</span> No downloading the embedded videos in this notebook.</li>\n",
    "      <li><span style=\"color: red\">ⓧ</span> No re-sharing embedded videos with friends or colleagues.</li>\n",
    "      <li><span style=\"color: red\">ⓧ</span> No adding this notebook to public or private repositories.</li>\n",
    "      <li><span style=\"color: red\">ⓧ</span> No uploading this notebook (or screenshots of it) to other websites, including websites for study resources.</li>\n",
    "    </ul>\n",
    "\n",
    "  </p>\n",
    "</div>\n"
   ]
  },
  {
   "cell_type": "markdown",
   "id": "ef8ba206",
   "metadata": {
    "deletable": false,
    "editable": false
   },
   "source": [
    "<font size=\"+3\"><strong>2.3. Predicting Price with Neighborhood</strong></font>"
   ]
  },
  {
   "cell_type": "code",
   "execution_count": 3,
   "id": "d4432892",
   "metadata": {
    "deletable": false,
    "editable": false,
    "init_cell": true,
    "tags": []
   },
   "outputs": [
    {
     "data": {
      "text/html": [
       "\n",
       "<style>\n",
       "  \n",
       "  .checkmark {\n",
       "    width: 56px;\n",
       "    height: 56px;\n",
       "    border-radius: 50%;\n",
       "    display: block;\n",
       "    stroke-width: 2;\n",
       "    stroke: #fff;\n",
       "    stroke-miterlimit: 10;\n",
       "    box-shadow: inset 0px 0px 0px #7ac142;\n",
       "    animation: fill .4s ease-in-out .4s forwards, scale .3s ease-in-out .9s both;\n",
       "  }\n",
       "  \n",
       "  .checkmark__circle {\n",
       "    stroke-dasharray: 166;\n",
       "    stroke-dashoffset: 166;\n",
       "    stroke-width: 2;\n",
       "    stroke-miterlimit: 10;\n",
       "    stroke: #7ac142;\n",
       "    fill: none;\n",
       "    animation: stroke .6s cubic-bezier(0.650, 0.000, 0.450, 1.000) forwards;\n",
       "  }\n",
       "  \n",
       "  .checkmark__check {\n",
       "    transform-origin: 50% 50%;\n",
       "    stroke-dasharray: 48;\n",
       "    stroke-dashoffset: 48;\n",
       "    animation: stroke .3s cubic-bezier(0.650, 0.000, 0.450, 1.000) .8s forwards;\n",
       "  }\n",
       "  \n",
       "  .failmark {\n",
       "    width: 56px;\n",
       "    height: 56px;\n",
       "    border-radius: 50%;\n",
       "    display: block;\n",
       "    stroke-width: 2;\n",
       "    stroke: #fff;\n",
       "    stroke-miterlimit: 10;\n",
       "    box-shadow: inset 0px 0px 0px #F34811;\n",
       "    animation: failfill .4s ease-in-out .4s forwards, scale .3s ease-in-out .9s both;\n",
       "  }\n",
       "  \n",
       "  .failmark__circle {\n",
       "    stroke-dasharray: 166;\n",
       "    stroke-dashoffset: 166;\n",
       "    stroke-width: 2;\n",
       "    stroke-miterlimit: 10;\n",
       "    stroke: #F34811;\n",
       "    fill: none;\n",
       "    animation: stroke .6s cubic-bezier(0.650, 0.000, 0.450, 1.000) forwards;\n",
       "  }\n",
       "  \n",
       "  @keyframes stroke {\n",
       "    100% {\n",
       "      stroke-dashoffset: 0;\n",
       "    }\n",
       "  }\n",
       "  \n",
       "  @keyframes scale {\n",
       "    0%, 100% {\n",
       "      transform: none;\n",
       "    }\n",
       "    50% {\n",
       "      transform: scale3d(1.1, 1.1, 1);\n",
       "    }\n",
       "  }\n",
       "  \n",
       "  @keyframes fill {\n",
       "    100% {\n",
       "      box-shadow: inset 0px 0px 0px 30px #7ac142;\n",
       "    }\n",
       "  }\n",
       "  \n",
       "  @keyframes failfill {\n",
       "    100% {\n",
       "      box-shadow: inset 0px 0px 0px 30px #F34811;\n",
       "    }\n",
       "  }\n",
       "  \n",
       "  \n",
       "  .wqet-result {\n",
       "    width: 450px;\n",
       "    clear: both;\n",
       "  }\n",
       "  \n",
       "  .wqet-result .animation {\n",
       "    float: left;\n",
       "    width: 100px;\n",
       "  }\n",
       "  \n",
       "  .wqet-result .animation .checkmark,\n",
       "  .wqet-result .animation .failmark {\n",
       "    margin: 20px auto 20px auto;\n",
       "  }\n",
       "  \n",
       "  .wqet-result .details {\n",
       "    float: right;\n",
       "    width: 349px;\n",
       "    padding: 28px 0;\n",
       "  }\n",
       "  \n",
       "  .wqet-result .details .title {\n",
       "    font-weight: bold;\n",
       "    font-size: 110%;\n",
       "  }\n",
       "  .wqet-result .details p {\n",
       "    margin: 0;\n",
       "  }\n",
       "</style>\n"
      ],
      "text/plain": [
       "<IPython.core.display.HTML object>"
      ]
     },
     "metadata": {},
     "output_type": "display_data"
    }
   ],
   "source": [
    "import warnings\n",
    "from glob import glob\n",
    "\n",
    "import matplotlib.pyplot as plt\n",
    "import numpy as np\n",
    "import pandas as pd\n",
    "import wqet_grader\n",
    "from category_encoders import OneHotEncoder\n",
    "from IPython.display import VimeoVideo\n",
    "from sklearn.linear_model import LinearRegression, Ridge  # noqa F401\n",
    "from sklearn.metrics import mean_absolute_error\n",
    "from sklearn.pipeline import make_pipeline\n",
    "from sklearn.utils.validation import check_is_fitted\n",
    "\n",
    "warnings.simplefilter(action=\"ignore\", category=FutureWarning)\n",
    "wqet_grader.init(\"Project 2 Assessment\")"
   ]
  },
  {
   "cell_type": "markdown",
   "id": "6d20436c",
   "metadata": {
    "deletable": false,
    "editable": false
   },
   "source": [
    "In the last lesson, we created a model that used location — represented by latitude and longitude — to predict price. In this lesson, we're going to use a different representation for location: neighborhood. "
   ]
  },
  {
   "cell_type": "code",
   "execution_count": null,
   "id": "9146209d",
   "metadata": {
    "deletable": false,
    "editable": false,
    "init_cell": true,
    "tags": []
   },
   "outputs": [],
   "source": [
    "VimeoVideo(\"656790491\", h=\"6325554e55\", width=600)"
   ]
  },
  {
   "cell_type": "markdown",
   "id": "b67175f7",
   "metadata": {
    "deletable": false,
    "editable": false
   },
   "source": [
    "# Prepare Data"
   ]
  },
  {
   "cell_type": "markdown",
   "id": "68d1a9b7",
   "metadata": {
    "deletable": false,
    "editable": false
   },
   "source": [
    "## Import"
   ]
  },
  {
   "cell_type": "code",
   "execution_count": 7,
   "id": "54deb7f2",
   "metadata": {
    "deletable": false,
    "tags": []
   },
   "outputs": [],
   "source": [
    "def wrangle(filepath):\n",
    "    # Read CSV file\n",
    "    df = pd.read_csv(filepath)\n",
    "\n",
    "    # Subset data: Apartments in \"Capital Federal\", less than 400,000\n",
    "    mask_ba = df[\"place_with_parent_names\"].str.contains(\"Capital Federal\")\n",
    "    mask_apt = df[\"property_type\"] == \"apartment\"\n",
    "    mask_price = df[\"price_aprox_usd\"] < 400_000\n",
    "    df = df[mask_ba & mask_apt & mask_price]\n",
    "\n",
    "    # Subset data: Remove outliers for \"surface_covered_in_m2\"\n",
    "    low, high = df[\"surface_covered_in_m2\"].quantile([0.1, 0.9])\n",
    "    mask_area = df[\"surface_covered_in_m2\"].between(low, high)\n",
    "    df = df[mask_area]\n",
    "\n",
    "    # Split \"lat-lon\" column\n",
    "    df[[\"lat\", \"lon\"]] = df[\"lat-lon\"].str.split(\",\", expand=True).astype(float)\n",
    "    df.drop(columns=\"lat-lon\", inplace=True)\n",
    "\n",
    "    # Get place name\n",
    "    df[\"neighborhood\"] = df[\"place_with_parent_names\"].str.split(\"|\", expand=True)[3]\n",
    "    df.drop(columns=\"place_with_parent_names\", inplace=True)\n",
    "\n",
    "    return df"
   ]
  },
  {
   "cell_type": "markdown",
   "id": "d87ee217",
   "metadata": {
    "deletable": false,
    "editable": false
   },
   "source": [
    "In the last lesson, we used our `wrangle` function to import two CSV files as DataFrames. But what if we had hundreds of CSV files to import? Wrangling them one-by-one wouldn't be an option. So let's start with a technique for reading several CSV files into a single DataFrame. \n",
    "\n",
    "The first step is to gather the names of all the files we want to import. We can do this using pattern matching. <span style='color: transparent; font-size:1%'>WQU WorldQuant University Applied Data Science Lab QQQQ</span>"
   ]
  },
  {
   "cell_type": "code",
   "execution_count": null,
   "id": "a1620f59",
   "metadata": {
    "deletable": false,
    "editable": false,
    "init_cell": true,
    "tags": []
   },
   "outputs": [],
   "source": [
    "VimeoVideo(\"656790237\", h=\"1502e3765a\", width=600)"
   ]
  },
  {
   "cell_type": "markdown",
   "id": "530d564f",
   "metadata": {
    "deletable": false,
    "editable": false
   },
   "source": [
    "**Task 2.3.1:** Use [`glob`](https://docs.python.org/3/library/glob.html#glob.glob) to create a list that contains the filenames for all the Buenos Aires real estate CSV files in the `data` directory. Assign this list to the variable name `files`.\n",
    "\n",
    "- [<span id='technique'>Assemble a list of path names that match a pattern in <span id='tool'>glob.](../%40textbook/02-python-advanced.ipynb#Working-with-strings-)"
   ]
  },
  {
   "cell_type": "code",
   "execution_count": 6,
   "id": "e9acf1d3-29e6-4b04-a0d5-fe4b100dd81d",
   "metadata": {
    "tags": []
   },
   "outputs": [
    {
     "name": "stdout",
     "output_type": "stream",
     "text": [
      "Help on function glob in module glob:\n",
      "\n",
      "glob(pathname, *, root_dir=None, dir_fd=None, recursive=False, include_hidden=False)\n",
      "    Return a list of paths matching a pathname pattern.\n",
      "    \n",
      "    The pattern may contain simple shell-style wildcards a la\n",
      "    fnmatch. Unlike fnmatch, filenames starting with a\n",
      "    dot are special cases that are not matched by '*' and '?'\n",
      "    patterns by default.\n",
      "    \n",
      "    If `include_hidden` is true, the patterns '*', '?', '**'  will match hidden\n",
      "    directories.\n",
      "    \n",
      "    If `recursive` is true, the pattern '**' will match any files and\n",
      "    zero or more directories and subdirectories.\n",
      "\n"
     ]
    }
   ],
   "source": [
    "help(glob)"
   ]
  },
  {
   "cell_type": "code",
   "execution_count": 4,
   "id": "e9bbce0f",
   "metadata": {
    "deletable": false,
    "tags": []
   },
   "outputs": [
    {
     "name": "stdout",
     "output_type": "stream",
     "text": [
      "data/buenos-aires-real-estate-5.csv\n",
      "data/buenos-aires-real-estate-4.csv\n",
      "data/buenos-aires-real-estate-3.csv\n",
      "data/buenos-aires-real-estate-1.csv\n",
      "data/buenos-aires-real-estate-2.csv\n"
     ]
    }
   ],
   "source": [
    "# files = glob(\"data/buenos-aires-real-estate-[0-9].csv\")\n",
    "files = glob(\"data/buenos-aires-real-estate-*.csv\")\n",
    "for f in files:\n",
    "    print(f)"
   ]
  },
  {
   "cell_type": "code",
   "execution_count": 5,
   "id": "205cface",
   "metadata": {
    "deletable": false,
    "tags": []
   },
   "outputs": [],
   "source": [
    "# Check your work\n",
    "assert len(files) == 5, f\"`files` should contain 5 items, not {len(files)}\""
   ]
  },
  {
   "cell_type": "markdown",
   "id": "986c0edf",
   "metadata": {
    "deletable": false,
    "editable": false
   },
   "source": [
    "The next step is to read each of the CSVs in `files` into a DataFrame, and put all of those DataFrames into a list. What's a good way to iterate through `files` so we can do this? A `for` loop!"
   ]
  },
  {
   "cell_type": "code",
   "execution_count": null,
   "id": "432fd39f",
   "metadata": {
    "deletable": false,
    "editable": false,
    "init_cell": true,
    "tags": []
   },
   "outputs": [],
   "source": [
    "VimeoVideo(\"656789768\", h=\"3b8f3bca0b\", width=600)"
   ]
  },
  {
   "cell_type": "markdown",
   "id": "81e899f9",
   "metadata": {
    "deletable": false,
    "editable": false
   },
   "source": [
    "**Task 2.3.2:** Use your `wrangle` function in a `for` loop to create a list named `frames`. The list should the cleaned DataFrames created from the CSV filenames your collected in `files`.\n",
    "\n",
    "- [What's a <span id='term'>for loop</span>?](../%40textbook/01-python-getting-started.ipynb#Python-for-Loops)\n",
    "- [<span id='technique'>Write a for loop in <span id='tool'>Python.](../%40textbook/01-python-getting-started.ipynb#Working-with-for-Loops)"
   ]
  },
  {
   "cell_type": "code",
   "execution_count": 8,
   "id": "4b9e7959",
   "metadata": {
    "deletable": false,
    "tags": []
   },
   "outputs": [
    {
     "data": {
      "text/plain": [
       "pandas.core.frame.DataFrame"
      ]
     },
     "execution_count": 8,
     "metadata": {},
     "output_type": "execute_result"
    }
   ],
   "source": [
    "frames = []\n",
    "for file in files:\n",
    "    df = wrangle(f)\n",
    "    frames.append(df)\n",
    "type(frames[0])"
   ]
  },
  {
   "cell_type": "code",
   "execution_count": 9,
   "id": "2a0c5c58",
   "metadata": {
    "deletable": false,
    "tags": []
   },
   "outputs": [],
   "source": [
    "# Check your work\n",
    "assert len(frames) == 5, f\"`frames` should contain 5 items, not {len(frames)}\"\n",
    "assert all(\n",
    "    [isinstance(frame, pd.DataFrame) for frame in frames]\n",
    "), \"The items in `frames` should all be DataFrames.\""
   ]
  },
  {
   "cell_type": "code",
   "execution_count": 10,
   "id": "2bba7f65-a598-4bb8-a5b3-828c42623494",
   "metadata": {
    "tags": []
   },
   "outputs": [
    {
     "data": {
      "text/html": [
       "<div>\n",
       "<style scoped>\n",
       "    .dataframe tbody tr th:only-of-type {\n",
       "        vertical-align: middle;\n",
       "    }\n",
       "\n",
       "    .dataframe tbody tr th {\n",
       "        vertical-align: top;\n",
       "    }\n",
       "\n",
       "    .dataframe thead th {\n",
       "        text-align: right;\n",
       "    }\n",
       "</style>\n",
       "<table border=\"1\" class=\"dataframe\">\n",
       "  <thead>\n",
       "    <tr style=\"text-align: right;\">\n",
       "      <th></th>\n",
       "      <th>operation</th>\n",
       "      <th>property_type</th>\n",
       "      <th>price</th>\n",
       "      <th>currency</th>\n",
       "      <th>price_aprox_local_currency</th>\n",
       "      <th>price_aprox_usd</th>\n",
       "      <th>surface_total_in_m2</th>\n",
       "      <th>surface_covered_in_m2</th>\n",
       "      <th>price_usd_per_m2</th>\n",
       "      <th>price_per_m2</th>\n",
       "      <th>floor</th>\n",
       "      <th>rooms</th>\n",
       "      <th>expenses</th>\n",
       "      <th>properati_url</th>\n",
       "      <th>lat</th>\n",
       "      <th>lon</th>\n",
       "      <th>neighborhood</th>\n",
       "    </tr>\n",
       "  </thead>\n",
       "  <tbody>\n",
       "    <tr>\n",
       "      <th>2</th>\n",
       "      <td>sell</td>\n",
       "      <td>apartment</td>\n",
       "      <td>215000.0</td>\n",
       "      <td>USD</td>\n",
       "      <td>3259916.00</td>\n",
       "      <td>215000.00</td>\n",
       "      <td>40.0</td>\n",
       "      <td>35.0</td>\n",
       "      <td>5375.000000</td>\n",
       "      <td>6142.857143</td>\n",
       "      <td>NaN</td>\n",
       "      <td>1.0</td>\n",
       "      <td>3500.0</td>\n",
       "      <td>http://recoleta.properati.com.ar/12j4v_venta_d...</td>\n",
       "      <td>-34.588993</td>\n",
       "      <td>-58.400133</td>\n",
       "      <td>Recoleta</td>\n",
       "    </tr>\n",
       "    <tr>\n",
       "      <th>9</th>\n",
       "      <td>sell</td>\n",
       "      <td>apartment</td>\n",
       "      <td>341550.0</td>\n",
       "      <td>USD</td>\n",
       "      <td>5178717.72</td>\n",
       "      <td>341550.00</td>\n",
       "      <td>NaN</td>\n",
       "      <td>90.0</td>\n",
       "      <td>NaN</td>\n",
       "      <td>3795.000000</td>\n",
       "      <td>8.0</td>\n",
       "      <td>2.0</td>\n",
       "      <td>NaN</td>\n",
       "      <td>http://recoleta.properati.com.ar/100t0_venta_d...</td>\n",
       "      <td>-34.588044</td>\n",
       "      <td>-58.398066</td>\n",
       "      <td>Recoleta</td>\n",
       "    </tr>\n",
       "    <tr>\n",
       "      <th>12</th>\n",
       "      <td>sell</td>\n",
       "      <td>apartment</td>\n",
       "      <td>1386000.0</td>\n",
       "      <td>ARS</td>\n",
       "      <td>1382153.13</td>\n",
       "      <td>91156.62</td>\n",
       "      <td>39.0</td>\n",
       "      <td>33.0</td>\n",
       "      <td>2337.349231</td>\n",
       "      <td>42000.000000</td>\n",
       "      <td>NaN</td>\n",
       "      <td>NaN</td>\n",
       "      <td>NaN</td>\n",
       "      <td>http://monserrat.properati.com.ar/t05l_venta_d...</td>\n",
       "      <td>-34.623320</td>\n",
       "      <td>-58.397461</td>\n",
       "      <td>Monserrat</td>\n",
       "    </tr>\n",
       "    <tr>\n",
       "      <th>13</th>\n",
       "      <td>sell</td>\n",
       "      <td>apartment</td>\n",
       "      <td>105000.0</td>\n",
       "      <td>USD</td>\n",
       "      <td>1592052.00</td>\n",
       "      <td>105000.00</td>\n",
       "      <td>NaN</td>\n",
       "      <td>33.0</td>\n",
       "      <td>NaN</td>\n",
       "      <td>3181.818182</td>\n",
       "      <td>1.0</td>\n",
       "      <td>1.0</td>\n",
       "      <td>NaN</td>\n",
       "      <td>http://belgrano.properati.com.ar/zsd5_venta_de...</td>\n",
       "      <td>-34.553897</td>\n",
       "      <td>-58.451939</td>\n",
       "      <td>Belgrano</td>\n",
       "    </tr>\n",
       "    <tr>\n",
       "      <th>17</th>\n",
       "      <td>sell</td>\n",
       "      <td>apartment</td>\n",
       "      <td>89681.0</td>\n",
       "      <td>USD</td>\n",
       "      <td>1359779.19</td>\n",
       "      <td>89681.00</td>\n",
       "      <td>46.0</td>\n",
       "      <td>39.0</td>\n",
       "      <td>1949.586957</td>\n",
       "      <td>2299.512821</td>\n",
       "      <td>NaN</td>\n",
       "      <td>1.0</td>\n",
       "      <td>1500.0</td>\n",
       "      <td>http://villa-del-parque.properati.com.ar/12q2f...</td>\n",
       "      <td>-34.628813</td>\n",
       "      <td>-58.472230</td>\n",
       "      <td>Villa del Parque</td>\n",
       "    </tr>\n",
       "  </tbody>\n",
       "</table>\n",
       "</div>"
      ],
      "text/plain": [
       "   operation property_type      price currency  price_aprox_local_currency  \\\n",
       "2       sell     apartment   215000.0      USD                  3259916.00   \n",
       "9       sell     apartment   341550.0      USD                  5178717.72   \n",
       "12      sell     apartment  1386000.0      ARS                  1382153.13   \n",
       "13      sell     apartment   105000.0      USD                  1592052.00   \n",
       "17      sell     apartment    89681.0      USD                  1359779.19   \n",
       "\n",
       "    price_aprox_usd  surface_total_in_m2  surface_covered_in_m2  \\\n",
       "2         215000.00                 40.0                   35.0   \n",
       "9         341550.00                  NaN                   90.0   \n",
       "12         91156.62                 39.0                   33.0   \n",
       "13        105000.00                  NaN                   33.0   \n",
       "17         89681.00                 46.0                   39.0   \n",
       "\n",
       "    price_usd_per_m2  price_per_m2  floor  rooms  expenses  \\\n",
       "2        5375.000000   6142.857143    NaN    1.0    3500.0   \n",
       "9                NaN   3795.000000    8.0    2.0       NaN   \n",
       "12       2337.349231  42000.000000    NaN    NaN       NaN   \n",
       "13               NaN   3181.818182    1.0    1.0       NaN   \n",
       "17       1949.586957   2299.512821    NaN    1.0    1500.0   \n",
       "\n",
       "                                        properati_url        lat        lon  \\\n",
       "2   http://recoleta.properati.com.ar/12j4v_venta_d... -34.588993 -58.400133   \n",
       "9   http://recoleta.properati.com.ar/100t0_venta_d... -34.588044 -58.398066   \n",
       "12  http://monserrat.properati.com.ar/t05l_venta_d... -34.623320 -58.397461   \n",
       "13  http://belgrano.properati.com.ar/zsd5_venta_de... -34.553897 -58.451939   \n",
       "17  http://villa-del-parque.properati.com.ar/12q2f... -34.628813 -58.472230   \n",
       "\n",
       "        neighborhood  \n",
       "2           Recoleta  \n",
       "9           Recoleta  \n",
       "12         Monserrat  \n",
       "13          Belgrano  \n",
       "17  Villa del Parque  "
      ]
     },
     "execution_count": 10,
     "metadata": {},
     "output_type": "execute_result"
    }
   ],
   "source": [
    "frames[0].head()"
   ]
  },
  {
   "cell_type": "markdown",
   "id": "291a783c",
   "metadata": {
    "deletable": false,
    "editable": false
   },
   "source": [
    "The final step is to use pandas to combine all the DataFrames in `frames`. "
   ]
  },
  {
   "cell_type": "code",
   "execution_count": null,
   "id": "f674cd98",
   "metadata": {
    "deletable": false,
    "editable": false,
    "init_cell": true,
    "tags": []
   },
   "outputs": [],
   "source": [
    "VimeoVideo(\"656789700\", h=\"57adef4afe\", width=600)"
   ]
  },
  {
   "cell_type": "markdown",
   "id": "9a3c80f7",
   "metadata": {
    "deletable": false,
    "editable": false
   },
   "source": [
    "**Task 2.3.3:** Use [`pd.concat`](https://pandas.pydata.org/docs/reference/api/pandas.concat.html) to concatenate the items in `frames` into a single DataFrame `df`. Make sure you set the `ignore_index` argument to `True`.\n",
    "\n",
    "- [<span id='technique'>Concatenate two or more DataFrames using <span id='tool'>pandas.](../%40textbook/03-pandas-getting-started.ipynb#Concatenating-DataFrames)"
   ]
  },
  {
   "cell_type": "code",
   "execution_count": 11,
   "id": "c612ace6",
   "metadata": {
    "deletable": false,
    "tags": []
   },
   "outputs": [
    {
     "data": {
      "text/plain": [
       "(6575, 17)"
      ]
     },
     "execution_count": 11,
     "metadata": {},
     "output_type": "execute_result"
    }
   ],
   "source": [
    "df = pd.concat(frames, ignore_index=True)\n",
    "df.shape"
   ]
  },
  {
   "cell_type": "code",
   "execution_count": null,
   "id": "f9497ad4",
   "metadata": {
    "deletable": false,
    "tags": []
   },
   "outputs": [],
   "source": [
    "# Check your work\n",
    "assert len(df) == 6582, f\"`df` is the wrong size: {len(df)}.\""
   ]
  },
  {
   "cell_type": "markdown",
   "id": "e57ed531",
   "metadata": {
    "deletable": false,
    "editable": false
   },
   "source": [
    "Excellent work! You can now clean and combine as many CSV files as your computer can handle. You're well on your way to working with big data. 📈"
   ]
  },
  {
   "cell_type": "markdown",
   "id": "7cb8eead",
   "metadata": {
    "deletable": false,
    "editable": false
   },
   "source": [
    "## Explore"
   ]
  },
  {
   "cell_type": "markdown",
   "id": "2a79655d",
   "metadata": {
    "deletable": false,
    "editable": false
   },
   "source": [
    "Looking through the output from the `df.head()` call above, there's a little bit more cleaning we need to do before we can work with the neighborhood information in this dataset. The good news is that, because we're using a `wrangle` function, we only need to change the function to re-clean all of our CSV files. This is why functions are so useful."
   ]
  },
  {
   "cell_type": "code",
   "execution_count": null,
   "id": "e44dc8ea",
   "metadata": {
    "deletable": false,
    "editable": false,
    "init_cell": true,
    "tags": []
   },
   "outputs": [],
   "source": [
    "VimeoVideo(\"656791659\", h=\"581201dc92\", width=600)"
   ]
  },
  {
   "cell_type": "markdown",
   "id": "ef5ab044",
   "metadata": {
    "deletable": false,
    "editable": false
   },
   "source": [
    "**Task 2.3.4:** Modify your `wrangle` function to create a new feature `\"neighborhood\"`. You can find the neighborhood for each property in the `\"place_with_parent_names\"` column. For example, a property with the place name `\"|Argentina|Capital Federal|Palermo|\"` is located in the neighborhood is `\"Palermo\"`. Also, your function should drop the `\"place_with_parent_names\"` column.\n",
    "\n",
    "Be sure to rerun all the cells above before you continue.\n",
    "\n",
    "- [<span id='technique'>Split the strings in one column to create another using <span id='tool'>pandas.](../%40textbook/03-pandas-getting-started.ipynb#Splitting-Strings)"
   ]
  },
  {
   "cell_type": "code",
   "execution_count": 12,
   "id": "34bf8445-571d-4745-864e-671b6d3c8260",
   "metadata": {
    "tags": []
   },
   "outputs": [
    {
     "ename": "KeyError",
     "evalue": "'place_with_parent_names'",
     "output_type": "error",
     "traceback": [
      "\u001b[0;31m---------------------------------------------------------------------------\u001b[0m",
      "\u001b[0;31mKeyError\u001b[0m                                  Traceback (most recent call last)",
      "File \u001b[0;32m/opt/conda/lib/python3.11/site-packages/pandas/core/indexes/base.py:3802\u001b[0m, in \u001b[0;36mIndex.get_loc\u001b[0;34m(self, key, method, tolerance)\u001b[0m\n\u001b[1;32m   3801\u001b[0m \u001b[38;5;28;01mtry\u001b[39;00m:\n\u001b[0;32m-> 3802\u001b[0m     \u001b[38;5;28;01mreturn\u001b[39;00m \u001b[38;5;28;43mself\u001b[39;49m\u001b[38;5;241;43m.\u001b[39;49m\u001b[43m_engine\u001b[49m\u001b[38;5;241;43m.\u001b[39;49m\u001b[43mget_loc\u001b[49m\u001b[43m(\u001b[49m\u001b[43mcasted_key\u001b[49m\u001b[43m)\u001b[49m\n\u001b[1;32m   3803\u001b[0m \u001b[38;5;28;01mexcept\u001b[39;00m \u001b[38;5;167;01mKeyError\u001b[39;00m \u001b[38;5;28;01mas\u001b[39;00m err:\n",
      "File \u001b[0;32m/opt/conda/lib/python3.11/site-packages/pandas/_libs/index.pyx:138\u001b[0m, in \u001b[0;36mpandas._libs.index.IndexEngine.get_loc\u001b[0;34m()\u001b[0m\n",
      "File \u001b[0;32m/opt/conda/lib/python3.11/site-packages/pandas/_libs/index.pyx:165\u001b[0m, in \u001b[0;36mpandas._libs.index.IndexEngine.get_loc\u001b[0;34m()\u001b[0m\n",
      "File \u001b[0;32mpandas/_libs/hashtable_class_helper.pxi:5745\u001b[0m, in \u001b[0;36mpandas._libs.hashtable.PyObjectHashTable.get_item\u001b[0;34m()\u001b[0m\n",
      "File \u001b[0;32mpandas/_libs/hashtable_class_helper.pxi:5753\u001b[0m, in \u001b[0;36mpandas._libs.hashtable.PyObjectHashTable.get_item\u001b[0;34m()\u001b[0m\n",
      "\u001b[0;31mKeyError\u001b[0m: 'place_with_parent_names'",
      "\nThe above exception was the direct cause of the following exception:\n",
      "\u001b[0;31mKeyError\u001b[0m                                  Traceback (most recent call last)",
      "Cell \u001b[0;32mIn[12], line 1\u001b[0m\n\u001b[0;32m----> 1\u001b[0m \u001b[43mdf\u001b[49m\u001b[43m[\u001b[49m\u001b[38;5;124;43m\"\u001b[39;49m\u001b[38;5;124;43mplace_with_parent_names\u001b[39;49m\u001b[38;5;124;43m\"\u001b[39;49m\u001b[43m]\u001b[49m\n",
      "File \u001b[0;32m/opt/conda/lib/python3.11/site-packages/pandas/core/frame.py:3807\u001b[0m, in \u001b[0;36mDataFrame.__getitem__\u001b[0;34m(self, key)\u001b[0m\n\u001b[1;32m   3805\u001b[0m \u001b[38;5;28;01mif\u001b[39;00m \u001b[38;5;28mself\u001b[39m\u001b[38;5;241m.\u001b[39mcolumns\u001b[38;5;241m.\u001b[39mnlevels \u001b[38;5;241m>\u001b[39m \u001b[38;5;241m1\u001b[39m:\n\u001b[1;32m   3806\u001b[0m     \u001b[38;5;28;01mreturn\u001b[39;00m \u001b[38;5;28mself\u001b[39m\u001b[38;5;241m.\u001b[39m_getitem_multilevel(key)\n\u001b[0;32m-> 3807\u001b[0m indexer \u001b[38;5;241m=\u001b[39m \u001b[38;5;28;43mself\u001b[39;49m\u001b[38;5;241;43m.\u001b[39;49m\u001b[43mcolumns\u001b[49m\u001b[38;5;241;43m.\u001b[39;49m\u001b[43mget_loc\u001b[49m\u001b[43m(\u001b[49m\u001b[43mkey\u001b[49m\u001b[43m)\u001b[49m\n\u001b[1;32m   3808\u001b[0m \u001b[38;5;28;01mif\u001b[39;00m is_integer(indexer):\n\u001b[1;32m   3809\u001b[0m     indexer \u001b[38;5;241m=\u001b[39m [indexer]\n",
      "File \u001b[0;32m/opt/conda/lib/python3.11/site-packages/pandas/core/indexes/base.py:3804\u001b[0m, in \u001b[0;36mIndex.get_loc\u001b[0;34m(self, key, method, tolerance)\u001b[0m\n\u001b[1;32m   3802\u001b[0m     \u001b[38;5;28;01mreturn\u001b[39;00m \u001b[38;5;28mself\u001b[39m\u001b[38;5;241m.\u001b[39m_engine\u001b[38;5;241m.\u001b[39mget_loc(casted_key)\n\u001b[1;32m   3803\u001b[0m \u001b[38;5;28;01mexcept\u001b[39;00m \u001b[38;5;167;01mKeyError\u001b[39;00m \u001b[38;5;28;01mas\u001b[39;00m err:\n\u001b[0;32m-> 3804\u001b[0m     \u001b[38;5;28;01mraise\u001b[39;00m \u001b[38;5;167;01mKeyError\u001b[39;00m(key) \u001b[38;5;28;01mfrom\u001b[39;00m \u001b[38;5;21;01merr\u001b[39;00m\n\u001b[1;32m   3805\u001b[0m \u001b[38;5;28;01mexcept\u001b[39;00m \u001b[38;5;167;01mTypeError\u001b[39;00m:\n\u001b[1;32m   3806\u001b[0m     \u001b[38;5;66;03m# If we have a listlike key, _check_indexing_error will raise\u001b[39;00m\n\u001b[1;32m   3807\u001b[0m     \u001b[38;5;66;03m#  InvalidIndexError. Otherwise we fall through and re-raise\u001b[39;00m\n\u001b[1;32m   3808\u001b[0m     \u001b[38;5;66;03m#  the TypeError.\u001b[39;00m\n\u001b[1;32m   3809\u001b[0m     \u001b[38;5;28mself\u001b[39m\u001b[38;5;241m.\u001b[39m_check_indexing_error(key)\n",
      "\u001b[0;31mKeyError\u001b[0m: 'place_with_parent_names'"
     ]
    }
   ],
   "source": [
    "df[\"place_with_parent_names\"]"
   ]
  },
  {
   "cell_type": "code",
   "execution_count": null,
   "id": "5ed4a6df-8a0c-41d5-8aef-1bc361408a6a",
   "metadata": {
    "tags": []
   },
   "outputs": [],
   "source": [
    "df[\"place_with_parent_names\"].str.split(\"|\", expand = True)[3]"
   ]
  },
  {
   "cell_type": "code",
   "execution_count": null,
   "id": "a723ec6c",
   "metadata": {
    "deletable": false,
    "tags": []
   },
   "outputs": [],
   "source": [
    "# Check your work\n",
    "assert df.shape == (6582, 17), f\"`df` is the wrong size: {df.shape}.\"\n",
    "assert (\n",
    "    \"place_with_parent_names\" not in df\n",
    "), 'Remember to remove the `\"place_with_parent_names\"` column.'"
   ]
  },
  {
   "cell_type": "markdown",
   "id": "fdaeb0ac",
   "metadata": {
    "deletable": false,
    "editable": false
   },
   "source": [
    "## Split"
   ]
  },
  {
   "cell_type": "markdown",
   "id": "2c34aed7",
   "metadata": {
    "deletable": false,
    "editable": false
   },
   "source": [
    "At this point, you should feel more comfortable with the splitting data, so we're going to condense the whole process down to one task. "
   ]
  },
  {
   "cell_type": "code",
   "execution_count": null,
   "id": "3cb39e4d",
   "metadata": {
    "deletable": false,
    "editable": false,
    "init_cell": true,
    "tags": []
   },
   "outputs": [],
   "source": [
    "VimeoVideo(\"656791577\", h=\"0ceb5341f8\", width=600)"
   ]
  },
  {
   "cell_type": "markdown",
   "id": "d50a1d70",
   "metadata": {
    "deletable": false,
    "editable": false
   },
   "source": [
    "**Task 2.3.5:** Create your feature matrix `X_train` and target vector `y_train`. `X_train` should contain one feature: `\"neighborhood\"`. Your target is `\"price_aprox_usd\"`. \n",
    "\n",
    "- [What's a <span id='term'>feature matrix?](../%40textbook/15-ml-regression.ipynb#Linear-Regression)\n",
    "- [What's a <span id='term'>target vector?](../%40textbook/15-ml-regression.ipynb#Linear-Regression)\n",
    "- [<span id='technique'>Subset a DataFrame by selecting one or more columns in <span id='tool'>pandas.](../%40textbook/04-pandas-advanced.ipynb#Subset-a-DataFrame-by-Selecting-One-or-More-Columns) \n",
    "- [<span id='technique'>Select a Series from a DataFrame in <span id='tool'>pandas.](../%40textbook/04-pandas-advanced.ipynb#Select-a-Series-from-a-DataFrame) "
   ]
  },
  {
   "cell_type": "code",
   "execution_count": 13,
   "id": "1da605f7",
   "metadata": {
    "deletable": false,
    "tags": []
   },
   "outputs": [],
   "source": [
    "target = \"price_aprox_usd\"\n",
    "features = [\"neighborhood\"]\n",
    "y_train = df[target]\n",
    "X_train = df[features]"
   ]
  },
  {
   "cell_type": "code",
   "execution_count": 14,
   "id": "8e64e0d1",
   "metadata": {
    "deletable": false,
    "tags": []
   },
   "outputs": [
    {
     "ename": "AssertionError",
     "evalue": "`X_train` is the wrong size: (6575, 1).",
     "output_type": "error",
     "traceback": [
      "\u001b[0;31m---------------------------------------------------------------------------\u001b[0m",
      "\u001b[0;31mAssertionError\u001b[0m                            Traceback (most recent call last)",
      "Cell \u001b[0;32mIn[14], line 2\u001b[0m\n\u001b[1;32m      1\u001b[0m \u001b[38;5;66;03m# Check your work\u001b[39;00m\n\u001b[0;32m----> 2\u001b[0m \u001b[38;5;28;01massert\u001b[39;00m X_train\u001b[38;5;241m.\u001b[39mshape \u001b[38;5;241m==\u001b[39m (\u001b[38;5;241m6582\u001b[39m, \u001b[38;5;241m1\u001b[39m), \u001b[38;5;124mf\u001b[39m\u001b[38;5;124m\"\u001b[39m\u001b[38;5;124m`X_train` is the wrong size: \u001b[39m\u001b[38;5;132;01m{\u001b[39;00mX_train\u001b[38;5;241m.\u001b[39mshape\u001b[38;5;132;01m}\u001b[39;00m\u001b[38;5;124m.\u001b[39m\u001b[38;5;124m\"\u001b[39m\n\u001b[1;32m      3\u001b[0m \u001b[38;5;28;01massert\u001b[39;00m y_train\u001b[38;5;241m.\u001b[39mshape \u001b[38;5;241m==\u001b[39m (\u001b[38;5;241m6582\u001b[39m,), \u001b[38;5;124mf\u001b[39m\u001b[38;5;124m\"\u001b[39m\u001b[38;5;124m`y_train` is the wrong size: \u001b[39m\u001b[38;5;132;01m{\u001b[39;00my_train\u001b[38;5;241m.\u001b[39mshape\u001b[38;5;132;01m}\u001b[39;00m\u001b[38;5;124m.\u001b[39m\u001b[38;5;124m\"\u001b[39m\n",
      "\u001b[0;31mAssertionError\u001b[0m: `X_train` is the wrong size: (6575, 1)."
     ]
    }
   ],
   "source": [
    "# Check your work\n",
    "assert X_train.shape == (6582, 1), f\"`X_train` is the wrong size: {X_train.shape}.\"\n",
    "assert y_train.shape == (6582,), f\"`y_train` is the wrong size: {y_train.shape}.\""
   ]
  },
  {
   "cell_type": "markdown",
   "id": "a3a23c81",
   "metadata": {
    "deletable": false,
    "editable": false,
    "tags": []
   },
   "source": [
    "# Build Model"
   ]
  },
  {
   "cell_type": "markdown",
   "id": "66e1de7e",
   "metadata": {
    "deletable": false,
    "editable": false
   },
   "source": [
    "## Baseline"
   ]
  },
  {
   "cell_type": "markdown",
   "id": "45ea45bb",
   "metadata": {
    "deletable": false,
    "editable": false
   },
   "source": [
    "Let's also condense the code we use to establish our baseline. "
   ]
  },
  {
   "cell_type": "code",
   "execution_count": null,
   "id": "327fc35e",
   "metadata": {
    "deletable": false,
    "editable": false,
    "init_cell": true,
    "tags": []
   },
   "outputs": [],
   "source": [
    "VimeoVideo(\"656791443\", h=\"120a740cc3\", width=600)"
   ]
  },
  {
   "cell_type": "markdown",
   "id": "e2c70806",
   "metadata": {
    "deletable": false,
    "editable": false
   },
   "source": [
    "**Task 2.3.6:** Calculate the baseline mean absolute error for your model.\n",
    "\n",
    "- [<span id='term'>What's a performance metric?](../%40textbook/12-ml-core.ipynb#Performance-Metrics)\n",
    "- [<span id='term'>What's mean absolute error?](../%40textbook/12-ml-core.ipynb#Performance-Metrics)\n",
    "- [<span id='technique'>Calculate summary statistics for a DataFrame or Series in <span id='tool'>pandas.](../%40textbook/05-pandas-summary-statistics.ipynb#Working-with-Summary-Statistics)\n",
    "- [<span id='technique'>Calculate the mean absolute error for a list of predictions in <span id='tool'>scikit-learn.](../%40textbook/15-ml-regression.ipynb#Calculating-the-Mean-Absolute-Error-for-a-List-of-Predictions)"
   ]
  },
  {
   "cell_type": "code",
   "execution_count": 15,
   "id": "765d04c6",
   "metadata": {
    "deletable": false,
    "tags": []
   },
   "outputs": [
    {
     "name": "stdout",
     "output_type": "stream",
     "text": [
      "Mean apt price: 133921.1832015209\n",
      "Baseline MAE: 45628.215697668034\n"
     ]
    }
   ],
   "source": [
    "y_mean = y_train.mean()\n",
    "y_pred_baseline = [y_mean] * len(y_train)\n",
    "print(\"Mean apt price:\", y_mean)\n",
    "\n",
    "print(\"Baseline MAE:\", mean_absolute_error(y_train, y_pred_baseline))"
   ]
  },
  {
   "cell_type": "markdown",
   "id": "98bcf348",
   "metadata": {
    "deletable": false,
    "editable": false
   },
   "source": [
    "The mean apartment price and baseline MAE should be similar but not identical to last lesson. The numbers will change since we're working with more data."
   ]
  },
  {
   "cell_type": "markdown",
   "id": "d9821da5",
   "metadata": {
    "deletable": false,
    "editable": false
   },
   "source": [
    "## Iterate"
   ]
  },
  {
   "cell_type": "markdown",
   "id": "de7be972",
   "metadata": {
    "deletable": false,
    "editable": false
   },
   "source": [
    "If you try to fit a `LinearRegression` predictor to your training data at this point, you'll get an error that looks like this:\n",
    "\n",
    "```\n",
    "ValueError: could not convert string to float\n",
    "```\n",
    "\n",
    "What does this mean? When you fit a linear regression model, you're asking scikit-learn to perform a mathematical operation. The problem is that our training set contains neighborhood information in non-numerical form. In order to create our model we need to **encode** that information so that it's represented numerically. The good news is that there are lots of transformers that can do this. Here, we'll use the one from the [Category Encoders](https://contrib.scikit-learn.org/category_encoders/index.html) library, called a [`OneHotEncoder`](https://contrib.scikit-learn.org/category_encoders/onehot.html).\n",
    "\n",
    "Before we build include this transformer in our pipeline, let's explore how it works. "
   ]
  },
  {
   "cell_type": "code",
   "execution_count": null,
   "id": "f21cf386",
   "metadata": {
    "deletable": false,
    "editable": false,
    "init_cell": true,
    "tags": []
   },
   "outputs": [],
   "source": [
    "VimeoVideo(\"656792790\", h=\"4097efb40d\", width=600)"
   ]
  },
  {
   "cell_type": "markdown",
   "id": "65f8b5bc",
   "metadata": {
    "deletable": false,
    "editable": false
   },
   "source": [
    "**Task 2.3.7:** First, instantiate a `OneHotEncoder` named `ohe`. Make sure to set the `use_cat_names` argument to `True`. Next, fit your transformer to the feature matrix `X_train`. Finally, use your encoder to transform the feature matrix `X_train`, and assign the transformed data to the variable `XT_train`.\n",
    "\n",
    "- [What's <span id='term'>one-hot encoding?](../%40textbook/13-ml-data-pre-processing-and-production.ipynb#One-Hot-Encoding)\n",
    "- [<span id='technique'>Instantiate a transformer in <span id='tool'>scikit-learn.](../%40textbook/13-ml-data-pre-processing-and-production.ipynb#One-Hot-Encoding)\n",
    "- [<span id='technique'>Fit a transformer to training data in <span id='tool'>scikit-learn.](../%40textbook/13-ml-data-pre-processing-and-production.ipynb#One-Hot-Encoding)\n",
    "- [<span id='technique'>Transform data using a transformer in <span id='tool'>scikit-learn.](../%40textbook/13-ml-data-pre-processing-and-production.ipynb#One-Hot-Encoding)"
   ]
  },
  {
   "cell_type": "code",
   "execution_count": 16,
   "id": "312a77a1-76f7-473c-9f73-f07a5aafdbde",
   "metadata": {
    "tags": []
   },
   "outputs": [
    {
     "data": {
      "text/html": [
       "<div>\n",
       "<style scoped>\n",
       "    .dataframe tbody tr th:only-of-type {\n",
       "        vertical-align: middle;\n",
       "    }\n",
       "\n",
       "    .dataframe tbody tr th {\n",
       "        vertical-align: top;\n",
       "    }\n",
       "\n",
       "    .dataframe thead th {\n",
       "        text-align: right;\n",
       "    }\n",
       "</style>\n",
       "<table border=\"1\" class=\"dataframe\">\n",
       "  <thead>\n",
       "    <tr style=\"text-align: right;\">\n",
       "      <th></th>\n",
       "      <th>neighborhood</th>\n",
       "    </tr>\n",
       "  </thead>\n",
       "  <tbody>\n",
       "    <tr>\n",
       "      <th>0</th>\n",
       "      <td>Recoleta</td>\n",
       "    </tr>\n",
       "    <tr>\n",
       "      <th>1</th>\n",
       "      <td>Recoleta</td>\n",
       "    </tr>\n",
       "    <tr>\n",
       "      <th>2</th>\n",
       "      <td>Monserrat</td>\n",
       "    </tr>\n",
       "    <tr>\n",
       "      <th>3</th>\n",
       "      <td>Belgrano</td>\n",
       "    </tr>\n",
       "    <tr>\n",
       "      <th>4</th>\n",
       "      <td>Villa del Parque</td>\n",
       "    </tr>\n",
       "  </tbody>\n",
       "</table>\n",
       "</div>"
      ],
      "text/plain": [
       "       neighborhood\n",
       "0          Recoleta\n",
       "1          Recoleta\n",
       "2         Monserrat\n",
       "3          Belgrano\n",
       "4  Villa del Parque"
      ]
     },
     "execution_count": 16,
     "metadata": {},
     "output_type": "execute_result"
    }
   ],
   "source": [
    "X_train.head()"
   ]
  },
  {
   "cell_type": "code",
   "execution_count": 17,
   "id": "bf53657e",
   "metadata": {
    "deletable": false,
    "tags": []
   },
   "outputs": [
    {
     "name": "stdout",
     "output_type": "stream",
     "text": [
      "(6575, 53)\n"
     ]
    },
    {
     "data": {
      "text/html": [
       "<div>\n",
       "<style scoped>\n",
       "    .dataframe tbody tr th:only-of-type {\n",
       "        vertical-align: middle;\n",
       "    }\n",
       "\n",
       "    .dataframe tbody tr th {\n",
       "        vertical-align: top;\n",
       "    }\n",
       "\n",
       "    .dataframe thead th {\n",
       "        text-align: right;\n",
       "    }\n",
       "</style>\n",
       "<table border=\"1\" class=\"dataframe\">\n",
       "  <thead>\n",
       "    <tr style=\"text-align: right;\">\n",
       "      <th></th>\n",
       "      <th>neighborhood_Recoleta</th>\n",
       "      <th>neighborhood_Monserrat</th>\n",
       "      <th>neighborhood_Belgrano</th>\n",
       "      <th>neighborhood_Villa del Parque</th>\n",
       "      <th>neighborhood_Villa Pueyrredón</th>\n",
       "      <th>neighborhood_Almagro</th>\n",
       "      <th>neighborhood_Palermo</th>\n",
       "      <th>neighborhood_</th>\n",
       "      <th>neighborhood_Tribunales</th>\n",
       "      <th>neighborhood_Balvanera</th>\n",
       "      <th>...</th>\n",
       "      <th>neighborhood_Villa General Mitre</th>\n",
       "      <th>neighborhood_Agronomía</th>\n",
       "      <th>neighborhood_Villa Ortuzar</th>\n",
       "      <th>neighborhood_Chacarita</th>\n",
       "      <th>neighborhood_Velez Sarsfield</th>\n",
       "      <th>neighborhood_Monte Castro</th>\n",
       "      <th>neighborhood_Las Cañitas</th>\n",
       "      <th>neighborhood_Constitución</th>\n",
       "      <th>neighborhood_Parque Avellaneda</th>\n",
       "      <th>neighborhood_Villa Soldati</th>\n",
       "    </tr>\n",
       "  </thead>\n",
       "  <tbody>\n",
       "    <tr>\n",
       "      <th>0</th>\n",
       "      <td>1</td>\n",
       "      <td>0</td>\n",
       "      <td>0</td>\n",
       "      <td>0</td>\n",
       "      <td>0</td>\n",
       "      <td>0</td>\n",
       "      <td>0</td>\n",
       "      <td>0</td>\n",
       "      <td>0</td>\n",
       "      <td>0</td>\n",
       "      <td>...</td>\n",
       "      <td>0</td>\n",
       "      <td>0</td>\n",
       "      <td>0</td>\n",
       "      <td>0</td>\n",
       "      <td>0</td>\n",
       "      <td>0</td>\n",
       "      <td>0</td>\n",
       "      <td>0</td>\n",
       "      <td>0</td>\n",
       "      <td>0</td>\n",
       "    </tr>\n",
       "    <tr>\n",
       "      <th>1</th>\n",
       "      <td>1</td>\n",
       "      <td>0</td>\n",
       "      <td>0</td>\n",
       "      <td>0</td>\n",
       "      <td>0</td>\n",
       "      <td>0</td>\n",
       "      <td>0</td>\n",
       "      <td>0</td>\n",
       "      <td>0</td>\n",
       "      <td>0</td>\n",
       "      <td>...</td>\n",
       "      <td>0</td>\n",
       "      <td>0</td>\n",
       "      <td>0</td>\n",
       "      <td>0</td>\n",
       "      <td>0</td>\n",
       "      <td>0</td>\n",
       "      <td>0</td>\n",
       "      <td>0</td>\n",
       "      <td>0</td>\n",
       "      <td>0</td>\n",
       "    </tr>\n",
       "    <tr>\n",
       "      <th>2</th>\n",
       "      <td>0</td>\n",
       "      <td>1</td>\n",
       "      <td>0</td>\n",
       "      <td>0</td>\n",
       "      <td>0</td>\n",
       "      <td>0</td>\n",
       "      <td>0</td>\n",
       "      <td>0</td>\n",
       "      <td>0</td>\n",
       "      <td>0</td>\n",
       "      <td>...</td>\n",
       "      <td>0</td>\n",
       "      <td>0</td>\n",
       "      <td>0</td>\n",
       "      <td>0</td>\n",
       "      <td>0</td>\n",
       "      <td>0</td>\n",
       "      <td>0</td>\n",
       "      <td>0</td>\n",
       "      <td>0</td>\n",
       "      <td>0</td>\n",
       "    </tr>\n",
       "    <tr>\n",
       "      <th>3</th>\n",
       "      <td>0</td>\n",
       "      <td>0</td>\n",
       "      <td>1</td>\n",
       "      <td>0</td>\n",
       "      <td>0</td>\n",
       "      <td>0</td>\n",
       "      <td>0</td>\n",
       "      <td>0</td>\n",
       "      <td>0</td>\n",
       "      <td>0</td>\n",
       "      <td>...</td>\n",
       "      <td>0</td>\n",
       "      <td>0</td>\n",
       "      <td>0</td>\n",
       "      <td>0</td>\n",
       "      <td>0</td>\n",
       "      <td>0</td>\n",
       "      <td>0</td>\n",
       "      <td>0</td>\n",
       "      <td>0</td>\n",
       "      <td>0</td>\n",
       "    </tr>\n",
       "    <tr>\n",
       "      <th>4</th>\n",
       "      <td>0</td>\n",
       "      <td>0</td>\n",
       "      <td>0</td>\n",
       "      <td>1</td>\n",
       "      <td>0</td>\n",
       "      <td>0</td>\n",
       "      <td>0</td>\n",
       "      <td>0</td>\n",
       "      <td>0</td>\n",
       "      <td>0</td>\n",
       "      <td>...</td>\n",
       "      <td>0</td>\n",
       "      <td>0</td>\n",
       "      <td>0</td>\n",
       "      <td>0</td>\n",
       "      <td>0</td>\n",
       "      <td>0</td>\n",
       "      <td>0</td>\n",
       "      <td>0</td>\n",
       "      <td>0</td>\n",
       "      <td>0</td>\n",
       "    </tr>\n",
       "  </tbody>\n",
       "</table>\n",
       "<p>5 rows × 53 columns</p>\n",
       "</div>"
      ],
      "text/plain": [
       "   neighborhood_Recoleta  neighborhood_Monserrat  neighborhood_Belgrano  \\\n",
       "0                      1                       0                      0   \n",
       "1                      1                       0                      0   \n",
       "2                      0                       1                      0   \n",
       "3                      0                       0                      1   \n",
       "4                      0                       0                      0   \n",
       "\n",
       "   neighborhood_Villa del Parque  neighborhood_Villa Pueyrredón  \\\n",
       "0                              0                              0   \n",
       "1                              0                              0   \n",
       "2                              0                              0   \n",
       "3                              0                              0   \n",
       "4                              1                              0   \n",
       "\n",
       "   neighborhood_Almagro  neighborhood_Palermo  neighborhood_  \\\n",
       "0                     0                     0              0   \n",
       "1                     0                     0              0   \n",
       "2                     0                     0              0   \n",
       "3                     0                     0              0   \n",
       "4                     0                     0              0   \n",
       "\n",
       "   neighborhood_Tribunales  neighborhood_Balvanera  ...  \\\n",
       "0                        0                       0  ...   \n",
       "1                        0                       0  ...   \n",
       "2                        0                       0  ...   \n",
       "3                        0                       0  ...   \n",
       "4                        0                       0  ...   \n",
       "\n",
       "   neighborhood_Villa General Mitre  neighborhood_Agronomía  \\\n",
       "0                                 0                       0   \n",
       "1                                 0                       0   \n",
       "2                                 0                       0   \n",
       "3                                 0                       0   \n",
       "4                                 0                       0   \n",
       "\n",
       "   neighborhood_Villa Ortuzar  neighborhood_Chacarita  \\\n",
       "0                           0                       0   \n",
       "1                           0                       0   \n",
       "2                           0                       0   \n",
       "3                           0                       0   \n",
       "4                           0                       0   \n",
       "\n",
       "   neighborhood_Velez Sarsfield  neighborhood_Monte Castro  \\\n",
       "0                             0                          0   \n",
       "1                             0                          0   \n",
       "2                             0                          0   \n",
       "3                             0                          0   \n",
       "4                             0                          0   \n",
       "\n",
       "   neighborhood_Las Cañitas  neighborhood_Constitución  \\\n",
       "0                         0                          0   \n",
       "1                         0                          0   \n",
       "2                         0                          0   \n",
       "3                         0                          0   \n",
       "4                         0                          0   \n",
       "\n",
       "   neighborhood_Parque Avellaneda  neighborhood_Villa Soldati  \n",
       "0                               0                           0  \n",
       "1                               0                           0  \n",
       "2                               0                           0  \n",
       "3                               0                           0  \n",
       "4                               0                           0  \n",
       "\n",
       "[5 rows x 53 columns]"
      ]
     },
     "execution_count": 17,
     "metadata": {},
     "output_type": "execute_result"
    }
   ],
   "source": [
    "# Instantiate\n",
    "ohe = OneHotEncoder(use_cat_names=True)\n",
    "# Fit\n",
    "ohe.fit(X_train)\n",
    "# Transform\n",
    "XT_train = ohe.transform(X_train)\n",
    "print(XT_train.shape)\n",
    "XT_train.head()"
   ]
  },
  {
   "cell_type": "code",
   "execution_count": null,
   "id": "5a2cb518",
   "metadata": {
    "deletable": false
   },
   "outputs": [],
   "source": [
    "# Check your work\n",
    "assert XT_train.shape == (6582, 57), f\"`XT_train` is the wrong shape: {XT_train.shape}\""
   ]
  },
  {
   "cell_type": "markdown",
   "id": "24726732",
   "metadata": {
    "deletable": false,
    "editable": false
   },
   "source": [
    "Now that we have an idea for how the `OneHotEncoder` works, let's bring it into our pipeline."
   ]
  },
  {
   "cell_type": "code",
   "execution_count": null,
   "id": "0c6b31cb",
   "metadata": {
    "deletable": false,
    "editable": false,
    "init_cell": true,
    "tags": []
   },
   "outputs": [],
   "source": [
    "VimeoVideo(\"656792622\", h=\"0b9d189e8f\", width=600)"
   ]
  },
  {
   "cell_type": "markdown",
   "id": "451d4ff7",
   "metadata": {
    "deletable": false,
    "editable": false
   },
   "source": [
    "**Task 2.3.8:** Create a pipeline named `model` that contains a `OneHotEncoder` transformer and a `LinearRegression` predictor. Then fit your model to the training data. \n",
    "\n",
    "- [What's a <span id='term'>pipeline?](../%40textbook/13-ml-data-pre-processing-and-production.ipynb#scikit-learn-in-Production)\n",
    "- [<span id='technique'>Create a pipeline in <span id='tool'>scikit-learn.](../%40textbook/13-ml-data-pre-processing-and-production.ipynb#Creating-a-Pipeline-in-scikit-learn)"
   ]
  },
  {
   "cell_type": "code",
   "execution_count": 37,
   "id": "b3526c39",
   "metadata": {
    "deletable": false,
    "tags": []
   },
   "outputs": [
    {
     "data": {
      "text/html": [
       "<style>#sk-container-id-2 {color: black;}#sk-container-id-2 pre{padding: 0;}#sk-container-id-2 div.sk-toggleable {background-color: white;}#sk-container-id-2 label.sk-toggleable__label {cursor: pointer;display: block;width: 100%;margin-bottom: 0;padding: 0.3em;box-sizing: border-box;text-align: center;}#sk-container-id-2 label.sk-toggleable__label-arrow:before {content: \"▸\";float: left;margin-right: 0.25em;color: #696969;}#sk-container-id-2 label.sk-toggleable__label-arrow:hover:before {color: black;}#sk-container-id-2 div.sk-estimator:hover label.sk-toggleable__label-arrow:before {color: black;}#sk-container-id-2 div.sk-toggleable__content {max-height: 0;max-width: 0;overflow: hidden;text-align: left;background-color: #f0f8ff;}#sk-container-id-2 div.sk-toggleable__content pre {margin: 0.2em;color: black;border-radius: 0.25em;background-color: #f0f8ff;}#sk-container-id-2 input.sk-toggleable__control:checked~div.sk-toggleable__content {max-height: 200px;max-width: 100%;overflow: auto;}#sk-container-id-2 input.sk-toggleable__control:checked~label.sk-toggleable__label-arrow:before {content: \"▾\";}#sk-container-id-2 div.sk-estimator input.sk-toggleable__control:checked~label.sk-toggleable__label {background-color: #d4ebff;}#sk-container-id-2 div.sk-label input.sk-toggleable__control:checked~label.sk-toggleable__label {background-color: #d4ebff;}#sk-container-id-2 input.sk-hidden--visually {border: 0;clip: rect(1px 1px 1px 1px);clip: rect(1px, 1px, 1px, 1px);height: 1px;margin: -1px;overflow: hidden;padding: 0;position: absolute;width: 1px;}#sk-container-id-2 div.sk-estimator {font-family: monospace;background-color: #f0f8ff;border: 1px dotted black;border-radius: 0.25em;box-sizing: border-box;margin-bottom: 0.5em;}#sk-container-id-2 div.sk-estimator:hover {background-color: #d4ebff;}#sk-container-id-2 div.sk-parallel-item::after {content: \"\";width: 100%;border-bottom: 1px solid gray;flex-grow: 1;}#sk-container-id-2 div.sk-label:hover label.sk-toggleable__label {background-color: #d4ebff;}#sk-container-id-2 div.sk-serial::before {content: \"\";position: absolute;border-left: 1px solid gray;box-sizing: border-box;top: 0;bottom: 0;left: 50%;z-index: 0;}#sk-container-id-2 div.sk-serial {display: flex;flex-direction: column;align-items: center;background-color: white;padding-right: 0.2em;padding-left: 0.2em;position: relative;}#sk-container-id-2 div.sk-item {position: relative;z-index: 1;}#sk-container-id-2 div.sk-parallel {display: flex;align-items: stretch;justify-content: center;background-color: white;position: relative;}#sk-container-id-2 div.sk-item::before, #sk-container-id-2 div.sk-parallel-item::before {content: \"\";position: absolute;border-left: 1px solid gray;box-sizing: border-box;top: 0;bottom: 0;left: 50%;z-index: -1;}#sk-container-id-2 div.sk-parallel-item {display: flex;flex-direction: column;z-index: 1;position: relative;background-color: white;}#sk-container-id-2 div.sk-parallel-item:first-child::after {align-self: flex-end;width: 50%;}#sk-container-id-2 div.sk-parallel-item:last-child::after {align-self: flex-start;width: 50%;}#sk-container-id-2 div.sk-parallel-item:only-child::after {width: 0;}#sk-container-id-2 div.sk-dashed-wrapped {border: 1px dashed gray;margin: 0 0.4em 0.5em 0.4em;box-sizing: border-box;padding-bottom: 0.4em;background-color: white;}#sk-container-id-2 div.sk-label label {font-family: monospace;font-weight: bold;display: inline-block;line-height: 1.2em;}#sk-container-id-2 div.sk-label-container {text-align: center;}#sk-container-id-2 div.sk-container {/* jupyter's `normalize.less` sets `[hidden] { display: none; }` but bootstrap.min.css set `[hidden] { display: none !important; }` so we also need the `!important` here to be able to override the default hidden behavior on the sphinx rendered scikit-learn.org. See: https://github.com/scikit-learn/scikit-learn/issues/21755 */display: inline-block !important;position: relative;}#sk-container-id-2 div.sk-text-repr-fallback {display: none;}</style><div id=\"sk-container-id-2\" class=\"sk-top-container\"><div class=\"sk-text-repr-fallback\"><pre>Pipeline(steps=[(&#x27;onehotencoder&#x27;,\n",
       "                 OneHotEncoder(cols=[&#x27;neighborhood&#x27;], use_cat_names=True)),\n",
       "                (&#x27;ridge&#x27;, Ridge())])</pre><b>In a Jupyter environment, please rerun this cell to show the HTML representation or trust the notebook. <br />On GitHub, the HTML representation is unable to render, please try loading this page with nbviewer.org.</b></div><div class=\"sk-container\" hidden><div class=\"sk-item sk-dashed-wrapped\"><div class=\"sk-label-container\"><div class=\"sk-label sk-toggleable\"><input class=\"sk-toggleable__control sk-hidden--visually\" id=\"sk-estimator-id-4\" type=\"checkbox\" ><label for=\"sk-estimator-id-4\" class=\"sk-toggleable__label sk-toggleable__label-arrow\">Pipeline</label><div class=\"sk-toggleable__content\"><pre>Pipeline(steps=[(&#x27;onehotencoder&#x27;,\n",
       "                 OneHotEncoder(cols=[&#x27;neighborhood&#x27;], use_cat_names=True)),\n",
       "                (&#x27;ridge&#x27;, Ridge())])</pre></div></div></div><div class=\"sk-serial\"><div class=\"sk-item\"><div class=\"sk-estimator sk-toggleable\"><input class=\"sk-toggleable__control sk-hidden--visually\" id=\"sk-estimator-id-5\" type=\"checkbox\" ><label for=\"sk-estimator-id-5\" class=\"sk-toggleable__label sk-toggleable__label-arrow\">OneHotEncoder</label><div class=\"sk-toggleable__content\"><pre>OneHotEncoder(cols=[&#x27;neighborhood&#x27;], use_cat_names=True)</pre></div></div></div><div class=\"sk-item\"><div class=\"sk-estimator sk-toggleable\"><input class=\"sk-toggleable__control sk-hidden--visually\" id=\"sk-estimator-id-6\" type=\"checkbox\" ><label for=\"sk-estimator-id-6\" class=\"sk-toggleable__label sk-toggleable__label-arrow\">Ridge</label><div class=\"sk-toggleable__content\"><pre>Ridge()</pre></div></div></div></div></div></div></div>"
      ],
      "text/plain": [
       "Pipeline(steps=[('onehotencoder',\n",
       "                 OneHotEncoder(cols=['neighborhood'], use_cat_names=True)),\n",
       "                ('ridge', Ridge())])"
      ]
     },
     "execution_count": 37,
     "metadata": {},
     "output_type": "execute_result"
    }
   ],
   "source": [
    "model = make_pipeline(\n",
    "    # Intantiate\n",
    "    OneHotEncoder(use_cat_names=True),\n",
    "    Ridge()\n",
    ")\n",
    "model.fit(X_train, y_train)"
   ]
  },
  {
   "cell_type": "code",
   "execution_count": 38,
   "id": "4ded7d02",
   "metadata": {
    "deletable": false,
    "tags": []
   },
   "outputs": [],
   "source": [
    "# Check your work\n",
    "check_is_fitted(model[-1])"
   ]
  },
  {
   "cell_type": "markdown",
   "id": "037f0729",
   "metadata": {
    "deletable": false,
    "editable": false
   },
   "source": [
    "Wow, you just built a model with two transformers and a predictor! When you started this course, did you think you'd be able to do something like that? 😁"
   ]
  },
  {
   "cell_type": "markdown",
   "id": "86dcd980",
   "metadata": {
    "deletable": false,
    "editable": false
   },
   "source": [
    "## Evaluate"
   ]
  },
  {
   "cell_type": "markdown",
   "id": "b0b181df",
   "metadata": {
    "deletable": false,
    "editable": false
   },
   "source": [
    "Regardless of how you build your model, the evaluation step stays the same. Let's see how our model performs with the training set."
   ]
  },
  {
   "cell_type": "code",
   "execution_count": 20,
   "id": "d3936246",
   "metadata": {
    "deletable": false,
    "editable": false,
    "init_cell": true,
    "tags": []
   },
   "outputs": [
    {
     "data": {
      "text/html": [
       "\n",
       "        <iframe\n",
       "            width=\"600\"\n",
       "            height=\"300\"\n",
       "            src=\"https://player.vimeo.com/video/656792525?h=09edc1c3d6\"\n",
       "            frameborder=\"0\"\n",
       "            allowfullscreen\n",
       "            \n",
       "        ></iframe>\n",
       "        "
      ],
      "text/plain": [
       "<IPython.lib.display.VimeoVideo at 0x7c5768e6f1d0>"
      ]
     },
     "execution_count": 20,
     "metadata": {},
     "output_type": "execute_result"
    }
   ],
   "source": [
    "VimeoVideo(\"656792525\", h=\"09edc1c3d6\", width=600)"
   ]
  },
  {
   "cell_type": "markdown",
   "id": "270bf5cf",
   "metadata": {
    "deletable": false,
    "editable": false
   },
   "source": [
    "**Task 2.3.9:** First, create a list of predictions for the observations in your feature matrix `X_train`. Name this list `y_pred_training`. Then calculate the training mean absolute error for your predictions in `y_pred_training` as compared to the true targets in `y_train`.\n",
    "\n",
    "- [<span id='technique'>Generate predictions using a trained model in <span id='tool'>scikit-learn.](../%40textbook/15-ml-regression.ipynb#Generating-Predictions-Using-a-Trained-Model)\n",
    "- [<span id='technique'>Calculate the mean absolute error for a list of predictions in <span id='tool'>scikit-learn.](../%40textbook/15-ml-regression.ipynb#Calculating-the-Mean-Absolute-Error-for-a-List-of-Predictions)"
   ]
  },
  {
   "cell_type": "code",
   "execution_count": 39,
   "id": "cd4ecf5e",
   "metadata": {
    "deletable": false,
    "tags": []
   },
   "outputs": [
    {
     "name": "stdout",
     "output_type": "stream",
     "text": [
      "Training MAE: 39076.59\n"
     ]
    }
   ],
   "source": [
    "y_pred_training = model.predict(X_train)\n",
    "mae_training = mean_absolute_error(y_train, y_pred_training)\n",
    "print(\"Training MAE:\", round(mae_training, 2))"
   ]
  },
  {
   "cell_type": "markdown",
   "id": "75e7ebce",
   "metadata": {
    "deletable": false,
    "editable": false,
    "tags": []
   },
   "source": [
    "Now let's check our test performance. "
   ]
  },
  {
   "cell_type": "markdown",
   "id": "60e4e72f",
   "metadata": {
    "deletable": false,
    "editable": false,
    "tags": []
   },
   "source": [
    "**Task 2.3.10:** Run the code below to import your test data `buenos-aires-test-features.csv` into a DataFrame and generate a Series of predictions using your model. Then run the following cell to submit your predictions to the grader.\n",
    "\n",
    "- [What's generalizability?](../%40textbook/12-ml-core.ipynb#Generalization)\n",
    "- [<span id='technique'>Generate predictions using a trained model in <span id='tool'>scikit-learn.](../%40textbook/15-ml-regression.ipynb#Generating-Predictions-Using-a-Trained-Model)\n",
    "- [<span id='technique'>Calculate the mean absolute error for a list of predictions in <span id='tool'>scikit-learn.](../%40textbook/15-ml-regression.ipynb#Calculating-the-Mean-Absolute-Error-for-a-List-of-Predictions)"
   ]
  },
  {
   "cell_type": "code",
   "execution_count": 40,
   "id": "f61223a5",
   "metadata": {
    "deletable": false,
    "editable": false,
    "tags": []
   },
   "outputs": [
    {
     "data": {
      "text/plain": [
       "0    244640.704335\n",
       "1    169890.355668\n",
       "2     96100.915640\n",
       "3    101729.844394\n",
       "4    132629.660955\n",
       "dtype: float64"
      ]
     },
     "execution_count": 40,
     "metadata": {},
     "output_type": "execute_result"
    }
   ],
   "source": [
    "X_test = pd.read_csv(\"data/buenos-aires-test-features.csv\")[features]\n",
    "y_pred_test = pd.Series(model.predict(X_test))\n",
    "y_pred_test.head()"
   ]
  },
  {
   "cell_type": "code",
   "execution_count": 41,
   "id": "6ecea554",
   "metadata": {
    "deletable": false,
    "editable": false,
    "tags": []
   },
   "outputs": [
    {
     "data": {
      "text/html": [
       "\n",
       "    <div class=\"wqet-result\">\n",
       "      <div class=\"animation\">\n",
       "        <svg class=\"checkmark\" xmlns=\"http://www.w3.org/2000/svg\" viewBox=\"0 0 52 52\">\n",
       "          <circle class=\"checkmark__circle\" cx=\"26\" cy=\"26\" r=\"25\" fill=\"none\"/>\n",
       "          <path class=\"checkmark__check\" fill=\"none\" d=\"M14.1 27.2l7.1 7.2 16.7-16.8\"/>\n",
       "        </svg>\n",
       "      </div>\n",
       "      <div class=\"details\">\n",
       "        <p class=\"title\"><p>Your model's mean absolute error is <code>44886.646</code>. Very impressive.</p></p>\n",
       "        <p>Score: 1</p>\n",
       "      </div>\n",
       "    </div>\n"
      ],
      "text/plain": [
       "<IPython.core.display.HTML object>"
      ]
     },
     "metadata": {},
     "output_type": "display_data"
    }
   ],
   "source": [
    "wqet_grader.grade(\"Project 2 Assessment\", \"Task 2.3.10\", y_pred_test)"
   ]
  },
  {
   "cell_type": "markdown",
   "id": "2681cc11",
   "metadata": {
    "deletable": false,
    "editable": false
   },
   "source": [
    "# Communicate Results"
   ]
  },
  {
   "cell_type": "markdown",
   "id": "0b82e7e3",
   "metadata": {
    "deletable": false,
    "editable": false
   },
   "source": [
    "If we write out the equation for our model, it'll be too big to fit on the screen. That's because, when we used the `OneHotEncoder` to encode the neighborhood data, we created a much wider DataFrame, and each column/feature has it's own coefficient in our model's equation.\n",
    "\n",
    "<center><img src=\"../images/proj-2.006.png\" alt=\"Equation: y = β0 + β1 x1 + β2 x2 + ... + β59 x59 + β60 x60 \" style=\"width: 800px;\"/></center>\n",
    "\n",
    "This is important to keep in mind for two reasons. First, it means that this is a **high-dimensional** model. Instead of a 2D or 3D plot, we'd need a 58-dimensional plot to represent it, which is impossible! Second, it means that we'll need to extract and represent the information for our equation a little differently than before. Let's start by getting our intercept and coefficient."
   ]
  },
  {
   "cell_type": "code",
   "execution_count": 22,
   "id": "78ec7b45",
   "metadata": {
    "deletable": false,
    "editable": false,
    "init_cell": true,
    "tags": []
   },
   "outputs": [
    {
     "data": {
      "text/html": [
       "\n",
       "        <iframe\n",
       "            width=\"600\"\n",
       "            height=\"300\"\n",
       "            src=\"https://player.vimeo.com/video/656793909?h=fca67856b4\"\n",
       "            frameborder=\"0\"\n",
       "            allowfullscreen\n",
       "            \n",
       "        ></iframe>\n",
       "        "
      ],
      "text/plain": [
       "<IPython.lib.display.VimeoVideo at 0x7c5768e72b10>"
      ]
     },
     "execution_count": 22,
     "metadata": {},
     "output_type": "execute_result"
    }
   ],
   "source": [
    "VimeoVideo(\"656793909\", h=\"fca67856b4\", width=600)"
   ]
  },
  {
   "cell_type": "markdown",
   "id": "46df135e",
   "metadata": {
    "deletable": false,
    "editable": false
   },
   "source": [
    "**Task 2.3.11:** Extract the intercept and coefficients for your model. \n",
    "\n",
    "- [What's an <span id='term'>intercept</span> in a linear model?](../%40textbook/12-ml-core.ipynb#Model-Types)\n",
    "- [What's a <span id='term'>coefficient</span> in a linear model?](../%40textbook/12-ml-core.ipynb#Model-Types)\n",
    "- [<span id='technique'>Access an object in a pipeline in <span id='tool'>scikit-learn.](../%40textbook/13-ml-data-pre-processing-and-production.ipynb#Accessing-an-Object-in-a-Pipeline)"
   ]
  },
  {
   "cell_type": "code",
   "execution_count": 44,
   "id": "e486c091",
   "metadata": {
    "deletable": false,
    "tags": []
   },
   "outputs": [
    {
     "name": "stdout",
     "output_type": "stream",
     "text": [
      "coefficients len: 53\n",
      "[ 68839.33956443 -22710.57044478  46034.22035859  -8416.38706721\n",
      "  14500.98918518]\n"
     ]
    }
   ],
   "source": [
    "intercept = model.named_steps[\"ridge\"].intercept_\n",
    "coefficients = model.named_steps[\"ridge\"].coef_\n",
    "print(\"coefficients len:\", len(coefficients))\n",
    "print(coefficients[:5])  # First five coefficients"
   ]
  },
  {
   "cell_type": "code",
   "execution_count": 45,
   "id": "26e522c7",
   "metadata": {
    "deletable": false,
    "tags": []
   },
   "outputs": [],
   "source": [
    "# Check your work\n",
    "assert isinstance(\n",
    "    intercept, float\n",
    "), f\"`intercept` should be a `float`, not {type(intercept)}.\"\n",
    "assert isinstance(\n",
    "    coefficients, np.ndarray\n",
    "), f\"`coefficients` should be a `float`, not {type(coefficients)}.\"\n",
    "assert coefficients.shape == (\n",
    "    53,\n",
    "), f\"`coefficients` is wrong shape: {coefficients.shape}.\""
   ]
  },
  {
   "cell_type": "markdown",
   "id": "eec40989",
   "metadata": {
    "deletable": false,
    "editable": false
   },
   "source": [
    "We have the values of our coefficients, but how do we know which features they belong to? We'll need to get that information by going into the part of our pipeline that did the encoding."
   ]
  },
  {
   "cell_type": "code",
   "execution_count": 28,
   "id": "06ee62ca",
   "metadata": {
    "deletable": false,
    "editable": false,
    "init_cell": true,
    "tags": []
   },
   "outputs": [
    {
     "data": {
      "text/html": [
       "\n",
       "        <iframe\n",
       "            width=\"600\"\n",
       "            height=\"300\"\n",
       "            src=\"https://player.vimeo.com/video/656793812?h=810161b84e\"\n",
       "            frameborder=\"0\"\n",
       "            allowfullscreen\n",
       "            \n",
       "        ></iframe>\n",
       "        "
      ],
      "text/plain": [
       "<IPython.lib.display.VimeoVideo at 0x7c5769c98a10>"
      ]
     },
     "execution_count": 28,
     "metadata": {},
     "output_type": "execute_result"
    }
   ],
   "source": [
    "VimeoVideo(\"656793812\", h=\"810161b84e\", width=600)"
   ]
  },
  {
   "cell_type": "markdown",
   "id": "1b4ff85e",
   "metadata": {
    "deletable": false,
    "editable": false
   },
   "source": [
    "**Task 2.3.12:** Extract the feature names of your encoded data from the `OneHotEncoder` in your model.\n",
    "\n",
    "- [Access an object in a pipeline in scikit-learn.](../%40textbook/13-ml-data-pre-processing-and-production.ipynb#Accessing-an-Object-in-a-Pipeline)"
   ]
  },
  {
   "cell_type": "code",
   "execution_count": 46,
   "id": "d77cb327",
   "metadata": {
    "deletable": false,
    "tags": []
   },
   "outputs": [
    {
     "name": "stdout",
     "output_type": "stream",
     "text": [
      "features len: 53\n",
      "['neighborhood_Recoleta' 'neighborhood_Monserrat' 'neighborhood_Belgrano'\n",
      " 'neighborhood_Villa del Parque' 'neighborhood_Villa Pueyrredón']\n"
     ]
    }
   ],
   "source": [
    "feature_names = model.named_steps[\"onehotencoder\"].get_feature_names()\n",
    "print(\"features len:\", len(feature_names))\n",
    "print(feature_names[:5])  # First five feature names"
   ]
  },
  {
   "cell_type": "code",
   "execution_count": 47,
   "id": "9cef78fe",
   "metadata": {
    "deletable": false,
    "tags": []
   },
   "outputs": [],
   "source": [
    "# Check your work\n",
    "assert isinstance(\n",
    "    feature_names, np.ndarray\n",
    "), f\"`features` should be a `list`, not {type(feature_names)}.\"\n",
    "assert len(feature_names) == len(\n",
    "    coefficients\n",
    "), \"You should have the same number of features and coefficients.\""
   ]
  },
  {
   "cell_type": "markdown",
   "id": "c3816ad6",
   "metadata": {
    "deletable": false,
    "editable": false
   },
   "source": [
    "We have coefficients and feature names, and now we need to put them together. For that, we'll use a Series."
   ]
  },
  {
   "cell_type": "code",
   "execution_count": 31,
   "id": "70d49aa4",
   "metadata": {
    "deletable": false,
    "editable": false,
    "init_cell": true,
    "tags": []
   },
   "outputs": [
    {
     "data": {
      "text/html": [
       "\n",
       "        <iframe\n",
       "            width=\"600\"\n",
       "            height=\"300\"\n",
       "            src=\"https://player.vimeo.com/video/656793718?h=1e2a1e1de8\"\n",
       "            frameborder=\"0\"\n",
       "            allowfullscreen\n",
       "            \n",
       "        ></iframe>\n",
       "        "
      ],
      "text/plain": [
       "<IPython.lib.display.VimeoVideo at 0x7c5760485490>"
      ]
     },
     "execution_count": 31,
     "metadata": {},
     "output_type": "execute_result"
    }
   ],
   "source": [
    "VimeoVideo(\"656793718\", h=\"1e2a1e1de8\", width=600)"
   ]
  },
  {
   "cell_type": "markdown",
   "id": "bac7f9ec",
   "metadata": {
    "deletable": false,
    "editable": false
   },
   "source": [
    "**Task 2.3.13:** Create a pandas Series named `feat_imp` where the index is your `features` and the values are your `coefficients`.\n",
    "\n",
    "- [<span id='technique'>Create a Series in <span id='tool'>pandas.](../%40textbook/03-pandas-getting-started.ipynb#Working-with-Columns)"
   ]
  },
  {
   "cell_type": "code",
   "execution_count": 48,
   "id": "a0448045",
   "metadata": {
    "deletable": false,
    "tags": []
   },
   "outputs": [
    {
     "data": {
      "text/plain": [
       "neighborhood_Recoleta            68839.339564\n",
       "neighborhood_Monserrat          -22710.570445\n",
       "neighborhood_Belgrano            46034.220359\n",
       "neighborhood_Villa del Parque    -8416.387067\n",
       "neighborhood_Villa Pueyrredón    14500.989185\n",
       "dtype: float64"
      ]
     },
     "execution_count": 48,
     "metadata": {},
     "output_type": "execute_result"
    }
   ],
   "source": [
    "feat_imp = pd.Series(coefficients, index=feature_names)\n",
    "feat_imp.head()"
   ]
  },
  {
   "cell_type": "code",
   "execution_count": 49,
   "id": "b3f63b0b",
   "metadata": {
    "deletable": false,
    "tags": []
   },
   "outputs": [],
   "source": [
    "# Check your work\n",
    "assert isinstance(\n",
    "    feat_imp, pd.Series\n",
    "), f\"`feat_imp` should be a `float`, not {type(feat_imp)}.\"\n",
    "assert feat_imp.shape == (53,), f\"`feat_imp` is wrong shape: {feat_imp.shape}.\"\n",
    "assert all(\n",
    "    a == b for a, b in zip(sorted(feature_names), sorted(feat_imp.index))\n",
    "), \"The index of `feat_imp` should be identical to `features`.\""
   ]
  },
  {
   "cell_type": "markdown",
   "id": "ccc4d519",
   "metadata": {
    "deletable": false,
    "editable": false
   },
   "source": [
    "To be clear, it's definitely not a good idea to show this long equation to an audience, but let's print it out just to check our work. Since there are so many terms to print, we'll use a `for` loop."
   ]
  },
  {
   "cell_type": "code",
   "execution_count": 34,
   "id": "17988bf1",
   "metadata": {
    "deletable": false,
    "editable": false,
    "init_cell": true,
    "tags": []
   },
   "outputs": [
    {
     "data": {
      "text/html": [
       "\n",
       "        <iframe\n",
       "            width=\"600\"\n",
       "            height=\"300\"\n",
       "            src=\"https://player.vimeo.com/video/656797021?h=dc90e6dac3\"\n",
       "            frameborder=\"0\"\n",
       "            allowfullscreen\n",
       "            \n",
       "        ></iframe>\n",
       "        "
      ],
      "text/plain": [
       "<IPython.lib.display.VimeoVideo at 0x7c575ffb9dd0>"
      ]
     },
     "execution_count": 34,
     "metadata": {},
     "output_type": "execute_result"
    }
   ],
   "source": [
    "VimeoVideo(\"656797021\", h=\"dc90e6dac3\", width=600)"
   ]
  },
  {
   "cell_type": "markdown",
   "id": "59f0d7ae",
   "metadata": {
    "deletable": false,
    "editable": false
   },
   "source": [
    "**Task 2.3.14:** Run the cell below to print the equation that your model has determined for predicting apartment price based on longitude and latitude.\n",
    "\n",
    "- [What's an f-string?](../%40textbook/02-python-advanced.ipynb#Working-with-f-strings-)"
   ]
  },
  {
   "cell_type": "code",
   "execution_count": 50,
   "id": "f11600f4",
   "metadata": {
    "deletable": false,
    "tags": []
   },
   "outputs": [
    {
     "name": "stdout",
     "output_type": "stream",
     "text": [
      "price = 118811.49\n",
      "+ (68839.34 * neighborhood_Recoleta)\n",
      "+ (-22710.57 * neighborhood_Monserrat)\n",
      "+ (46034.22 * neighborhood_Belgrano)\n",
      "+ (-8416.39 * neighborhood_Villa del Parque)\n",
      "+ (14500.99 * neighborhood_Villa Pueyrredón)\n",
      "+ (-313.05 * neighborhood_Almagro)\n",
      "+ (45724.9 * neighborhood_Palermo)\n",
      "+ (-24778.93 * neighborhood_)\n",
      "+ (-17703.35 * neighborhood_Tribunales)\n",
      "+ (-9014.71 * neighborhood_Balvanera)\n",
      "+ (70060.6 * neighborhood_Barrio Norte)\n",
      "+ (-5585.42 * neighborhood_Once)\n",
      "+ (13296.58 * neighborhood_San Telmo)\n",
      "+ (-48288.94 * neighborhood_Villa Lugano)\n",
      "+ (11669.03 * neighborhood_Coghlan)\n",
      "+ (-9165.56 * neighborhood_Barracas)\n",
      "+ (18142.51 * neighborhood_Villa Urquiza)\n",
      "+ (8811.47 * neighborhood_Abasto)\n",
      "+ (5169.78 * neighborhood_Villa Crespo)\n",
      "+ (-10780.28 * neighborhood_Villa Santa Rita)\n",
      "+ (17052.43 * neighborhood_Colegiales)\n",
      "+ (-13745.57 * neighborhood_Paternal)\n",
      "+ (13818.17 * neighborhood_Caballito)\n",
      "+ (-17081.64 * neighborhood_Parque Chacabuco)\n",
      "+ (25923.13 * neighborhood_Retiro)\n",
      "+ (5300.73 * neighborhood_Villa Devoto)\n",
      "+ (-4209.61 * neighborhood_Villa Luro)\n",
      "+ (-22706.89 * neighborhood_San Nicolás)\n",
      "+ (20778.78 * neighborhood_Saavedra)\n",
      "+ (-2123.63 * neighborhood_Flores)\n",
      "+ (-7983.16 * neighborhood_Centro / Microcentro)\n",
      "+ (-36552.83 * neighborhood_Liniers)\n",
      "+ (-9569.25 * neighborhood_San Cristobal)\n",
      "+ (-22697.85 * neighborhood_Boca)\n",
      "+ (-4394.46 * neighborhood_Congreso)\n",
      "+ (-23039.18 * neighborhood_Parque Centenario)\n",
      "+ (-34009.57 * neighborhood_Parque Chas)\n",
      "+ (51078.87 * neighborhood_Nuñez)\n",
      "+ (-15144.07 * neighborhood_Parque Patricios)\n",
      "+ (-7195.95 * neighborhood_Boedo)\n",
      "+ (-16037.52 * neighborhood_Floresta)\n",
      "+ (-26022.11 * neighborhood_Mataderos)\n",
      "+ (125829.22 * neighborhood_Puerto Madero)\n",
      "+ (8569.53 * neighborhood_Villa General Mitre)\n",
      "+ (-22823.27 * neighborhood_Agronomía)\n",
      "+ (1080.47 * neighborhood_Villa Ortuzar)\n",
      "+ (-24792.43 * neighborhood_Chacarita)\n",
      "+ (-26646.81 * neighborhood_Velez Sarsfield)\n",
      "+ (-35792.02 * neighborhood_Monte Castro)\n",
      "+ (75893.82 * neighborhood_Las Cañitas)\n",
      "+ (-39106.18 * neighborhood_Constitución)\n",
      "+ (-32201.42 * neighborhood_Parque Avellaneda)\n",
      "+ (-46942.0 * neighborhood_Villa Soldati)\n"
     ]
    }
   ],
   "source": [
    "print(f\"price = {intercept.round(2)}\")\n",
    "for f, c in feat_imp.items():\n",
    "    print(f\"+ ({round(c, 2)} * {f})\")"
   ]
  },
  {
   "cell_type": "markdown",
   "id": "bae436d0",
   "metadata": {
    "deletable": false,
    "editable": false
   },
   "source": [
    "<div class=\"alert alert-block alert-warning\">\n",
    "<b>Warning:</b> In the first lesson for this project, we said that you shouldn't make any changes to your model after you see your test metrics. That's still true. However, we're breaking that rule here so that we can discuss overfitting. In future lessons, you'll learn how to protect against overfitting without checking your test set.\n",
    "</div>"
   ]
  },
  {
   "cell_type": "code",
   "execution_count": 51,
   "id": "632a5619",
   "metadata": {
    "deletable": false,
    "editable": false,
    "init_cell": true,
    "tags": []
   },
   "outputs": [
    {
     "data": {
      "text/html": [
       "\n",
       "        <iframe\n",
       "            width=\"600\"\n",
       "            height=\"300\"\n",
       "            src=\"https://player.vimeo.com/video/656799309?h=a7130deb64\"\n",
       "            frameborder=\"0\"\n",
       "            allowfullscreen\n",
       "            \n",
       "        ></iframe>\n",
       "        "
      ],
      "text/plain": [
       "<IPython.lib.display.VimeoVideo at 0x7c575f848f50>"
      ]
     },
     "execution_count": 51,
     "metadata": {},
     "output_type": "execute_result"
    }
   ],
   "source": [
    "VimeoVideo(\"656799309\", h=\"a7130deb64\", width=600)"
   ]
  },
  {
   "cell_type": "markdown",
   "id": "b705f389",
   "metadata": {
    "deletable": false,
    "editable": false
   },
   "source": [
    "**Task 2.3.15:** Scroll up, change the predictor in your model to `Ridge`, and retrain it. Then evaluate the model's training and test performance. Do you still have an overfitting problem? If not, extract the intercept and coefficients again (you'll need to change your code a little bit) and regenerate the model's equation. Does it look different than before?\n",
    "\n",
    "- [What's overfitting?](../%40textbook/15-ml-regression.ipynb#Ridge-Regression)\n",
    "- [What's regularization?](../%40textbook/15-ml-regression.ipynb#Ridge-Regression)\n",
    "- [What's ridge regression?](../%40textbook/15-ml-regression.ipynb#Ridge-Regression)"
   ]
  },
  {
   "cell_type": "code",
   "execution_count": 42,
   "id": "06272b41",
   "metadata": {
    "deletable": false,
    "tags": []
   },
   "outputs": [],
   "source": [
    "# Check your work\n",
    "assert isinstance(\n",
    "    model[-1], Ridge\n",
    "), \"Did you retrain your model using a `Ridge` predictor?\""
   ]
  },
  {
   "cell_type": "markdown",
   "id": "db2bd2da",
   "metadata": {
    "deletable": false,
    "editable": false
   },
   "source": [
    "We're back on track with our model, so let's create a visualization that will help a non-technical audience understand what the most important features for our model in predicting apartment price. "
   ]
  },
  {
   "cell_type": "code",
   "execution_count": 43,
   "id": "b9202c1c",
   "metadata": {
    "deletable": false,
    "editable": false,
    "init_cell": true,
    "tags": []
   },
   "outputs": [
    {
     "data": {
      "text/html": [
       "\n",
       "        <iframe\n",
       "            width=\"600\"\n",
       "            height=\"300\"\n",
       "            src=\"https://player.vimeo.com/video/656798530?h=9a9350eff1\"\n",
       "            frameborder=\"0\"\n",
       "            allowfullscreen\n",
       "            \n",
       "        ></iframe>\n",
       "        "
      ],
      "text/plain": [
       "<IPython.lib.display.VimeoVideo at 0x7c575f99f250>"
      ]
     },
     "execution_count": 43,
     "metadata": {},
     "output_type": "execute_result"
    }
   ],
   "source": [
    "VimeoVideo(\"656798530\", h=\"9a9350eff1\", width=600)"
   ]
  },
  {
   "cell_type": "markdown",
   "id": "c9ff41ef",
   "metadata": {
    "deletable": false,
    "editable": false
   },
   "source": [
    "**Task 2.3.16:** Create a horizontal bar chart that shows the top 15 coefficients for your model, based on their absolute value.\n",
    "\n",
    "- [What's a <span id='term'>bar chart</span>?](../%40textbook/07-visualization-pandas.ipynb#Bar-Charts)\n",
    "- [<span id='technique'>Create a bar chart using <span id='tool'>pandas</span></span>.](../%40textbook/07-visualization-pandas.ipynb#Bar-Charts)"
   ]
  },
  {
   "cell_type": "code",
   "execution_count": 55,
   "id": "f2e71f6d",
   "metadata": {
    "deletable": false,
    "tags": []
   },
   "outputs": [
    {
     "data": {
      "image/png": "[encoded data removed]",
      "text/plain": [
       "<Figure size 640x480 with 1 Axes>"
      ]
     },
     "metadata": {},
     "output_type": "display_data"
    }
   ],
   "source": [
    "feat_imp.sort_values(key=abs).tail(15).plot(kind=\"barh\")\n",
    "plt.xlabel(\"Importance [USD]\")\n",
    "plt.ylabel(\"Feature\")\n",
    "plt.title(\"Feature Importance for Apartment Price\");"
   ]
  },
  {
   "cell_type": "markdown",
   "id": "876644dc",
   "metadata": {
    "deletable": false,
    "editable": false
   },
   "source": [
    "Looking at this bar chart, we can see that the poshest neighborhoods in Buenos Aires like [Puerto Madero](https://en.wikipedia.org/wiki/Puerto_Madero) and [Recoleta](https://en.wikipedia.org/wiki/Recoleta,_Buenos_Aires) increase the predicted price of an apartment, while more working-class neighborhoods like [Villa Soldati](https://en.wikipedia.org/wiki/Villa_Soldati) and [Villa Lugano](https://en.wikipedia.org/wiki/Villa_Lugano) decrease the predicted price. \n",
    "\n",
    "Just for fun, check out [this song](https://www.youtube.com/watch?v=RGlunBDvsaw) by Kevin Johansen about Puerto Madero. 🎶"
   ]
  },
  {
   "cell_type": "markdown",
   "id": "1929951e",
   "metadata": {
    "deletable": false,
    "editable": false
   },
   "source": [
    "---\n",
    "Copyright 2023 WorldQuant University. This\n",
    "content is licensed solely for personal use. Redistribution or\n",
    "publication of this material is strictly prohibited.\n"
   ]
  }
 ],
 "metadata": {
  "kernelspec": {
   "display_name": "Python 3 (ipykernel)",
   "language": "python",
   "name": "python3"
  },
  "language_info": {
   "codemirror_mode": {
    "name": "ipython",
    "version": 3
   },
   "file_extension": ".py",
   "mimetype": "text/x-python",
   "name": "python",
   "nbconvert_exporter": "python",
   "pygments_lexer": "ipython3",
   "version": "3.11.4"
  },
  "toc-autonumbering": false,
  "toc-showcode": false,
  "toc-showmarkdowntxt": false,
  "toc-showtags": false
 },
 "nbformat": 4,
 "nbformat_minor": 5
}

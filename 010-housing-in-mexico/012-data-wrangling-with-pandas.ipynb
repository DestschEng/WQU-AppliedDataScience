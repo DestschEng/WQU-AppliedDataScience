{
 "cells": [
  {
   "cell_type": "markdown",
   "id": "4283087f",
   "metadata": {
    "deletable": false,
    "editable": false
   },
   "source": [
    "\n",
    "<div class=\"alert alert-info\" role=\"alert\">\n",
    "  <p>\n",
    "    <center><b>Usage Guidelines</b></center>\n",
    "  </p>\n",
    "\n",
    "  <p>\n",
    "    This lesson is part of the <b>DS Lab core curriculum</b>. For that reason, this notebook can only be used on your WQU virtual machine.\n",
    "  </p>\n",
    "\n",
    "  <p>\n",
    "    This means:\n",
    "    <ul>\n",
    "      <li><span style=\"color: red\">ⓧ</span> No downloading this notebook.</li>\n",
    "      <li><span style=\"color: red\">ⓧ</span> No re-sharing of this notebook with friends or colleagues.</li>\n",
    "      <li><span style=\"color: red\">ⓧ</span> No downloading the embedded videos in this notebook.</li>\n",
    "      <li><span style=\"color: red\">ⓧ</span> No re-sharing embedded videos with friends or colleagues.</li>\n",
    "      <li><span style=\"color: red\">ⓧ</span> No adding this notebook to public or private repositories.</li>\n",
    "      <li><span style=\"color: red\">ⓧ</span> No uploading this notebook (or screenshots of it) to other websites, including websites for study resources.</li>\n",
    "    </ul>\n",
    "\n",
    "  </p>\n",
    "</div>\n"
   ]
  },
  {
   "cell_type": "markdown",
   "id": "909f708f-adbe-46cc-a255-eaf916750756",
   "metadata": {
    "deletable": false,
    "editable": false
   },
   "source": [
    "<font size=\"+3\"><strong>1.2. Preparing Mexico Data</strong></font>"
   ]
  },
  {
   "cell_type": "code",
   "execution_count": 1,
   "id": "f9ead14a-66b5-4157-b2b3-785e29370f80",
   "metadata": {
    "deletable": false,
    "editable": false,
    "init_cell": true,
    "tags": []
   },
   "outputs": [],
   "source": [
    "import pandas as pd\n",
    "from IPython.display import VimeoVideo"
   ]
  },
  {
   "cell_type": "markdown",
   "id": "144c5a4a-f25b-4293-8f79-16f4bb3af177",
   "metadata": {
    "deletable": false,
    "editable": false
   },
   "source": [
    "# Import"
   ]
  },
  {
   "cell_type": "markdown",
   "id": "2093dabe-90ec-43f6-b237-882dc0abb1b2",
   "metadata": {
    "deletable": false,
    "editable": false,
    "tags": []
   },
   "source": [
    "The first part of any data science project is preparing your data, which means making sure its in the right place and format for you to conduct your analysis. The first step of any data preparation is importing your raw data and cleaning it. \n",
    "\n",
    "If you look in the `small-data` directory on your machine, you'll see that the data for this project comes in three CSV files: `mexico-real-estate-1.csv`, `mexico-real-estate-2.csv`, and `mexico-real-estate-3.csv`."
   ]
  },
  {
   "cell_type": "code",
   "execution_count": 3,
   "id": "aaa145a8-1071-4658-8783-07ffe6e0d502",
   "metadata": {
    "deletable": false,
    "editable": false,
    "init_cell": true,
    "tags": []
   },
   "outputs": [
    {
     "data": {
      "text/html": [
       "\n",
       "        <iframe\n",
       "            width=\"600\"\n",
       "            height=\"300\"\n",
       "            src=\"https://player.vimeo.com/video/656321516?h=e85e3bf248\"\n",
       "            frameborder=\"0\"\n",
       "            allowfullscreen\n",
       "            \n",
       "        ></iframe>\n",
       "        "
      ],
      "text/plain": [
       "<IPython.lib.display.VimeoVideo at 0x7c0b6cd6b190>"
      ]
     },
     "execution_count": 3,
     "metadata": {},
     "output_type": "execute_result"
    }
   ],
   "source": [
    "VimeoVideo(\"656321516\", h=\"e85e3bf248\", width=600)"
   ]
  },
  {
   "cell_type": "code",
   "execution_count": 2,
   "id": "b9d18fc1-efe2-4848-9776-1c28cfc43554",
   "metadata": {
    "tags": []
   },
   "outputs": [
    {
     "data": {
      "text/plain": [
       "['../020-housing-in-buenos-aires/data/mexico-city-test-features.csv',\n",
       " '../020-housing-in-buenos-aires/data/buenos-aires-real-estate-5.csv',\n",
       " '../020-housing-in-buenos-aires/data/buenos-aires-real-estate-4.csv',\n",
       " '../020-housing-in-buenos-aires/data/buenos-aires-real-estate-3.csv',\n",
       " '../020-housing-in-buenos-aires/data/mexico-city-real-estate-1.csv',\n",
       " '../020-housing-in-buenos-aires/data/mexico-city-real-estate-3.csv',\n",
       " '../020-housing-in-buenos-aires/data/buenos-aires-real-estate-1.csv',\n",
       " '../020-housing-in-buenos-aires/data/buenos-aires-test-features.csv',\n",
       " '../020-housing-in-buenos-aires/data/mexico-city-real-estate-4.csv',\n",
       " '../020-housing-in-buenos-aires/data/buenos-aires-real-estate-2.csv',\n",
       " '../020-housing-in-buenos-aires/data/mexico-city-real-estate-5.csv',\n",
       " '../020-housing-in-buenos-aires/data/mexico-city-real-estate-2.csv',\n",
       " '../060-consumer-finances-in-usa/data/SCFP2019.csv.gz',\n",
       " '../010-housing-in-mexico/data/mexico-real-estate-3.csv',\n",
       " '../010-housing-in-mexico/data/mexico-real-estate-2.csv',\n",
       " '../010-housing-in-mexico/data/brasil-real-estate-1.csv',\n",
       " '../010-housing-in-mexico/data/mexico-real-estate-1.csv',\n",
       " '../010-housing-in-mexico/data/brasil-real-estate-2.csv',\n",
       " '../040-earthquake-damage-in-nepal/data/kavrepalanchok-test-features.csv',\n",
       " '../@textbook/data/SCFP2019-textbook.csv.gz',\n",
       " '../@textbook/data/mexico-city-test-features.csv',\n",
       " '../@textbook/data/AAPL.csv',\n",
       " '../@textbook/data/mexico-city-test-labels.csv',\n",
       " '../@textbook/data/colombia-real-estate-2.csv',\n",
       " '../@textbook/data/mexico-city-real-estate-1.csv',\n",
       " '../@textbook/data/mexico-city-real-estate-3.csv',\n",
       " '../@textbook/data/colombia-real-estate-1.csv',\n",
       " '../@textbook/data/colombia-real-estate-3.csv',\n",
       " '../@textbook/data/mexico-city-real-estate-4.csv',\n",
       " '../@textbook/data/mexico-city-real-estate-5.csv',\n",
       " '../@textbook/data/colombia-real-estate-chi-square.csv',\n",
       " '../@textbook/data/mexico-city-real-estate-2.csv']"
      ]
     },
     "execution_count": 2,
     "metadata": {},
     "output_type": "execute_result"
    }
   ],
   "source": [
    "import glob\n",
    "glob.glob('../**/**.csv*', recursive=True)"
   ]
  },
  {
   "cell_type": "markdown",
   "id": "8df7281e-918b-48f7-9827-1e321b6827c0",
   "metadata": {
    "deletable": false,
    "editable": false
   },
   "source": [
    "**Task 1.2.1:** Read these three files into three separate DataFrames named `df1`, `df2`, and `df3`, respectively.\n",
    "\n",
    "- [What's a DataFrame?](../%40textbook/03-pandas-getting-started.ipynb#Pandas)\n",
    "- [What's a CSV file?](../%40textbook/03-pandas-getting-started.ipynb#CSV-Files)\n",
    "- [Read a CSV file into a DataFrame using pandas.](../%40textbook/03-pandas-getting-started.ipynb#Working-with-DataFrames)"
   ]
  },
  {
   "cell_type": "code",
   "execution_count": 3,
   "id": "e7c17dfa-206f-454f-944a-6002a252b787",
   "metadata": {
    "deletable": false,
    "tags": []
   },
   "outputs": [
    {
     "name": "stdout",
     "output_type": "stream",
     "text": [
      "df1 type: <class 'pandas.core.frame.DataFrame'>\n",
      "df1 shape: (12834, 6)\n",
      "\n",
      "df2 type: <class 'pandas.core.frame.DataFrame'>\n",
      "df2 shape: (12833, 7)\n",
      "\n",
      "df3 type: <class 'pandas.core.frame.DataFrame'>\n",
      "df3 shape: (12834, 6)\n"
     ]
    }
   ],
   "source": [
    "# Load CSV files into DataFrames\n",
    "df1 = pd.read_csv('data/brasil-real-estate-1.csv')\n",
    "df2 = pd.read_csv('data/brasil-real-estate-2.csv')\n",
    "df3 = pd.read_csv('data/brasil-real-estate-1.csv')\n",
    "\n",
    "# Print object type and shape for DataFrames\n",
    "print(\"df1 type:\", type(df1))\n",
    "print(\"df1 shape:\", df1.shape)\n",
    "print()\n",
    "print(\"df2 type:\", type(df2))\n",
    "print(\"df2 shape:\", df2.shape)\n",
    "print()\n",
    "print(\"df3 type:\", type(df3))\n",
    "print(\"df3 shape:\", df3.shape)"
   ]
  },
  {
   "cell_type": "markdown",
   "id": "b2a5efd3-357b-4896-a238-710198bf6ff5",
   "metadata": {
    "deletable": false,
    "editable": false
   },
   "source": [
    "## Clean `df1`"
   ]
  },
  {
   "cell_type": "markdown",
   "id": "a80b56f7-6692-4896-8e69-02b977a0936a",
   "metadata": {
    "deletable": false,
    "editable": false
   },
   "source": [
    "Now that you have your three DataFrames, it's time to inspect them to see if they need any cleaning. Let's look at them one-by-one."
   ]
  },
  {
   "cell_type": "code",
   "execution_count": 7,
   "id": "a64338ab-f015-479d-92ba-534d7132599f",
   "metadata": {
    "deletable": false,
    "editable": false,
    "init_cell": true,
    "tags": []
   },
   "outputs": [
    {
     "data": {
      "text/html": [
       "\n",
       "        <iframe\n",
       "            width=\"600\"\n",
       "            height=\"300\"\n",
       "            src=\"https://player.vimeo.com/video/656320563?h=a6841fed28\"\n",
       "            frameborder=\"0\"\n",
       "            allowfullscreen\n",
       "            \n",
       "        ></iframe>\n",
       "        "
      ],
      "text/plain": [
       "<IPython.lib.display.VimeoVideo at 0x7c0b7ac6efd0>"
      ]
     },
     "execution_count": 7,
     "metadata": {},
     "output_type": "execute_result"
    }
   ],
   "source": [
    "VimeoVideo(\"656320563\", h=\"a6841fed28\", width=600)"
   ]
  },
  {
   "cell_type": "markdown",
   "id": "fbcad10a-93c1-4a30-a59a-d25e5cab4d5e",
   "metadata": {
    "deletable": false,
    "editable": false
   },
   "source": [
    "**Task 1.2.2:** Inspect `df1` by looking at its [`shape`](https://pandas.pydata.org/docs/reference/api/pandas.DataFrame.shape.html) attribute. Then use the [`info`](https://pandas.pydata.org/docs/reference/api/pandas.DataFrame.info.htm) method to see the data types and number of missing values for each column. Finally, use the [`head`](https://pandas.pydata.org/docs/reference/api/pandas.DataFrame.head.html) method to determine to look at the first five rows of your dataset.\n",
    "\n",
    "- [Inspect a DataFrame using the `shape`, `info`, and `head` in pandas.](../%40textbook/03-pandas-getting-started.ipynb#Inspecting-DataFrames)"
   ]
  },
  {
   "cell_type": "code",
   "execution_count": 4,
   "id": "d340ce96-8ca7-4d71-afe5-f21b7d544083",
   "metadata": {
    "deletable": false,
    "tags": []
   },
   "outputs": [
    {
     "name": "stdout",
     "output_type": "stream",
     "text": [
      "<class 'pandas.core.frame.DataFrame'>\n",
      "RangeIndex: 12834 entries, 0 to 12833\n",
      "Data columns (total 6 columns):\n",
      " #   Column                   Non-Null Count  Dtype  \n",
      "---  ------                   --------------  -----  \n",
      " 0   property_type            12834 non-null  object \n",
      " 1   place_with_parent_names  12834 non-null  object \n",
      " 2   region                   12834 non-null  object \n",
      " 3   lat-lon                  11551 non-null  object \n",
      " 4   area_m2                  12834 non-null  float64\n",
      " 5   price_usd                12834 non-null  object \n",
      "dtypes: float64(1), object(5)\n",
      "memory usage: 601.7+ KB\n",
      "None\n"
     ]
    }
   ],
   "source": [
    "# Print df1 shape\n",
    "df1.shape\n",
    "\n",
    "# Print df1 info\n",
    "print(df1.info())\n",
    "\n",
    "# Get output of df1 head\n",
    "# df1.head()"
   ]
  },
  {
   "cell_type": "markdown",
   "id": "4b10f484-9767-4b06-9131-5ed13f7fde8a",
   "metadata": {
    "deletable": false,
    "editable": false
   },
   "source": [
    "It looks like there are a couple of problems in this DataFrame that you need to solve. First, there are many rows with `NaN` values in the `\"lat\"` and `\"lon\"` columns. Second, the data type for the `\"price_usd\"` column is `object` when it should be `float`. "
   ]
  },
  {
   "cell_type": "code",
   "execution_count": 3,
   "id": "24be0210-ddf7-45e5-a902-8820d5f8cdf2",
   "metadata": {
    "deletable": false,
    "editable": false,
    "init_cell": true,
    "tags": []
   },
   "outputs": [
    {
     "data": {
      "text/html": [
       "\n",
       "        <iframe\n",
       "            width=\"600\"\n",
       "            height=\"300\"\n",
       "            src=\"https://player.vimeo.com/video/656316512?h=33eb5cb26e\"\n",
       "            frameborder=\"0\"\n",
       "            allowfullscreen\n",
       "            \n",
       "        ></iframe>\n",
       "        "
      ],
      "text/plain": [
       "<IPython.lib.display.VimeoVideo at 0x7816bf8ea5d0>"
      ]
     },
     "execution_count": 3,
     "metadata": {},
     "output_type": "execute_result"
    }
   ],
   "source": [
    "VimeoVideo(\"656316512\", h=\"33eb5cb26e\", width=600)"
   ]
  },
  {
   "cell_type": "code",
   "execution_count": 9,
   "id": "6add862f-04cf-435c-839e-ffc1160d04da",
   "metadata": {
    "tags": []
   },
   "outputs": [
    {
     "name": "stdout",
     "output_type": "stream",
     "text": [
      "<class 'pandas.core.frame.DataFrame'>\n",
      "RangeIndex: 12834 entries, 0 to 12833\n",
      "Data columns (total 6 columns):\n",
      " #   Column                   Non-Null Count  Dtype  \n",
      "---  ------                   --------------  -----  \n",
      " 0   property_type            12834 non-null  object \n",
      " 1   place_with_parent_names  12834 non-null  object \n",
      " 2   region                   12834 non-null  object \n",
      " 3   lat-lon                  11551 non-null  object \n",
      " 4   area_m2                  12834 non-null  float64\n",
      " 5   price_usd                12834 non-null  object \n",
      "dtypes: float64(1), object(5)\n",
      "memory usage: 601.7+ KB\n"
     ]
    }
   ],
   "source": [
    "df1.info()"
   ]
  },
  {
   "cell_type": "markdown",
   "id": "eb150275-3078-4022-9ab9-97cdc768ff61",
   "metadata": {
    "deletable": false,
    "editable": false
   },
   "source": [
    "**Task 1.2.3:** Clean `df1` by dropping rows with `NaN` values. Then remove the `\"$\"` and `\",\"` characters from `\"price_usd\"` and recast the values in the column as floats.\n",
    "\n",
    "- [What's a data type?](../%40textbook/01-python-getting-started.ipynb#Data-Types)\n",
    "- [Drop rows with missing values from a DataFrame using pandas.](../%40textbook/03-pandas-getting-started.ipynb#Dropping-Rows)\n",
    "- [Replace string characters in a column using pandas.](../%40textbook/03-pandas-getting-started.ipynb#Replacing-String-Characters) \n",
    "- [Recast a column as a different data type in pandas.](../%40textbook/03-pandas-getting-started.ipynb#Recasting-Data) <span style='color: transparent; font-size:1%'>WQU WorldQuant University Applied Data Science Lab QQQQ</span>"
   ]
  },
  {
   "cell_type": "code",
   "execution_count": 5,
   "id": "39760229-1f67-4701-b128-8feb9e1de198",
   "metadata": {
    "deletable": false,
    "tags": []
   },
   "outputs": [
    {
     "name": "stdout",
     "output_type": "stream",
     "text": [
      "df1 type: <class 'pandas.core.frame.DataFrame'>\n",
      "df1 shape: (11551, 6)\n"
     ]
    },
    {
     "data": {
      "text/html": [
       "<div>\n",
       "<style scoped>\n",
       "    .dataframe tbody tr th:only-of-type {\n",
       "        vertical-align: middle;\n",
       "    }\n",
       "\n",
       "    .dataframe tbody tr th {\n",
       "        vertical-align: top;\n",
       "    }\n",
       "\n",
       "    .dataframe thead th {\n",
       "        text-align: right;\n",
       "    }\n",
       "</style>\n",
       "<table border=\"1\" class=\"dataframe\">\n",
       "  <thead>\n",
       "    <tr style=\"text-align: right;\">\n",
       "      <th></th>\n",
       "      <th>property_type</th>\n",
       "      <th>place_with_parent_names</th>\n",
       "      <th>region</th>\n",
       "      <th>lat-lon</th>\n",
       "      <th>area_m2</th>\n",
       "      <th>price_usd</th>\n",
       "    </tr>\n",
       "  </thead>\n",
       "  <tbody>\n",
       "    <tr>\n",
       "      <th>0</th>\n",
       "      <td>apartment</td>\n",
       "      <td>|Brasil|Alagoas|Maceió|</td>\n",
       "      <td>Northeast</td>\n",
       "      <td>-9.6443051,-35.7088142</td>\n",
       "      <td>110.0</td>\n",
       "      <td>187230.85</td>\n",
       "    </tr>\n",
       "    <tr>\n",
       "      <th>1</th>\n",
       "      <td>apartment</td>\n",
       "      <td>|Brasil|Alagoas|Maceió|</td>\n",
       "      <td>Northeast</td>\n",
       "      <td>-9.6430934,-35.70484</td>\n",
       "      <td>65.0</td>\n",
       "      <td>81133.37</td>\n",
       "    </tr>\n",
       "    <tr>\n",
       "      <th>2</th>\n",
       "      <td>house</td>\n",
       "      <td>|Brasil|Alagoas|Maceió|</td>\n",
       "      <td>Northeast</td>\n",
       "      <td>-9.6227033,-35.7297953</td>\n",
       "      <td>211.0</td>\n",
       "      <td>154465.45</td>\n",
       "    </tr>\n",
       "    <tr>\n",
       "      <th>3</th>\n",
       "      <td>apartment</td>\n",
       "      <td>|Brasil|Alagoas|Maceió|</td>\n",
       "      <td>Northeast</td>\n",
       "      <td>-9.622837,-35.719556</td>\n",
       "      <td>99.0</td>\n",
       "      <td>146013.20</td>\n",
       "    </tr>\n",
       "    <tr>\n",
       "      <th>4</th>\n",
       "      <td>apartment</td>\n",
       "      <td>|Brasil|Alagoas|Maceió|</td>\n",
       "      <td>Northeast</td>\n",
       "      <td>-9.654955,-35.700227</td>\n",
       "      <td>55.0</td>\n",
       "      <td>101416.71</td>\n",
       "    </tr>\n",
       "  </tbody>\n",
       "</table>\n",
       "</div>"
      ],
      "text/plain": [
       "  property_type  place_with_parent_names     region                 lat-lon  \\\n",
       "0     apartment  |Brasil|Alagoas|Maceió|  Northeast  -9.6443051,-35.7088142   \n",
       "1     apartment  |Brasil|Alagoas|Maceió|  Northeast    -9.6430934,-35.70484   \n",
       "2         house  |Brasil|Alagoas|Maceió|  Northeast  -9.6227033,-35.7297953   \n",
       "3     apartment  |Brasil|Alagoas|Maceió|  Northeast    -9.622837,-35.719556   \n",
       "4     apartment  |Brasil|Alagoas|Maceió|  Northeast    -9.654955,-35.700227   \n",
       "\n",
       "   area_m2  price_usd  \n",
       "0    110.0  187230.85  \n",
       "1     65.0   81133.37  \n",
       "2    211.0  154465.45  \n",
       "3     99.0  146013.20  \n",
       "4     55.0  101416.71  "
      ]
     },
     "execution_count": 5,
     "metadata": {},
     "output_type": "execute_result"
    }
   ],
   "source": [
    "# Drop null values from df1\n",
    "df1.dropna(inplace=True)\n",
    "\n",
    "# Clean \"price_usd\" column in df1\n",
    "df1[\"price_usd\"] = (\n",
    "                    df1[\"price_usd\"].str.replace(\"$\",\"\",regex=False)\n",
    "                                    .str.replace(\",\",\"\",regex=False)\n",
    "                                    .astype(float)\n",
    "                   )\n",
    "\n",
    "# Print object type, shape, and head\n",
    "print(\"df1 type:\", type(df1))\n",
    "print(\"df1 shape:\", df1.shape)\n",
    "df1.head()"
   ]
  },
  {
   "cell_type": "markdown",
   "id": "525b86bc-24d1-46db-86d1-3a3267bcdf6d",
   "metadata": {
    "deletable": false,
    "editable": false
   },
   "source": [
    "## Clean `df2`"
   ]
  },
  {
   "cell_type": "markdown",
   "id": "aee52258-7585-4f03-9629-fb874bff7dd4",
   "metadata": {
    "deletable": false,
    "editable": false
   },
   "source": [
    "Now it's time to tackle `df2`. Take a moment to inspect it using the same commands you used before. You'll notice that it has the same issue of `NaN` values, but there's a new problem, too: The home prices are in Mexican pesos (`\"price_mxn\"`), not US dollars (`\"price_usd\"`). If we want to compare all the home prices in this dataset, they all need to be in the same currency."
   ]
  },
  {
   "cell_type": "code",
   "execution_count": 6,
   "id": "39b3577a-3c87-4c4b-8c57-ed71b53c0758",
   "metadata": {
    "deletable": false,
    "editable": false,
    "init_cell": true,
    "tags": []
   },
   "outputs": [
    {
     "data": {
      "text/html": [
       "\n",
       "        <iframe\n",
       "            width=\"600\"\n",
       "            height=\"300\"\n",
       "            src=\"https://player.vimeo.com/video/656315668?h=c9bd116aca\"\n",
       "            frameborder=\"0\"\n",
       "            allowfullscreen\n",
       "            \n",
       "        ></iframe>\n",
       "        "
      ],
      "text/plain": [
       "<IPython.lib.display.VimeoVideo at 0x7a6ab44c1190>"
      ]
     },
     "execution_count": 6,
     "metadata": {},
     "output_type": "execute_result"
    }
   ],
   "source": [
    "VimeoVideo(\"656315668\", h=\"c9bd116aca\", width=600)"
   ]
  },
  {
   "cell_type": "markdown",
   "id": "b0938e20-2845-483e-808b-10671d19ae37",
   "metadata": {
    "deletable": false,
    "editable": false
   },
   "source": [
    "**Task 1.2.4:** First, drop rows with `NaN` values in `df2`. Next, use the `\"price_mxn\"` column to create a new column named `\"price_usd\"`. (Keep in mind that, when this data was collected in 2014, a dollar cost 19 pesos.) Finally, drop the `\"price_mxn\"` from the DataFrame.\n",
    "\n",
    "- [Drop rows with missing values from a DataFrame using pandas.](../%40textbook/03-pandas-getting-started.ipynb#Dropping-Rows)\n",
    "- [Create new columns derived from existing columns in a DataFrame using pandas.](../%40textbook/03-pandas-getting-started.ipynb#Adding-Columns)\n",
    "- [Drop a column from a DataFrame using pandas.](../%40textbook/03-pandas-getting-started.ipynb#Dropping-Columns)"
   ]
  },
  {
   "cell_type": "code",
   "execution_count": 11,
   "id": "eed43ea1-2ff5-4751-9dac-93e3e57d85cc",
   "metadata": {
    "tags": []
   },
   "outputs": [
    {
     "name": "stdout",
     "output_type": "stream",
     "text": [
      "<class 'pandas.core.frame.DataFrame'>\n",
      "Int64Index: 11293 entries, 0 to 12832\n",
      "Data columns (total 7 columns):\n",
      " #   Column         Non-Null Count  Dtype  \n",
      "---  ------         --------------  -----  \n",
      " 0   property_type  11293 non-null  object \n",
      " 1   state          11293 non-null  object \n",
      " 2   region         11293 non-null  object \n",
      " 3   lat            11293 non-null  float64\n",
      " 4   lon            11293 non-null  float64\n",
      " 5   area_m2        11293 non-null  float64\n",
      " 6   price_brl      11293 non-null  float64\n",
      "dtypes: float64(4), object(3)\n",
      "memory usage: 705.8+ KB\n"
     ]
    }
   ],
   "source": [
    "df2.info()"
   ]
  },
  {
   "cell_type": "code",
   "execution_count": 10,
   "id": "c161b107-8846-4f09-951d-85bd55c38e40",
   "metadata": {
    "tags": []
   },
   "outputs": [],
   "source": [
    "# Drop null values from df2\n",
    "df2.dropna(inplace=True)"
   ]
  },
  {
   "cell_type": "code",
   "execution_count": 16,
   "id": "b56c46ac-40e9-45d0-aaf0-3f5e4fe1489f",
   "metadata": {
    "deletable": false,
    "tags": []
   },
   "outputs": [
    {
     "name": "stdout",
     "output_type": "stream",
     "text": [
      "df2 type: <class 'pandas.core.frame.DataFrame'>\n",
      "df2 shape: (11293, 7)\n"
     ]
    },
    {
     "data": {
      "text/html": [
       "<div>\n",
       "<style scoped>\n",
       "    .dataframe tbody tr th:only-of-type {\n",
       "        vertical-align: middle;\n",
       "    }\n",
       "\n",
       "    .dataframe tbody tr th {\n",
       "        vertical-align: top;\n",
       "    }\n",
       "\n",
       "    .dataframe thead th {\n",
       "        text-align: right;\n",
       "    }\n",
       "</style>\n",
       "<table border=\"1\" class=\"dataframe\">\n",
       "  <thead>\n",
       "    <tr style=\"text-align: right;\">\n",
       "      <th></th>\n",
       "      <th>property_type</th>\n",
       "      <th>state</th>\n",
       "      <th>region</th>\n",
       "      <th>lat</th>\n",
       "      <th>lon</th>\n",
       "      <th>area_m2</th>\n",
       "      <th>price_usd</th>\n",
       "    </tr>\n",
       "  </thead>\n",
       "  <tbody>\n",
       "    <tr>\n",
       "      <th>0</th>\n",
       "      <td>apartment</td>\n",
       "      <td>Pernambuco</td>\n",
       "      <td>Northeast</td>\n",
       "      <td>-8.134204</td>\n",
       "      <td>-34.906326</td>\n",
       "      <td>72.0</td>\n",
       "      <td>21801.21</td>\n",
       "    </tr>\n",
       "    <tr>\n",
       "      <th>1</th>\n",
       "      <td>apartment</td>\n",
       "      <td>Pernambuco</td>\n",
       "      <td>Northeast</td>\n",
       "      <td>-8.126664</td>\n",
       "      <td>-34.903924</td>\n",
       "      <td>136.0</td>\n",
       "      <td>44653.08</td>\n",
       "    </tr>\n",
       "    <tr>\n",
       "      <th>2</th>\n",
       "      <td>apartment</td>\n",
       "      <td>Pernambuco</td>\n",
       "      <td>Northeast</td>\n",
       "      <td>-8.125550</td>\n",
       "      <td>-34.907601</td>\n",
       "      <td>75.0</td>\n",
       "      <td>15759.91</td>\n",
       "    </tr>\n",
       "    <tr>\n",
       "      <th>3</th>\n",
       "      <td>apartment</td>\n",
       "      <td>Pernambuco</td>\n",
       "      <td>Northeast</td>\n",
       "      <td>-8.120249</td>\n",
       "      <td>-34.895920</td>\n",
       "      <td>187.0</td>\n",
       "      <td>44653.08</td>\n",
       "    </tr>\n",
       "    <tr>\n",
       "      <th>4</th>\n",
       "      <td>apartment</td>\n",
       "      <td>Pernambuco</td>\n",
       "      <td>Northeast</td>\n",
       "      <td>-8.142666</td>\n",
       "      <td>-34.906906</td>\n",
       "      <td>80.0</td>\n",
       "      <td>24427.86</td>\n",
       "    </tr>\n",
       "  </tbody>\n",
       "</table>\n",
       "</div>"
      ],
      "text/plain": [
       "  property_type       state     region       lat        lon  area_m2  \\\n",
       "0     apartment  Pernambuco  Northeast -8.134204 -34.906326     72.0   \n",
       "1     apartment  Pernambuco  Northeast -8.126664 -34.903924    136.0   \n",
       "2     apartment  Pernambuco  Northeast -8.125550 -34.907601     75.0   \n",
       "3     apartment  Pernambuco  Northeast -8.120249 -34.895920    187.0   \n",
       "4     apartment  Pernambuco  Northeast -8.142666 -34.906906     80.0   \n",
       "\n",
       "   price_usd  \n",
       "0   21801.21  \n",
       "1   44653.08  \n",
       "2   15759.91  \n",
       "3   44653.08  \n",
       "4   24427.86  "
      ]
     },
     "execution_count": 16,
     "metadata": {},
     "output_type": "execute_result"
    }
   ],
   "source": [
    "# Create \"price_usd\" column for df2 (19 pesos to the dollar in 2014)\n",
    "df2[\"price_usd\"] = (df2[\"price_brl\"]/19).round(2)\n",
    "\n",
    "# Drop \"price_mxn\" column from df2\n",
    "df2.drop(columns=\"price_brl\", inplace=True)\n",
    "\n",
    "# Print object type, shape, and head\n",
    "print(\"df2 type:\", type(df2))\n",
    "print(\"df2 shape:\", df2.shape)\n",
    "df2.head()"
   ]
  },
  {
   "cell_type": "markdown",
   "id": "f42a4a55-b5e2-44b3-a22f-5fa9a7e24e3f",
   "metadata": {
    "deletable": false,
    "editable": false
   },
   "source": [
    "## Clean `df3`"
   ]
  },
  {
   "cell_type": "markdown",
   "id": "bf07c051-988f-4865-bcf7-5345131336a2",
   "metadata": {
    "deletable": false,
    "editable": false
   },
   "source": [
    "Great work! We're now on the final DataFrame. Use the same `shape`, `info` and `head` commands to inspect the `df3`. Do you see any familiar issues? \n",
    "\n",
    "You'll notice that we still have `NaN` values, but there are two new problems:\n",
    "\n",
    "1. Instead of separate `\"lat\"` and `\"lon\"` columns, there's a single `\"lat-lon\"` column. \n",
    "2. Instead of a `\"state\"` column, there's a `\"place_with_parent_names\"` column.\n",
    "\n",
    "We need the resolve these problems so that `df3` has the same columns in the same format as `df1` and `df2`."
   ]
  },
  {
   "cell_type": "code",
   "execution_count": 17,
   "id": "54599cb5-e37d-44aa-a45f-1f4630cdd1d9",
   "metadata": {
    "deletable": false,
    "editable": false,
    "init_cell": true,
    "tags": []
   },
   "outputs": [
    {
     "data": {
      "text/html": [
       "\n",
       "        <iframe\n",
       "            width=\"600\"\n",
       "            height=\"300\"\n",
       "            src=\"https://player.vimeo.com/video/656314718?h=8d1127a93f\"\n",
       "            frameborder=\"0\"\n",
       "            allowfullscreen\n",
       "            \n",
       "        ></iframe>\n",
       "        "
      ],
      "text/plain": [
       "<IPython.lib.display.VimeoVideo at 0x7a6ab45a8190>"
      ]
     },
     "execution_count": 17,
     "metadata": {},
     "output_type": "execute_result"
    }
   ],
   "source": [
    "VimeoVideo(\"656314718\", h=\"8d1127a93f\", width=600)"
   ]
  },
  {
   "cell_type": "markdown",
   "id": "1648218b-f51f-4315-b7e7-a736267182b6",
   "metadata": {
    "deletable": false,
    "editable": false
   },
   "source": [
    "**Task 1.2.5:** Drop rows with `NaN` values in `df3`. Then use the [`split`](https://pandas.pydata.org/docs/reference/api/pandas.Series.str.split.html) method to create two new columns from `\"lat-lon\"` named `\"lat\"` and `\"lon\"`, respectively.\n",
    "\n",
    "- [Drop rows with missing values from a DataFrame using pandas.](../%40textbook/03-pandas-getting-started.ipynb#Dropping-Rows)\n",
    "- [Split the strings in one column to create another using pandas.](../%40textbook/03-pandas-getting-started.ipynb#Splitting-Strings) "
   ]
  },
  {
   "cell_type": "code",
   "execution_count": 18,
   "id": "6fe8032c-b255-4baa-88d3-5a604c4f14ba",
   "metadata": {
    "tags": []
   },
   "outputs": [
    {
     "data": {
      "text/html": [
       "<div>\n",
       "<style scoped>\n",
       "    .dataframe tbody tr th:only-of-type {\n",
       "        vertical-align: middle;\n",
       "    }\n",
       "\n",
       "    .dataframe tbody tr th {\n",
       "        vertical-align: top;\n",
       "    }\n",
       "\n",
       "    .dataframe thead th {\n",
       "        text-align: right;\n",
       "    }\n",
       "</style>\n",
       "<table border=\"1\" class=\"dataframe\">\n",
       "  <thead>\n",
       "    <tr style=\"text-align: right;\">\n",
       "      <th></th>\n",
       "      <th>property_type</th>\n",
       "      <th>place_with_parent_names</th>\n",
       "      <th>region</th>\n",
       "      <th>lat-lon</th>\n",
       "      <th>area_m2</th>\n",
       "      <th>price_usd</th>\n",
       "    </tr>\n",
       "  </thead>\n",
       "  <tbody>\n",
       "    <tr>\n",
       "      <th>0</th>\n",
       "      <td>apartment</td>\n",
       "      <td>|Brasil|Alagoas|Maceió|</td>\n",
       "      <td>Northeast</td>\n",
       "      <td>-9.6443051,-35.7088142</td>\n",
       "      <td>110.0</td>\n",
       "      <td>$187,230.85</td>\n",
       "    </tr>\n",
       "    <tr>\n",
       "      <th>1</th>\n",
       "      <td>apartment</td>\n",
       "      <td>|Brasil|Alagoas|Maceió|</td>\n",
       "      <td>Northeast</td>\n",
       "      <td>-9.6430934,-35.70484</td>\n",
       "      <td>65.0</td>\n",
       "      <td>$81,133.37</td>\n",
       "    </tr>\n",
       "    <tr>\n",
       "      <th>2</th>\n",
       "      <td>house</td>\n",
       "      <td>|Brasil|Alagoas|Maceió|</td>\n",
       "      <td>Northeast</td>\n",
       "      <td>-9.6227033,-35.7297953</td>\n",
       "      <td>211.0</td>\n",
       "      <td>$154,465.45</td>\n",
       "    </tr>\n",
       "    <tr>\n",
       "      <th>3</th>\n",
       "      <td>apartment</td>\n",
       "      <td>|Brasil|Alagoas|Maceió|</td>\n",
       "      <td>Northeast</td>\n",
       "      <td>-9.622837,-35.719556</td>\n",
       "      <td>99.0</td>\n",
       "      <td>$146,013.20</td>\n",
       "    </tr>\n",
       "    <tr>\n",
       "      <th>4</th>\n",
       "      <td>apartment</td>\n",
       "      <td>|Brasil|Alagoas|Maceió|</td>\n",
       "      <td>Northeast</td>\n",
       "      <td>-9.654955,-35.700227</td>\n",
       "      <td>55.0</td>\n",
       "      <td>$101,416.71</td>\n",
       "    </tr>\n",
       "  </tbody>\n",
       "</table>\n",
       "</div>"
      ],
      "text/plain": [
       "  property_type  place_with_parent_names     region                 lat-lon  \\\n",
       "0     apartment  |Brasil|Alagoas|Maceió|  Northeast  -9.6443051,-35.7088142   \n",
       "1     apartment  |Brasil|Alagoas|Maceió|  Northeast    -9.6430934,-35.70484   \n",
       "2         house  |Brasil|Alagoas|Maceió|  Northeast  -9.6227033,-35.7297953   \n",
       "3     apartment  |Brasil|Alagoas|Maceió|  Northeast    -9.622837,-35.719556   \n",
       "4     apartment  |Brasil|Alagoas|Maceió|  Northeast    -9.654955,-35.700227   \n",
       "\n",
       "   area_m2    price_usd  \n",
       "0    110.0  $187,230.85  \n",
       "1     65.0   $81,133.37  \n",
       "2    211.0  $154,465.45  \n",
       "3     99.0  $146,013.20  \n",
       "4     55.0  $101,416.71  "
      ]
     },
     "execution_count": 18,
     "metadata": {},
     "output_type": "execute_result"
    }
   ],
   "source": [
    "df3.head()"
   ]
  },
  {
   "cell_type": "code",
   "execution_count": 22,
   "id": "934f4f0d-197f-4741-8b1d-f14a9b3ff1fe",
   "metadata": {
    "deletable": false,
    "tags": []
   },
   "outputs": [
    {
     "name": "stdout",
     "output_type": "stream",
     "text": [
      "df3 type: <class 'pandas.core.frame.DataFrame'>\n",
      "df3 shape: (11551, 7)\n"
     ]
    },
    {
     "data": {
      "text/html": [
       "<div>\n",
       "<style scoped>\n",
       "    .dataframe tbody tr th:only-of-type {\n",
       "        vertical-align: middle;\n",
       "    }\n",
       "\n",
       "    .dataframe tbody tr th {\n",
       "        vertical-align: top;\n",
       "    }\n",
       "\n",
       "    .dataframe thead th {\n",
       "        text-align: right;\n",
       "    }\n",
       "</style>\n",
       "<table border=\"1\" class=\"dataframe\">\n",
       "  <thead>\n",
       "    <tr style=\"text-align: right;\">\n",
       "      <th></th>\n",
       "      <th>property_type</th>\n",
       "      <th>place_with_parent_names</th>\n",
       "      <th>region</th>\n",
       "      <th>area_m2</th>\n",
       "      <th>price_usd</th>\n",
       "      <th>lat</th>\n",
       "      <th>lon</th>\n",
       "    </tr>\n",
       "  </thead>\n",
       "  <tbody>\n",
       "    <tr>\n",
       "      <th>0</th>\n",
       "      <td>apartment</td>\n",
       "      <td>|Brasil|Alagoas|Maceió|</td>\n",
       "      <td>Northeast</td>\n",
       "      <td>110.0</td>\n",
       "      <td>$187,230.85</td>\n",
       "      <td>-9.644305</td>\n",
       "      <td>-35.708814</td>\n",
       "    </tr>\n",
       "    <tr>\n",
       "      <th>1</th>\n",
       "      <td>apartment</td>\n",
       "      <td>|Brasil|Alagoas|Maceió|</td>\n",
       "      <td>Northeast</td>\n",
       "      <td>65.0</td>\n",
       "      <td>$81,133.37</td>\n",
       "      <td>-9.643093</td>\n",
       "      <td>-35.704840</td>\n",
       "    </tr>\n",
       "    <tr>\n",
       "      <th>2</th>\n",
       "      <td>house</td>\n",
       "      <td>|Brasil|Alagoas|Maceió|</td>\n",
       "      <td>Northeast</td>\n",
       "      <td>211.0</td>\n",
       "      <td>$154,465.45</td>\n",
       "      <td>-9.622703</td>\n",
       "      <td>-35.729795</td>\n",
       "    </tr>\n",
       "    <tr>\n",
       "      <th>3</th>\n",
       "      <td>apartment</td>\n",
       "      <td>|Brasil|Alagoas|Maceió|</td>\n",
       "      <td>Northeast</td>\n",
       "      <td>99.0</td>\n",
       "      <td>$146,013.20</td>\n",
       "      <td>-9.622837</td>\n",
       "      <td>-35.719556</td>\n",
       "    </tr>\n",
       "    <tr>\n",
       "      <th>4</th>\n",
       "      <td>apartment</td>\n",
       "      <td>|Brasil|Alagoas|Maceió|</td>\n",
       "      <td>Northeast</td>\n",
       "      <td>55.0</td>\n",
       "      <td>$101,416.71</td>\n",
       "      <td>-9.654955</td>\n",
       "      <td>-35.700227</td>\n",
       "    </tr>\n",
       "  </tbody>\n",
       "</table>\n",
       "</div>"
      ],
      "text/plain": [
       "  property_type  place_with_parent_names     region  area_m2    price_usd  \\\n",
       "0     apartment  |Brasil|Alagoas|Maceió|  Northeast    110.0  $187,230.85   \n",
       "1     apartment  |Brasil|Alagoas|Maceió|  Northeast     65.0   $81,133.37   \n",
       "2         house  |Brasil|Alagoas|Maceió|  Northeast    211.0  $154,465.45   \n",
       "3     apartment  |Brasil|Alagoas|Maceió|  Northeast     99.0  $146,013.20   \n",
       "4     apartment  |Brasil|Alagoas|Maceió|  Northeast     55.0  $101,416.71   \n",
       "\n",
       "        lat        lon  \n",
       "0 -9.644305 -35.708814  \n",
       "1 -9.643093 -35.704840  \n",
       "2 -9.622703 -35.729795  \n",
       "3 -9.622837 -35.719556  \n",
       "4 -9.654955 -35.700227  "
      ]
     },
     "execution_count": 22,
     "metadata": {},
     "output_type": "execute_result"
    }
   ],
   "source": [
    "# Drop null values from df3\n",
    "df3.dropna(inplace=True)\n",
    "\n",
    "# Create \"lat\" and \"lon\" columns for df3\n",
    "df3[[\"lat\", \"lon\"]] = (df3[\"lat-lon\"]\n",
    "                       .str.split(\",\", expand=True)\n",
    "                       .astype(float)\n",
    "                      )\n",
    "df3.drop(columns=\"lat-lon\", inplace = True)\n",
    "# Print object type, shape, and head\n",
    "print(\"df3 type:\", type(df3))\n",
    "print(\"df3 shape:\", df3.shape)\n",
    "df3.head()"
   ]
  },
  {
   "cell_type": "code",
   "execution_count": 19,
   "id": "f9108cbe-1283-495d-8087-351650c6978b",
   "metadata": {
    "tags": []
   },
   "outputs": [
    {
     "name": "stdout",
     "output_type": "stream",
     "text": [
      "Help on class str in module builtins:\n",
      "\n",
      "class str(object)\n",
      " |  str(object='') -> str\n",
      " |  str(bytes_or_buffer[, encoding[, errors]]) -> str\n",
      " |  \n",
      " |  Create a new string object from the given object. If encoding or\n",
      " |  errors is specified, then the object must expose a data buffer\n",
      " |  that will be decoded using the given encoding and error handler.\n",
      " |  Otherwise, returns the result of object.__str__() (if defined)\n",
      " |  or repr(object).\n",
      " |  encoding defaults to sys.getdefaultencoding().\n",
      " |  errors defaults to 'strict'.\n",
      " |  \n",
      " |  Methods defined here:\n",
      " |  \n",
      " |  __add__(self, value, /)\n",
      " |      Return self+value.\n",
      " |  \n",
      " |  __contains__(self, key, /)\n",
      " |      Return key in self.\n",
      " |  \n",
      " |  __eq__(self, value, /)\n",
      " |      Return self==value.\n",
      " |  \n",
      " |  __format__(self, format_spec, /)\n",
      " |      Return a formatted version of the string as described by format_spec.\n",
      " |  \n",
      " |  __ge__(self, value, /)\n",
      " |      Return self>=value.\n",
      " |  \n",
      " |  __getattribute__(self, name, /)\n",
      " |      Return getattr(self, name).\n",
      " |  \n",
      " |  __getitem__(self, key, /)\n",
      " |      Return self[key].\n",
      " |  \n",
      " |  __getnewargs__(...)\n",
      " |  \n",
      " |  __gt__(self, value, /)\n",
      " |      Return self>value.\n",
      " |  \n",
      " |  __hash__(self, /)\n",
      " |      Return hash(self).\n",
      " |  \n",
      " |  __iter__(self, /)\n",
      " |      Implement iter(self).\n",
      " |  \n",
      " |  __le__(self, value, /)\n",
      " |      Return self<=value.\n",
      " |  \n",
      " |  __len__(self, /)\n",
      " |      Return len(self).\n",
      " |  \n",
      " |  __lt__(self, value, /)\n",
      " |      Return self<value.\n",
      " |  \n",
      " |  __mod__(self, value, /)\n",
      " |      Return self%value.\n",
      " |  \n",
      " |  __mul__(self, value, /)\n",
      " |      Return self*value.\n",
      " |  \n",
      " |  __ne__(self, value, /)\n",
      " |      Return self!=value.\n",
      " |  \n",
      " |  __repr__(self, /)\n",
      " |      Return repr(self).\n",
      " |  \n",
      " |  __rmod__(self, value, /)\n",
      " |      Return value%self.\n",
      " |  \n",
      " |  __rmul__(self, value, /)\n",
      " |      Return value*self.\n",
      " |  \n",
      " |  __sizeof__(self, /)\n",
      " |      Return the size of the string in memory, in bytes.\n",
      " |  \n",
      " |  __str__(self, /)\n",
      " |      Return str(self).\n",
      " |  \n",
      " |  capitalize(self, /)\n",
      " |      Return a capitalized version of the string.\n",
      " |      \n",
      " |      More specifically, make the first character have upper case and the rest lower\n",
      " |      case.\n",
      " |  \n",
      " |  casefold(self, /)\n",
      " |      Return a version of the string suitable for caseless comparisons.\n",
      " |  \n",
      " |  center(self, width, fillchar=' ', /)\n",
      " |      Return a centered string of length width.\n",
      " |      \n",
      " |      Padding is done using the specified fill character (default is a space).\n",
      " |  \n",
      " |  count(...)\n",
      " |      S.count(sub[, start[, end]]) -> int\n",
      " |      \n",
      " |      Return the number of non-overlapping occurrences of substring sub in\n",
      " |      string S[start:end].  Optional arguments start and end are\n",
      " |      interpreted as in slice notation.\n",
      " |  \n",
      " |  encode(self, /, encoding='utf-8', errors='strict')\n",
      " |      Encode the string using the codec registered for encoding.\n",
      " |      \n",
      " |      encoding\n",
      " |        The encoding in which to encode the string.\n",
      " |      errors\n",
      " |        The error handling scheme to use for encoding errors.\n",
      " |        The default is 'strict' meaning that encoding errors raise a\n",
      " |        UnicodeEncodeError.  Other possible values are 'ignore', 'replace' and\n",
      " |        'xmlcharrefreplace' as well as any other name registered with\n",
      " |        codecs.register_error that can handle UnicodeEncodeErrors.\n",
      " |  \n",
      " |  endswith(...)\n",
      " |      S.endswith(suffix[, start[, end]]) -> bool\n",
      " |      \n",
      " |      Return True if S ends with the specified suffix, False otherwise.\n",
      " |      With optional start, test S beginning at that position.\n",
      " |      With optional end, stop comparing S at that position.\n",
      " |      suffix can also be a tuple of strings to try.\n",
      " |  \n",
      " |  expandtabs(self, /, tabsize=8)\n",
      " |      Return a copy where all tab characters are expanded using spaces.\n",
      " |      \n",
      " |      If tabsize is not given, a tab size of 8 characters is assumed.\n",
      " |  \n",
      " |  find(...)\n",
      " |      S.find(sub[, start[, end]]) -> int\n",
      " |      \n",
      " |      Return the lowest index in S where substring sub is found,\n",
      " |      such that sub is contained within S[start:end].  Optional\n",
      " |      arguments start and end are interpreted as in slice notation.\n",
      " |      \n",
      " |      Return -1 on failure.\n",
      " |  \n",
      " |  format(...)\n",
      " |      S.format(*args, **kwargs) -> str\n",
      " |      \n",
      " |      Return a formatted version of S, using substitutions from args and kwargs.\n",
      " |      The substitutions are identified by braces ('{' and '}').\n",
      " |  \n",
      " |  format_map(...)\n",
      " |      S.format_map(mapping) -> str\n",
      " |      \n",
      " |      Return a formatted version of S, using substitutions from mapping.\n",
      " |      The substitutions are identified by braces ('{' and '}').\n",
      " |  \n",
      " |  index(...)\n",
      " |      S.index(sub[, start[, end]]) -> int\n",
      " |      \n",
      " |      Return the lowest index in S where substring sub is found,\n",
      " |      such that sub is contained within S[start:end].  Optional\n",
      " |      arguments start and end are interpreted as in slice notation.\n",
      " |      \n",
      " |      Raises ValueError when the substring is not found.\n",
      " |  \n",
      " |  isalnum(self, /)\n",
      " |      Return True if the string is an alpha-numeric string, False otherwise.\n",
      " |      \n",
      " |      A string is alpha-numeric if all characters in the string are alpha-numeric and\n",
      " |      there is at least one character in the string.\n",
      " |  \n",
      " |  isalpha(self, /)\n",
      " |      Return True if the string is an alphabetic string, False otherwise.\n",
      " |      \n",
      " |      A string is alphabetic if all characters in the string are alphabetic and there\n",
      " |      is at least one character in the string.\n",
      " |  \n",
      " |  isascii(self, /)\n",
      " |      Return True if all characters in the string are ASCII, False otherwise.\n",
      " |      \n",
      " |      ASCII characters have code points in the range U+0000-U+007F.\n",
      " |      Empty string is ASCII too.\n",
      " |  \n",
      " |  isdecimal(self, /)\n",
      " |      Return True if the string is a decimal string, False otherwise.\n",
      " |      \n",
      " |      A string is a decimal string if all characters in the string are decimal and\n",
      " |      there is at least one character in the string.\n",
      " |  \n",
      " |  isdigit(self, /)\n",
      " |      Return True if the string is a digit string, False otherwise.\n",
      " |      \n",
      " |      A string is a digit string if all characters in the string are digits and there\n",
      " |      is at least one character in the string.\n",
      " |  \n",
      " |  isidentifier(self, /)\n",
      " |      Return True if the string is a valid Python identifier, False otherwise.\n",
      " |      \n",
      " |      Call keyword.iskeyword(s) to test whether string s is a reserved identifier,\n",
      " |      such as \"def\" or \"class\".\n",
      " |  \n",
      " |  islower(self, /)\n",
      " |      Return True if the string is a lowercase string, False otherwise.\n",
      " |      \n",
      " |      A string is lowercase if all cased characters in the string are lowercase and\n",
      " |      there is at least one cased character in the string.\n",
      " |  \n",
      " |  isnumeric(self, /)\n",
      " |      Return True if the string is a numeric string, False otherwise.\n",
      " |      \n",
      " |      A string is numeric if all characters in the string are numeric and there is at\n",
      " |      least one character in the string.\n",
      " |  \n",
      " |  isprintable(self, /)\n",
      " |      Return True if the string is printable, False otherwise.\n",
      " |      \n",
      " |      A string is printable if all of its characters are considered printable in\n",
      " |      repr() or if it is empty.\n",
      " |  \n",
      " |  isspace(self, /)\n",
      " |      Return True if the string is a whitespace string, False otherwise.\n",
      " |      \n",
      " |      A string is whitespace if all characters in the string are whitespace and there\n",
      " |      is at least one character in the string.\n",
      " |  \n",
      " |  istitle(self, /)\n",
      " |      Return True if the string is a title-cased string, False otherwise.\n",
      " |      \n",
      " |      In a title-cased string, upper- and title-case characters may only\n",
      " |      follow uncased characters and lowercase characters only cased ones.\n",
      " |  \n",
      " |  isupper(self, /)\n",
      " |      Return True if the string is an uppercase string, False otherwise.\n",
      " |      \n",
      " |      A string is uppercase if all cased characters in the string are uppercase and\n",
      " |      there is at least one cased character in the string.\n",
      " |  \n",
      " |  join(self, iterable, /)\n",
      " |      Concatenate any number of strings.\n",
      " |      \n",
      " |      The string whose method is called is inserted in between each given string.\n",
      " |      The result is returned as a new string.\n",
      " |      \n",
      " |      Example: '.'.join(['ab', 'pq', 'rs']) -> 'ab.pq.rs'\n",
      " |  \n",
      " |  ljust(self, width, fillchar=' ', /)\n",
      " |      Return a left-justified string of length width.\n",
      " |      \n",
      " |      Padding is done using the specified fill character (default is a space).\n",
      " |  \n",
      " |  lower(self, /)\n",
      " |      Return a copy of the string converted to lowercase.\n",
      " |  \n",
      " |  lstrip(self, chars=None, /)\n",
      " |      Return a copy of the string with leading whitespace removed.\n",
      " |      \n",
      " |      If chars is given and not None, remove characters in chars instead.\n",
      " |  \n",
      " |  partition(self, sep, /)\n",
      " |      Partition the string into three parts using the given separator.\n",
      " |      \n",
      " |      This will search for the separator in the string.  If the separator is found,\n",
      " |      returns a 3-tuple containing the part before the separator, the separator\n",
      " |      itself, and the part after it.\n",
      " |      \n",
      " |      If the separator is not found, returns a 3-tuple containing the original string\n",
      " |      and two empty strings.\n",
      " |  \n",
      " |  removeprefix(self, prefix, /)\n",
      " |      Return a str with the given prefix string removed if present.\n",
      " |      \n",
      " |      If the string starts with the prefix string, return string[len(prefix):].\n",
      " |      Otherwise, return a copy of the original string.\n",
      " |  \n",
      " |  removesuffix(self, suffix, /)\n",
      " |      Return a str with the given suffix string removed if present.\n",
      " |      \n",
      " |      If the string ends with the suffix string and that suffix is not empty,\n",
      " |      return string[:-len(suffix)]. Otherwise, return a copy of the original\n",
      " |      string.\n",
      " |  \n",
      " |  replace(self, old, new, count=-1, /)\n",
      " |      Return a copy with all occurrences of substring old replaced by new.\n",
      " |      \n",
      " |        count\n",
      " |          Maximum number of occurrences to replace.\n",
      " |          -1 (the default value) means replace all occurrences.\n",
      " |      \n",
      " |      If the optional argument count is given, only the first count occurrences are\n",
      " |      replaced.\n",
      " |  \n",
      " |  rfind(...)\n",
      " |      S.rfind(sub[, start[, end]]) -> int\n",
      " |      \n",
      " |      Return the highest index in S where substring sub is found,\n",
      " |      such that sub is contained within S[start:end].  Optional\n",
      " |      arguments start and end are interpreted as in slice notation.\n",
      " |      \n",
      " |      Return -1 on failure.\n",
      " |  \n",
      " |  rindex(...)\n",
      " |      S.rindex(sub[, start[, end]]) -> int\n",
      " |      \n",
      " |      Return the highest index in S where substring sub is found,\n",
      " |      such that sub is contained within S[start:end].  Optional\n",
      " |      arguments start and end are interpreted as in slice notation.\n",
      " |      \n",
      " |      Raises ValueError when the substring is not found.\n",
      " |  \n",
      " |  rjust(self, width, fillchar=' ', /)\n",
      " |      Return a right-justified string of length width.\n",
      " |      \n",
      " |      Padding is done using the specified fill character (default is a space).\n",
      " |  \n",
      " |  rpartition(self, sep, /)\n",
      " |      Partition the string into three parts using the given separator.\n",
      " |      \n",
      " |      This will search for the separator in the string, starting at the end. If\n",
      " |      the separator is found, returns a 3-tuple containing the part before the\n",
      " |      separator, the separator itself, and the part after it.\n",
      " |      \n",
      " |      If the separator is not found, returns a 3-tuple containing two empty strings\n",
      " |      and the original string.\n",
      " |  \n",
      " |  rsplit(self, /, sep=None, maxsplit=-1)\n",
      " |      Return a list of the substrings in the string, using sep as the separator string.\n",
      " |      \n",
      " |        sep\n",
      " |          The separator used to split the string.\n",
      " |      \n",
      " |          When set to None (the default value), will split on any whitespace\n",
      " |          character (including \\\\n \\\\r \\\\t \\\\f and spaces) and will discard\n",
      " |          empty strings from the result.\n",
      " |        maxsplit\n",
      " |          Maximum number of splits (starting from the left).\n",
      " |          -1 (the default value) means no limit.\n",
      " |      \n",
      " |      Splitting starts at the end of the string and works to the front.\n",
      " |  \n",
      " |  rstrip(self, chars=None, /)\n",
      " |      Return a copy of the string with trailing whitespace removed.\n",
      " |      \n",
      " |      If chars is given and not None, remove characters in chars instead.\n",
      " |  \n",
      " |  split(self, /, sep=None, maxsplit=-1)\n",
      " |      Return a list of the substrings in the string, using sep as the separator string.\n",
      " |      \n",
      " |        sep\n",
      " |          The separator used to split the string.\n",
      " |      \n",
      " |          When set to None (the default value), will split on any whitespace\n",
      " |          character (including \\\\n \\\\r \\\\t \\\\f and spaces) and will discard\n",
      " |          empty strings from the result.\n",
      " |        maxsplit\n",
      " |          Maximum number of splits (starting from the left).\n",
      " |          -1 (the default value) means no limit.\n",
      " |      \n",
      " |      Note, str.split() is mainly useful for data that has been intentionally\n",
      " |      delimited.  With natural text that includes punctuation, consider using\n",
      " |      the regular expression module.\n",
      " |  \n",
      " |  splitlines(self, /, keepends=False)\n",
      " |      Return a list of the lines in the string, breaking at line boundaries.\n",
      " |      \n",
      " |      Line breaks are not included in the resulting list unless keepends is given and\n",
      " |      true.\n",
      " |  \n",
      " |  startswith(...)\n",
      " |      S.startswith(prefix[, start[, end]]) -> bool\n",
      " |      \n",
      " |      Return True if S starts with the specified prefix, False otherwise.\n",
      " |      With optional start, test S beginning at that position.\n",
      " |      With optional end, stop comparing S at that position.\n",
      " |      prefix can also be a tuple of strings to try.\n",
      " |  \n",
      " |  strip(self, chars=None, /)\n",
      " |      Return a copy of the string with leading and trailing whitespace removed.\n",
      " |      \n",
      " |      If chars is given and not None, remove characters in chars instead.\n",
      " |  \n",
      " |  swapcase(self, /)\n",
      " |      Convert uppercase characters to lowercase and lowercase characters to uppercase.\n",
      " |  \n",
      " |  title(self, /)\n",
      " |      Return a version of the string where each word is titlecased.\n",
      " |      \n",
      " |      More specifically, words start with uppercased characters and all remaining\n",
      " |      cased characters have lower case.\n",
      " |  \n",
      " |  translate(self, table, /)\n",
      " |      Replace each character in the string using the given translation table.\n",
      " |      \n",
      " |        table\n",
      " |          Translation table, which must be a mapping of Unicode ordinals to\n",
      " |          Unicode ordinals, strings, or None.\n",
      " |      \n",
      " |      The table must implement lookup/indexing via __getitem__, for instance a\n",
      " |      dictionary or list.  If this operation raises LookupError, the character is\n",
      " |      left untouched.  Characters mapped to None are deleted.\n",
      " |  \n",
      " |  upper(self, /)\n",
      " |      Return a copy of the string converted to uppercase.\n",
      " |  \n",
      " |  zfill(self, width, /)\n",
      " |      Pad a numeric string with zeros on the left, to fill a field of the given width.\n",
      " |      \n",
      " |      The string is never truncated.\n",
      " |  \n",
      " |  ----------------------------------------------------------------------\n",
      " |  Static methods defined here:\n",
      " |  \n",
      " |  __new__(*args, **kwargs) from builtins.type\n",
      " |      Create and return a new object.  See help(type) for accurate signature.\n",
      " |  \n",
      " |  maketrans(...)\n",
      " |      Return a translation table usable for str.translate().\n",
      " |      \n",
      " |      If there is only one argument, it must be a dictionary mapping Unicode\n",
      " |      ordinals (integers) or characters to Unicode ordinals, strings or None.\n",
      " |      Character keys will be then converted to ordinals.\n",
      " |      If there are two arguments, they must be strings of equal length, and\n",
      " |      in the resulting dictionary, each character in x will be mapped to the\n",
      " |      character at the same position in y. If there is a third argument, it\n",
      " |      must be a string, whose characters will be mapped to None in the result.\n",
      "\n"
     ]
    }
   ],
   "source": [
    "help(str)"
   ]
  },
  {
   "cell_type": "code",
   "execution_count": 23,
   "id": "fe1a5d6b-c8b4-4ce2-8c8a-95cbd867b3a3",
   "metadata": {
    "deletable": false,
    "editable": false,
    "init_cell": true,
    "tags": []
   },
   "outputs": [
    {
     "data": {
      "text/html": [
       "\n",
       "        <iframe\n",
       "            width=\"600\"\n",
       "            height=\"300\"\n",
       "            src=\"https://player.vimeo.com/video/656314050?h=13f6a677fd\"\n",
       "            frameborder=\"0\"\n",
       "            allowfullscreen\n",
       "            \n",
       "        ></iframe>\n",
       "        "
      ],
      "text/plain": [
       "<IPython.lib.display.VimeoVideo at 0x7a6ab0379a10>"
      ]
     },
     "execution_count": 23,
     "metadata": {},
     "output_type": "execute_result"
    }
   ],
   "source": [
    "VimeoVideo(\"656314050\", h=\"13f6a677fd\", width=600)"
   ]
  },
  {
   "cell_type": "markdown",
   "id": "8467296c-bc67-4467-8f9f-cc3728d2d7db",
   "metadata": {
    "deletable": false,
    "editable": false
   },
   "source": [
    "**Task 1.2.6:** Use the [`split`](https://pandas.pydata.org/docs/reference/api/pandas.Series.str.split.html) method again, this time to extract the state for every house. (Note that the state name always appears after `\"México|\"` in each string.) Use this information to create a `\"state\"` column. Finally, drop the `\"place_with_parent_names\"` and `\"lat-lon\"` columns from the DataFrame. \n",
    "\n",
    "- [Split the strings in one column to create another using pandas.](../%40textbook/03-pandas-getting-started.ipynb#Splitting-Strings)\n",
    "- [Drop a column from a DataFrame using pandas.](../%40textbook/03-pandas-getting-started.ipynb#Dropping-Columns)"
   ]
  },
  {
   "cell_type": "code",
   "execution_count": 34,
   "id": "d52271cf-5082-4a96-aa1f-7064ebba9b44",
   "metadata": {
    "tags": []
   },
   "outputs": [],
   "source": [
    "# Create \"state\" column for df3\n",
    "df3[\"state\"] = df3[\"place_with_parent_names\"].str.split(\"|\", expand=True)[2]"
   ]
  },
  {
   "cell_type": "code",
   "execution_count": 36,
   "id": "fc395d19-d7d9-49fa-8dd5-cc1c1d66cdd3",
   "metadata": {
    "deletable": false,
    "tags": []
   },
   "outputs": [
    {
     "name": "stdout",
     "output_type": "stream",
     "text": [
      "df3 type: <class 'pandas.core.frame.DataFrame'>\n",
      "df3 shape: (11551, 7)\n"
     ]
    },
    {
     "data": {
      "text/html": [
       "<div>\n",
       "<style scoped>\n",
       "    .dataframe tbody tr th:only-of-type {\n",
       "        vertical-align: middle;\n",
       "    }\n",
       "\n",
       "    .dataframe tbody tr th {\n",
       "        vertical-align: top;\n",
       "    }\n",
       "\n",
       "    .dataframe thead th {\n",
       "        text-align: right;\n",
       "    }\n",
       "</style>\n",
       "<table border=\"1\" class=\"dataframe\">\n",
       "  <thead>\n",
       "    <tr style=\"text-align: right;\">\n",
       "      <th></th>\n",
       "      <th>property_type</th>\n",
       "      <th>region</th>\n",
       "      <th>area_m2</th>\n",
       "      <th>price_usd</th>\n",
       "      <th>lat</th>\n",
       "      <th>lon</th>\n",
       "      <th>state</th>\n",
       "    </tr>\n",
       "  </thead>\n",
       "  <tbody>\n",
       "    <tr>\n",
       "      <th>0</th>\n",
       "      <td>apartment</td>\n",
       "      <td>Northeast</td>\n",
       "      <td>110.0</td>\n",
       "      <td>$187,230.85</td>\n",
       "      <td>-9.644305</td>\n",
       "      <td>-35.708814</td>\n",
       "      <td>Alagoas</td>\n",
       "    </tr>\n",
       "    <tr>\n",
       "      <th>1</th>\n",
       "      <td>apartment</td>\n",
       "      <td>Northeast</td>\n",
       "      <td>65.0</td>\n",
       "      <td>$81,133.37</td>\n",
       "      <td>-9.643093</td>\n",
       "      <td>-35.704840</td>\n",
       "      <td>Alagoas</td>\n",
       "    </tr>\n",
       "    <tr>\n",
       "      <th>2</th>\n",
       "      <td>house</td>\n",
       "      <td>Northeast</td>\n",
       "      <td>211.0</td>\n",
       "      <td>$154,465.45</td>\n",
       "      <td>-9.622703</td>\n",
       "      <td>-35.729795</td>\n",
       "      <td>Alagoas</td>\n",
       "    </tr>\n",
       "    <tr>\n",
       "      <th>3</th>\n",
       "      <td>apartment</td>\n",
       "      <td>Northeast</td>\n",
       "      <td>99.0</td>\n",
       "      <td>$146,013.20</td>\n",
       "      <td>-9.622837</td>\n",
       "      <td>-35.719556</td>\n",
       "      <td>Alagoas</td>\n",
       "    </tr>\n",
       "    <tr>\n",
       "      <th>4</th>\n",
       "      <td>apartment</td>\n",
       "      <td>Northeast</td>\n",
       "      <td>55.0</td>\n",
       "      <td>$101,416.71</td>\n",
       "      <td>-9.654955</td>\n",
       "      <td>-35.700227</td>\n",
       "      <td>Alagoas</td>\n",
       "    </tr>\n",
       "  </tbody>\n",
       "</table>\n",
       "</div>"
      ],
      "text/plain": [
       "  property_type     region  area_m2    price_usd       lat        lon    state\n",
       "0     apartment  Northeast    110.0  $187,230.85 -9.644305 -35.708814  Alagoas\n",
       "1     apartment  Northeast     65.0   $81,133.37 -9.643093 -35.704840  Alagoas\n",
       "2         house  Northeast    211.0  $154,465.45 -9.622703 -35.729795  Alagoas\n",
       "3     apartment  Northeast     99.0  $146,013.20 -9.622837 -35.719556  Alagoas\n",
       "4     apartment  Northeast     55.0  $101,416.71 -9.654955 -35.700227  Alagoas"
      ]
     },
     "execution_count": 36,
     "metadata": {},
     "output_type": "execute_result"
    }
   ],
   "source": [
    "# Drop \"place_with_parent_names\" and \"lat-lon\" from df3\n",
    "df3.drop(columns=\"place_with_parent_names\", inplace=True)\n",
    "\n",
    "# Print object type, shape, and head\n",
    "print(\"df3 type:\", type(df3))\n",
    "print(\"df3 shape:\", df3.shape)\n",
    "df3.head()"
   ]
  },
  {
   "cell_type": "markdown",
   "id": "b3616fc4-66a0-484b-a844-a666cab5bb7a",
   "metadata": {
    "deletable": false,
    "editable": false
   },
   "source": [
    "## Concatenate DataFrames"
   ]
  },
  {
   "cell_type": "markdown",
   "id": "396a641f-d5f6-41b2-8b53-957068be2d32",
   "metadata": {
    "deletable": false,
    "editable": false
   },
   "source": [
    "Great work! You have three clean DataFrames, and now it's time to combine them into a single DataFrame so that you can conduct your analysis. "
   ]
  },
  {
   "cell_type": "code",
   "execution_count": 37,
   "id": "a349dd5d-01fc-4baa-a572-87394dccbbdd",
   "metadata": {
    "deletable": false,
    "editable": false,
    "init_cell": true,
    "tags": []
   },
   "outputs": [
    {
     "data": {
      "text/html": [
       "\n",
       "        <iframe\n",
       "            width=\"600\"\n",
       "            height=\"300\"\n",
       "            src=\"https://player.vimeo.com/video/656313395?h=ccadbc2689\"\n",
       "            frameborder=\"0\"\n",
       "            allowfullscreen\n",
       "            \n",
       "        ></iframe>\n",
       "        "
      ],
      "text/plain": [
       "<IPython.lib.display.VimeoVideo at 0x7a6aae836090>"
      ]
     },
     "execution_count": 37,
     "metadata": {},
     "output_type": "execute_result"
    }
   ],
   "source": [
    "VimeoVideo(\"656313395\", h=\"ccadbc2689\", width=600)"
   ]
  },
  {
   "cell_type": "markdown",
   "id": "e631437c-20ef-4b44-996f-e9bbc56ea389",
   "metadata": {
    "deletable": false,
    "editable": false
   },
   "source": [
    "**Task 1.2.7:** Use [`pd.concat`](https://pandas.pydata.org/pandas-docs/stable/reference/api/pandas.concat.html) to concatenate `df1`, `df2`, `df3` as new DataFrame named `df`. Your new DataFrame should have 1,736 rows and 6 columns:`\"property_type\"`, `\"state\"`, `\"lat\"`, `\"lon\"`, `\"area_m2\"`, and `\"price_usd\"`. \n",
    "\n",
    "- [Concatenate two or more DataFrames using pandas.](../%40textbook/03-pandas-getting-started.ipynb#Concatenating-DataFrames)"
   ]
  },
  {
   "cell_type": "code",
   "execution_count": 42,
   "id": "80aa20e1-521a-4eb1-aefe-4aef099f2aad",
   "metadata": {
    "deletable": false,
    "tags": []
   },
   "outputs": [
    {
     "name": "stdout",
     "output_type": "stream",
     "text": [
      "df type: <class 'pandas.core.frame.DataFrame'>\n",
      "df shape: (34395, 9)\n"
     ]
    },
    {
     "data": {
      "text/html": [
       "<div>\n",
       "<style scoped>\n",
       "    .dataframe tbody tr th:only-of-type {\n",
       "        vertical-align: middle;\n",
       "    }\n",
       "\n",
       "    .dataframe tbody tr th {\n",
       "        vertical-align: top;\n",
       "    }\n",
       "\n",
       "    .dataframe thead th {\n",
       "        text-align: right;\n",
       "    }\n",
       "</style>\n",
       "<table border=\"1\" class=\"dataframe\">\n",
       "  <thead>\n",
       "    <tr style=\"text-align: right;\">\n",
       "      <th></th>\n",
       "      <th>property_type</th>\n",
       "      <th>place_with_parent_names</th>\n",
       "      <th>region</th>\n",
       "      <th>lat-lon</th>\n",
       "      <th>area_m2</th>\n",
       "      <th>price_usd</th>\n",
       "      <th>state</th>\n",
       "      <th>lat</th>\n",
       "      <th>lon</th>\n",
       "    </tr>\n",
       "  </thead>\n",
       "  <tbody>\n",
       "    <tr>\n",
       "      <th>0</th>\n",
       "      <td>apartment</td>\n",
       "      <td>|Brasil|Alagoas|Maceió|</td>\n",
       "      <td>Northeast</td>\n",
       "      <td>-9.6443051,-35.7088142</td>\n",
       "      <td>110.0</td>\n",
       "      <td>187230.85</td>\n",
       "      <td>NaN</td>\n",
       "      <td>NaN</td>\n",
       "      <td>NaN</td>\n",
       "    </tr>\n",
       "    <tr>\n",
       "      <th>1</th>\n",
       "      <td>apartment</td>\n",
       "      <td>|Brasil|Alagoas|Maceió|</td>\n",
       "      <td>Northeast</td>\n",
       "      <td>-9.6430934,-35.70484</td>\n",
       "      <td>65.0</td>\n",
       "      <td>81133.37</td>\n",
       "      <td>NaN</td>\n",
       "      <td>NaN</td>\n",
       "      <td>NaN</td>\n",
       "    </tr>\n",
       "    <tr>\n",
       "      <th>2</th>\n",
       "      <td>house</td>\n",
       "      <td>|Brasil|Alagoas|Maceió|</td>\n",
       "      <td>Northeast</td>\n",
       "      <td>-9.6227033,-35.7297953</td>\n",
       "      <td>211.0</td>\n",
       "      <td>154465.45</td>\n",
       "      <td>NaN</td>\n",
       "      <td>NaN</td>\n",
       "      <td>NaN</td>\n",
       "    </tr>\n",
       "    <tr>\n",
       "      <th>3</th>\n",
       "      <td>apartment</td>\n",
       "      <td>|Brasil|Alagoas|Maceió|</td>\n",
       "      <td>Northeast</td>\n",
       "      <td>-9.622837,-35.719556</td>\n",
       "      <td>99.0</td>\n",
       "      <td>146013.2</td>\n",
       "      <td>NaN</td>\n",
       "      <td>NaN</td>\n",
       "      <td>NaN</td>\n",
       "    </tr>\n",
       "    <tr>\n",
       "      <th>4</th>\n",
       "      <td>apartment</td>\n",
       "      <td>|Brasil|Alagoas|Maceió|</td>\n",
       "      <td>Northeast</td>\n",
       "      <td>-9.654955,-35.700227</td>\n",
       "      <td>55.0</td>\n",
       "      <td>101416.71</td>\n",
       "      <td>NaN</td>\n",
       "      <td>NaN</td>\n",
       "      <td>NaN</td>\n",
       "    </tr>\n",
       "    <tr>\n",
       "      <th>...</th>\n",
       "      <td>...</td>\n",
       "      <td>...</td>\n",
       "      <td>...</td>\n",
       "      <td>...</td>\n",
       "      <td>...</td>\n",
       "      <td>...</td>\n",
       "      <td>...</td>\n",
       "      <td>...</td>\n",
       "      <td>...</td>\n",
       "    </tr>\n",
       "    <tr>\n",
       "      <th>12828</th>\n",
       "      <td>apartment</td>\n",
       "      <td>NaN</td>\n",
       "      <td>Northeast</td>\n",
       "      <td>NaN</td>\n",
       "      <td>74.0</td>\n",
       "      <td>$134,182.11</td>\n",
       "      <td>Pernambuco</td>\n",
       "      <td>-8.044497</td>\n",
       "      <td>-34.909519</td>\n",
       "    </tr>\n",
       "    <tr>\n",
       "      <th>12829</th>\n",
       "      <td>apartment</td>\n",
       "      <td>NaN</td>\n",
       "      <td>Northeast</td>\n",
       "      <td>NaN</td>\n",
       "      <td>91.0</td>\n",
       "      <td>$174,748.79</td>\n",
       "      <td>Pernambuco</td>\n",
       "      <td>-8.056418</td>\n",
       "      <td>-34.909309</td>\n",
       "    </tr>\n",
       "    <tr>\n",
       "      <th>12830</th>\n",
       "      <td>apartment</td>\n",
       "      <td>NaN</td>\n",
       "      <td>Northeast</td>\n",
       "      <td>NaN</td>\n",
       "      <td>115.0</td>\n",
       "      <td>$115,459.02</td>\n",
       "      <td>Pernambuco</td>\n",
       "      <td>-8.137348</td>\n",
       "      <td>-34.909181</td>\n",
       "    </tr>\n",
       "    <tr>\n",
       "      <th>12831</th>\n",
       "      <td>apartment</td>\n",
       "      <td>NaN</td>\n",
       "      <td>Northeast</td>\n",
       "      <td>NaN</td>\n",
       "      <td>76.0</td>\n",
       "      <td>$137,302.62</td>\n",
       "      <td>Pernambuco</td>\n",
       "      <td>-8.113672</td>\n",
       "      <td>-34.896252</td>\n",
       "    </tr>\n",
       "    <tr>\n",
       "      <th>12833</th>\n",
       "      <td>apartment</td>\n",
       "      <td>NaN</td>\n",
       "      <td>Northeast</td>\n",
       "      <td>NaN</td>\n",
       "      <td>99.0</td>\n",
       "      <td>$168,507.77</td>\n",
       "      <td>Pernambuco</td>\n",
       "      <td>-8.057838</td>\n",
       "      <td>-34.882897</td>\n",
       "    </tr>\n",
       "  </tbody>\n",
       "</table>\n",
       "<p>34395 rows × 9 columns</p>\n",
       "</div>"
      ],
      "text/plain": [
       "      property_type  place_with_parent_names     region  \\\n",
       "0         apartment  |Brasil|Alagoas|Maceió|  Northeast   \n",
       "1         apartment  |Brasil|Alagoas|Maceió|  Northeast   \n",
       "2             house  |Brasil|Alagoas|Maceió|  Northeast   \n",
       "3         apartment  |Brasil|Alagoas|Maceió|  Northeast   \n",
       "4         apartment  |Brasil|Alagoas|Maceió|  Northeast   \n",
       "...             ...                      ...        ...   \n",
       "12828     apartment                      NaN  Northeast   \n",
       "12829     apartment                      NaN  Northeast   \n",
       "12830     apartment                      NaN  Northeast   \n",
       "12831     apartment                      NaN  Northeast   \n",
       "12833     apartment                      NaN  Northeast   \n",
       "\n",
       "                      lat-lon  area_m2    price_usd       state       lat  \\\n",
       "0      -9.6443051,-35.7088142    110.0    187230.85         NaN       NaN   \n",
       "1        -9.6430934,-35.70484     65.0     81133.37         NaN       NaN   \n",
       "2      -9.6227033,-35.7297953    211.0    154465.45         NaN       NaN   \n",
       "3        -9.622837,-35.719556     99.0     146013.2         NaN       NaN   \n",
       "4        -9.654955,-35.700227     55.0    101416.71         NaN       NaN   \n",
       "...                       ...      ...          ...         ...       ...   \n",
       "12828                     NaN     74.0  $134,182.11  Pernambuco -8.044497   \n",
       "12829                     NaN     91.0  $174,748.79  Pernambuco -8.056418   \n",
       "12830                     NaN    115.0  $115,459.02  Pernambuco -8.137348   \n",
       "12831                     NaN     76.0  $137,302.62  Pernambuco -8.113672   \n",
       "12833                     NaN     99.0  $168,507.77  Pernambuco -8.057838   \n",
       "\n",
       "             lon  \n",
       "0            NaN  \n",
       "1            NaN  \n",
       "2            NaN  \n",
       "3            NaN  \n",
       "4            NaN  \n",
       "...          ...  \n",
       "12828 -34.909519  \n",
       "12829 -34.909309  \n",
       "12830 -34.909181  \n",
       "12831 -34.896252  \n",
       "12833 -34.882897  \n",
       "\n",
       "[34395 rows x 9 columns]"
      ]
     },
     "execution_count": 42,
     "metadata": {},
     "output_type": "execute_result"
    }
   ],
   "source": [
    "# Concatenate df1, df2, and df3\n",
    "df = pd.concat([df1, df2, df3])\n",
    "\n",
    "# Print object type, shape, and head\n",
    "print(\"df type:\", type(df))\n",
    "print(\"df shape:\", df.shape)\n",
    "df"
   ]
  },
  {
   "cell_type": "code",
   "execution_count": 44,
   "id": "e67dbef5-6f22-499c-b81b-8bb2d56ca5c5",
   "metadata": {
    "tags": []
   },
   "outputs": [
    {
     "data": {
      "text/html": [
       "<div>\n",
       "<style scoped>\n",
       "    .dataframe tbody tr th:only-of-type {\n",
       "        vertical-align: middle;\n",
       "    }\n",
       "\n",
       "    .dataframe tbody tr th {\n",
       "        vertical-align: top;\n",
       "    }\n",
       "\n",
       "    .dataframe thead th {\n",
       "        text-align: right;\n",
       "    }\n",
       "</style>\n",
       "<table border=\"1\" class=\"dataframe\">\n",
       "  <thead>\n",
       "    <tr style=\"text-align: right;\">\n",
       "      <th></th>\n",
       "      <th>property_type</th>\n",
       "      <th>region</th>\n",
       "      <th>area_m2</th>\n",
       "      <th>price_usd</th>\n",
       "      <th>state</th>\n",
       "      <th>lat</th>\n",
       "      <th>lon</th>\n",
       "    </tr>\n",
       "  </thead>\n",
       "  <tbody>\n",
       "    <tr>\n",
       "      <th>0</th>\n",
       "      <td>apartment</td>\n",
       "      <td>Northeast</td>\n",
       "      <td>110.0</td>\n",
       "      <td>187230.85</td>\n",
       "      <td>NaN</td>\n",
       "      <td>NaN</td>\n",
       "      <td>NaN</td>\n",
       "    </tr>\n",
       "    <tr>\n",
       "      <th>1</th>\n",
       "      <td>apartment</td>\n",
       "      <td>Northeast</td>\n",
       "      <td>65.0</td>\n",
       "      <td>81133.37</td>\n",
       "      <td>NaN</td>\n",
       "      <td>NaN</td>\n",
       "      <td>NaN</td>\n",
       "    </tr>\n",
       "    <tr>\n",
       "      <th>2</th>\n",
       "      <td>house</td>\n",
       "      <td>Northeast</td>\n",
       "      <td>211.0</td>\n",
       "      <td>154465.45</td>\n",
       "      <td>NaN</td>\n",
       "      <td>NaN</td>\n",
       "      <td>NaN</td>\n",
       "    </tr>\n",
       "    <tr>\n",
       "      <th>3</th>\n",
       "      <td>apartment</td>\n",
       "      <td>Northeast</td>\n",
       "      <td>99.0</td>\n",
       "      <td>146013.2</td>\n",
       "      <td>NaN</td>\n",
       "      <td>NaN</td>\n",
       "      <td>NaN</td>\n",
       "    </tr>\n",
       "    <tr>\n",
       "      <th>4</th>\n",
       "      <td>apartment</td>\n",
       "      <td>Northeast</td>\n",
       "      <td>55.0</td>\n",
       "      <td>101416.71</td>\n",
       "      <td>NaN</td>\n",
       "      <td>NaN</td>\n",
       "      <td>NaN</td>\n",
       "    </tr>\n",
       "    <tr>\n",
       "      <th>...</th>\n",
       "      <td>...</td>\n",
       "      <td>...</td>\n",
       "      <td>...</td>\n",
       "      <td>...</td>\n",
       "      <td>...</td>\n",
       "      <td>...</td>\n",
       "      <td>...</td>\n",
       "    </tr>\n",
       "    <tr>\n",
       "      <th>12828</th>\n",
       "      <td>apartment</td>\n",
       "      <td>Northeast</td>\n",
       "      <td>74.0</td>\n",
       "      <td>$134,182.11</td>\n",
       "      <td>Pernambuco</td>\n",
       "      <td>-8.044497</td>\n",
       "      <td>-34.909519</td>\n",
       "    </tr>\n",
       "    <tr>\n",
       "      <th>12829</th>\n",
       "      <td>apartment</td>\n",
       "      <td>Northeast</td>\n",
       "      <td>91.0</td>\n",
       "      <td>$174,748.79</td>\n",
       "      <td>Pernambuco</td>\n",
       "      <td>-8.056418</td>\n",
       "      <td>-34.909309</td>\n",
       "    </tr>\n",
       "    <tr>\n",
       "      <th>12830</th>\n",
       "      <td>apartment</td>\n",
       "      <td>Northeast</td>\n",
       "      <td>115.0</td>\n",
       "      <td>$115,459.02</td>\n",
       "      <td>Pernambuco</td>\n",
       "      <td>-8.137348</td>\n",
       "      <td>-34.909181</td>\n",
       "    </tr>\n",
       "    <tr>\n",
       "      <th>12831</th>\n",
       "      <td>apartment</td>\n",
       "      <td>Northeast</td>\n",
       "      <td>76.0</td>\n",
       "      <td>$137,302.62</td>\n",
       "      <td>Pernambuco</td>\n",
       "      <td>-8.113672</td>\n",
       "      <td>-34.896252</td>\n",
       "    </tr>\n",
       "    <tr>\n",
       "      <th>12833</th>\n",
       "      <td>apartment</td>\n",
       "      <td>Northeast</td>\n",
       "      <td>99.0</td>\n",
       "      <td>$168,507.77</td>\n",
       "      <td>Pernambuco</td>\n",
       "      <td>-8.057838</td>\n",
       "      <td>-34.882897</td>\n",
       "    </tr>\n",
       "  </tbody>\n",
       "</table>\n",
       "<p>34395 rows × 7 columns</p>\n",
       "</div>"
      ],
      "text/plain": [
       "      property_type     region  area_m2    price_usd       state       lat  \\\n",
       "0         apartment  Northeast    110.0    187230.85         NaN       NaN   \n",
       "1         apartment  Northeast     65.0     81133.37         NaN       NaN   \n",
       "2             house  Northeast    211.0    154465.45         NaN       NaN   \n",
       "3         apartment  Northeast     99.0     146013.2         NaN       NaN   \n",
       "4         apartment  Northeast     55.0    101416.71         NaN       NaN   \n",
       "...             ...        ...      ...          ...         ...       ...   \n",
       "12828     apartment  Northeast     74.0  $134,182.11  Pernambuco -8.044497   \n",
       "12829     apartment  Northeast     91.0  $174,748.79  Pernambuco -8.056418   \n",
       "12830     apartment  Northeast    115.0  $115,459.02  Pernambuco -8.137348   \n",
       "12831     apartment  Northeast     76.0  $137,302.62  Pernambuco -8.113672   \n",
       "12833     apartment  Northeast     99.0  $168,507.77  Pernambuco -8.057838   \n",
       "\n",
       "             lon  \n",
       "0            NaN  \n",
       "1            NaN  \n",
       "2            NaN  \n",
       "3            NaN  \n",
       "4            NaN  \n",
       "...          ...  \n",
       "12828 -34.909519  \n",
       "12829 -34.909309  \n",
       "12830 -34.909181  \n",
       "12831 -34.896252  \n",
       "12833 -34.882897  \n",
       "\n",
       "[34395 rows x 7 columns]"
      ]
     },
     "execution_count": 44,
     "metadata": {},
     "output_type": "execute_result"
    }
   ],
   "source": [
    "df.drop(columns = [\"place_with_parent_names\",\"lat-lon\"], inplace = True)\n",
    "df.dropna()\n",
    "df"
   ]
  },
  {
   "cell_type": "markdown",
   "id": "7458a11b-7bfa-4165-8956-d24d744723d6",
   "metadata": {
    "deletable": false,
    "editable": false
   },
   "source": [
    "## Save `df`"
   ]
  },
  {
   "cell_type": "markdown",
   "id": "3a42f68a-9754-43bb-8458-a91a6917ecc7",
   "metadata": {
    "deletable": false,
    "editable": false
   },
   "source": [
    "The data is clean and in a single DataFrame, and now you need to save it as a CSV file so that you can examine it in your exploratory data analysis. "
   ]
  },
  {
   "cell_type": "code",
   "execution_count": 41,
   "id": "fc1a359c-b1ec-4ff3-8d42-2c9cdf0476cb",
   "metadata": {
    "deletable": false,
    "editable": false,
    "init_cell": true,
    "tags": []
   },
   "outputs": [
    {
     "data": {
      "text/html": [
       "\n",
       "        <iframe\n",
       "            width=\"600\"\n",
       "            height=\"300\"\n",
       "            src=\"https://player.vimeo.com/video/656312464?h=81ee04de15\"\n",
       "            frameborder=\"0\"\n",
       "            allowfullscreen\n",
       "            \n",
       "        ></iframe>\n",
       "        "
      ],
      "text/plain": [
       "<IPython.lib.display.VimeoVideo at 0x7a6aae0ca890>"
      ]
     },
     "execution_count": 41,
     "metadata": {},
     "output_type": "execute_result"
    }
   ],
   "source": [
    "VimeoVideo(\"656312464\", h=\"81ee04de15\", width=600)"
   ]
  },
  {
   "cell_type": "markdown",
   "id": "a79a7abb-f8cc-4f68-8ba3-1da69e7a2c74",
   "metadata": {
    "deletable": false,
    "editable": false
   },
   "source": [
    "**Task 1.2.8:** Save `df` as a CSV file using the [`to_csv`](https://pandas.pydata.org/docs/reference/api/pandas.DataFrame.to_csv.html) method. The file path should be `\"./data/mexico-real-estate-clean.csv\"`. Be sure to set the `index` argument to `False`.\n",
    "\n",
    "- [What's a CSV file?](../%40textbook/03-pandas-getting-started.ipynb#CSV-Files)\n",
    "- [Save a DataFrame as a CSV file using pandas.](../%40textbook/03-pandas-getting-started.ipynb#Saving-a-DataFrame-as-a-CSV)"
   ]
  },
  {
   "cell_type": "code",
   "execution_count": 45,
   "id": "940b407f-7b32-4312-9933-6127635ce168",
   "metadata": {
    "deletable": false,
    "tags": []
   },
   "outputs": [],
   "source": [
    "# Save df\n",
    "df.to_csv('data/mehicoooo-real-estate-clean.csv', index = False)"
   ]
  },
  {
   "cell_type": "markdown",
   "id": "f06e3298",
   "metadata": {
    "deletable": false,
    "editable": false
   },
   "source": [
    "---\n",
    "Copyright 2023 WorldQuant University. This\n",
    "content is licensed solely for personal use. Redistribution or\n",
    "publication of this material is strictly prohibited.\n"
   ]
  }
 ],
 "metadata": {
  "kernelspec": {
   "display_name": "Python 3 (ipykernel)",
   "language": "python",
   "name": "python3"
  },
  "language_info": {
   "codemirror_mode": {
    "name": "ipython",
    "version": 3
   },
   "file_extension": ".py",
   "mimetype": "text/x-python",
   "name": "python",
   "nbconvert_exporter": "python",
   "pygments_lexer": "ipython3",
   "version": "3.11.4"
  }
 },
 "nbformat": 4,
 "nbformat_minor": 5
}
